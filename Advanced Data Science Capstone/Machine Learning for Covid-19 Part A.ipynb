{
 "cells": [
  {
   "cell_type": "markdown",
   "metadata": {},
   "source": [
    "## Model Definition and Model Training"
   ]
  },
  {
   "cell_type": "markdown",
   "metadata": {},
   "source": [
    "**This Notebook is for Non-Normalised Dataset**"
   ]
  },
  {
   "cell_type": "markdown",
   "metadata": {},
   "source": [
    "### Data Dictionary"
   ]
  },
  {
   "cell_type": "markdown",
   "metadata": {},
   "source": [
    "| Field          | Description                                                                           |\n",
    "|----------------|---------------------------------------------------------------------------------------|\n",
    "|Date |Date of incident\t|\n",
    "|Province/State |If there is a breakdown in states\t|\n",
    "|Lat |Latitude\t|\n",
    "|Lon |Longitude\t|\n",
    "|Confirmed |Confirmed cases\t|\n",
    "|Recovered |Recovered cases\t|\n",
    "|Deaths |Death cases\t|\n",
    "|Active |Active cases\t|"
   ]
  },
  {
   "cell_type": "markdown",
   "metadata": {},
   "source": [
    "## Summary and Results"
   ]
  },
  {
   "cell_type": "markdown",
   "metadata": {},
   "source": [
    "Model performance indicator will be Root Mean Square Error (RMSE) to be as accurate as possible."
   ]
  },
  {
   "cell_type": "markdown",
   "metadata": {},
   "source": [
    "#### Results"
   ]
  },
  {
   "cell_type": "markdown",
   "metadata": {},
   "source": [
    "| Algorithm      | MSE | RMSE | R2 |\n",
    "|----------------|-----|------|----|\n",
    "|Linear Regression | 2.038  | 1.428 |  0.319 |\n",
    "|Extra Trees Regressor | 2.282 | 1.511 | 0.238 |\n",
    "|XGBoost Regressor |1.656  | 1.287 | 0.447  |"
   ]
  },
  {
   "cell_type": "markdown",
   "metadata": {},
   "source": [
    "### Import Libraries"
   ]
  },
  {
   "cell_type": "code",
   "execution_count": 1,
   "metadata": {},
   "outputs": [],
   "source": [
    "import numpy as np\n",
    "import pandas as pd\n",
    "import matplotlib.pyplot as plt\n",
    "import seaborn as sns\n",
    "import sklearn\n",
    "import shap\n",
    "\n",
    "import xgboost as xgb\n",
    "from xgboost import XGBRegressor\n",
    "from xgboost import plot_importance\n",
    "\n",
    "%matplotlib inline\n",
    "sns.set_style('dark')\n",
    "sns.set(font_scale=1.2)\n",
    "\n",
    "from sklearn.linear_model import LinearRegression\n",
    "from sklearn.ensemble import ExtraTreesRegressor\n",
    "\n",
    "from sklearn.pipeline import Pipeline\n",
    "from sklearn.model_selection import RepeatedStratifiedKFold\n",
    "from sklearn.feature_selection import RFE, RFECV, SelectKBest, f_classif, f_regression, chi2\n",
    "\n",
    "from sklearn.inspection import permutation_importance\n",
    "from sklearn.model_selection import cross_val_score, train_test_split, GridSearchCV, RandomizedSearchCV\n",
    "from sklearn.preprocessing import LabelEncoder, StandardScaler, MinMaxScaler, OneHotEncoder\n",
    "from sklearn.pipeline import Pipeline\n",
    "from sklearn.metrics import confusion_matrix, classification_report, mean_absolute_error, mean_squared_error,r2_score\n",
    "from sklearn.metrics import plot_confusion_matrix, plot_precision_recall_curve, plot_roc_curve, accuracy_score\n",
    "from sklearn.metrics import auc, f1_score, precision_score, recall_score, roc_auc_score\n",
    "\n",
    "import warnings\n",
    "warnings.filterwarnings('ignore')\n",
    "\n",
    "import pickle\n",
    "from pickle import dump, load\n",
    "\n",
    "np.random.seed(0)\n",
    "\n",
    "from pycaret.regression import *\n",
    "\n",
    "pd.set_option('display.max_columns',50)\n",
    "#pd.set_option('display.max_rows',100)\n",
    "pd.set_option('display.width', 1000)\n",
    "np.set_printoptions(suppress=True)"
   ]
  },
  {
   "cell_type": "markdown",
   "metadata": {},
   "source": [
    "### Data Exploration and Analysis"
   ]
  },
  {
   "cell_type": "code",
   "execution_count": 2,
   "metadata": {},
   "outputs": [],
   "source": [
    "df = pd.read_csv(\"malaysiacovid2.csv\")"
   ]
  },
  {
   "cell_type": "code",
   "execution_count": 3,
   "metadata": {},
   "outputs": [
    {
     "data": {
      "text/html": [
       "<div>\n",
       "<style scoped>\n",
       "    .dataframe tbody tr th:only-of-type {\n",
       "        vertical-align: middle;\n",
       "    }\n",
       "\n",
       "    .dataframe tbody tr th {\n",
       "        vertical-align: top;\n",
       "    }\n",
       "\n",
       "    .dataframe thead th {\n",
       "        text-align: right;\n",
       "    }\n",
       "</style>\n",
       "<table border=\"1\" class=\"dataframe\">\n",
       "  <thead>\n",
       "    <tr style=\"text-align: right;\">\n",
       "      <th></th>\n",
       "      <th>Date</th>\n",
       "      <th>Confirmed</th>\n",
       "      <th>Recovered</th>\n",
       "      <th>Deaths</th>\n",
       "      <th>Active</th>\n",
       "      <th>ConfirmDiff</th>\n",
       "      <th>DeathsDiff</th>\n",
       "      <th>RecoverDiff</th>\n",
       "      <th>ActiveDiff</th>\n",
       "      <th>Month</th>\n",
       "      <th>Day</th>\n",
       "    </tr>\n",
       "  </thead>\n",
       "  <tbody>\n",
       "    <tr>\n",
       "      <th>0</th>\n",
       "      <td>2020-01-22</td>\n",
       "      <td>0</td>\n",
       "      <td>0</td>\n",
       "      <td>0</td>\n",
       "      <td>0</td>\n",
       "      <td>0.0</td>\n",
       "      <td>0.0</td>\n",
       "      <td>0.0</td>\n",
       "      <td>0.0</td>\n",
       "      <td>1</td>\n",
       "      <td>22</td>\n",
       "    </tr>\n",
       "    <tr>\n",
       "      <th>1</th>\n",
       "      <td>2020-01-23</td>\n",
       "      <td>0</td>\n",
       "      <td>0</td>\n",
       "      <td>0</td>\n",
       "      <td>0</td>\n",
       "      <td>0.0</td>\n",
       "      <td>0.0</td>\n",
       "      <td>0.0</td>\n",
       "      <td>0.0</td>\n",
       "      <td>1</td>\n",
       "      <td>23</td>\n",
       "    </tr>\n",
       "    <tr>\n",
       "      <th>2</th>\n",
       "      <td>2020-01-24</td>\n",
       "      <td>0</td>\n",
       "      <td>0</td>\n",
       "      <td>0</td>\n",
       "      <td>0</td>\n",
       "      <td>0.0</td>\n",
       "      <td>0.0</td>\n",
       "      <td>0.0</td>\n",
       "      <td>0.0</td>\n",
       "      <td>1</td>\n",
       "      <td>24</td>\n",
       "    </tr>\n",
       "    <tr>\n",
       "      <th>3</th>\n",
       "      <td>2020-01-25</td>\n",
       "      <td>3</td>\n",
       "      <td>0</td>\n",
       "      <td>0</td>\n",
       "      <td>3</td>\n",
       "      <td>3.0</td>\n",
       "      <td>0.0</td>\n",
       "      <td>0.0</td>\n",
       "      <td>3.0</td>\n",
       "      <td>1</td>\n",
       "      <td>25</td>\n",
       "    </tr>\n",
       "    <tr>\n",
       "      <th>4</th>\n",
       "      <td>2020-01-26</td>\n",
       "      <td>4</td>\n",
       "      <td>0</td>\n",
       "      <td>0</td>\n",
       "      <td>4</td>\n",
       "      <td>1.0</td>\n",
       "      <td>0.0</td>\n",
       "      <td>0.0</td>\n",
       "      <td>1.0</td>\n",
       "      <td>1</td>\n",
       "      <td>26</td>\n",
       "    </tr>\n",
       "  </tbody>\n",
       "</table>\n",
       "</div>"
      ],
      "text/plain": [
       "         Date  Confirmed  Recovered  Deaths  Active  ConfirmDiff  DeathsDiff  RecoverDiff  ActiveDiff  Month  Day\n",
       "0  2020-01-22          0          0       0       0          0.0         0.0          0.0         0.0      1   22\n",
       "1  2020-01-23          0          0       0       0          0.0         0.0          0.0         0.0      1   23\n",
       "2  2020-01-24          0          0       0       0          0.0         0.0          0.0         0.0      1   24\n",
       "3  2020-01-25          3          0       0       3          3.0         0.0          0.0         3.0      1   25\n",
       "4  2020-01-26          4          0       0       4          1.0         0.0          0.0         1.0      1   26"
      ]
     },
     "execution_count": 3,
     "metadata": {},
     "output_type": "execute_result"
    }
   ],
   "source": [
    "df.head()"
   ]
  },
  {
   "cell_type": "code",
   "execution_count": 4,
   "metadata": {},
   "outputs": [
    {
     "name": "stdout",
     "output_type": "stream",
     "text": [
      "<class 'pandas.core.frame.DataFrame'>\n",
      "RangeIndex: 309 entries, 0 to 308\n",
      "Data columns (total 11 columns):\n",
      " #   Column       Non-Null Count  Dtype  \n",
      "---  ------       --------------  -----  \n",
      " 0   Date         309 non-null    object \n",
      " 1   Confirmed    309 non-null    int64  \n",
      " 2   Recovered    309 non-null    int64  \n",
      " 3   Deaths       309 non-null    int64  \n",
      " 4   Active       309 non-null    int64  \n",
      " 5   ConfirmDiff  309 non-null    float64\n",
      " 6   DeathsDiff   309 non-null    float64\n",
      " 7   RecoverDiff  309 non-null    float64\n",
      " 8   ActiveDiff   309 non-null    float64\n",
      " 9   Month        309 non-null    int64  \n",
      " 10  Day          309 non-null    int64  \n",
      "dtypes: float64(4), int64(6), object(1)\n",
      "memory usage: 26.7+ KB\n"
     ]
    }
   ],
   "source": [
    "df.info()"
   ]
  },
  {
   "cell_type": "code",
   "execution_count": 5,
   "metadata": {},
   "outputs": [
    {
     "data": {
      "text/html": [
       "<div>\n",
       "<style scoped>\n",
       "    .dataframe tbody tr th:only-of-type {\n",
       "        vertical-align: middle;\n",
       "    }\n",
       "\n",
       "    .dataframe tbody tr th {\n",
       "        vertical-align: top;\n",
       "    }\n",
       "\n",
       "    .dataframe thead th {\n",
       "        text-align: right;\n",
       "    }\n",
       "</style>\n",
       "<table border=\"1\" class=\"dataframe\">\n",
       "  <thead>\n",
       "    <tr style=\"text-align: right;\">\n",
       "      <th></th>\n",
       "      <th>Date</th>\n",
       "      <th>Confirmed</th>\n",
       "      <th>Recovered</th>\n",
       "      <th>Deaths</th>\n",
       "      <th>Active</th>\n",
       "      <th>ConfirmDiff</th>\n",
       "      <th>DeathsDiff</th>\n",
       "      <th>RecoverDiff</th>\n",
       "      <th>ActiveDiff</th>\n",
       "      <th>Month</th>\n",
       "      <th>Day</th>\n",
       "    </tr>\n",
       "  </thead>\n",
       "  <tbody>\n",
       "    <tr>\n",
       "      <th>count</th>\n",
       "      <td>309</td>\n",
       "      <td>309.000000</td>\n",
       "      <td>309.000000</td>\n",
       "      <td>309.000000</td>\n",
       "      <td>309.000000</td>\n",
       "      <td>309.000000</td>\n",
       "      <td>309.000000</td>\n",
       "      <td>309.000000</td>\n",
       "      <td>309.000000</td>\n",
       "      <td>309.000000</td>\n",
       "      <td>309.000000</td>\n",
       "    </tr>\n",
       "    <tr>\n",
       "      <th>unique</th>\n",
       "      <td>309</td>\n",
       "      <td>NaN</td>\n",
       "      <td>NaN</td>\n",
       "      <td>NaN</td>\n",
       "      <td>NaN</td>\n",
       "      <td>NaN</td>\n",
       "      <td>NaN</td>\n",
       "      <td>NaN</td>\n",
       "      <td>NaN</td>\n",
       "      <td>NaN</td>\n",
       "      <td>NaN</td>\n",
       "    </tr>\n",
       "    <tr>\n",
       "      <th>top</th>\n",
       "      <td>2020-11-19</td>\n",
       "      <td>NaN</td>\n",
       "      <td>NaN</td>\n",
       "      <td>NaN</td>\n",
       "      <td>NaN</td>\n",
       "      <td>NaN</td>\n",
       "      <td>NaN</td>\n",
       "      <td>NaN</td>\n",
       "      <td>NaN</td>\n",
       "      <td>NaN</td>\n",
       "      <td>NaN</td>\n",
       "    </tr>\n",
       "    <tr>\n",
       "      <th>freq</th>\n",
       "      <td>1</td>\n",
       "      <td>NaN</td>\n",
       "      <td>NaN</td>\n",
       "      <td>NaN</td>\n",
       "      <td>NaN</td>\n",
       "      <td>NaN</td>\n",
       "      <td>NaN</td>\n",
       "      <td>NaN</td>\n",
       "      <td>NaN</td>\n",
       "      <td>NaN</td>\n",
       "      <td>NaN</td>\n",
       "    </tr>\n",
       "    <tr>\n",
       "      <th>mean</th>\n",
       "      <td>NaN</td>\n",
       "      <td>10535.511327</td>\n",
       "      <td>8236.019417</td>\n",
       "      <td>111.669903</td>\n",
       "      <td>2187.822006</td>\n",
       "      <td>193.582524</td>\n",
       "      <td>1.116505</td>\n",
       "      <td>150.488673</td>\n",
       "      <td>41.977346</td>\n",
       "      <td>6.265372</td>\n",
       "      <td>15.857605</td>\n",
       "    </tr>\n",
       "    <tr>\n",
       "      <th>std</th>\n",
       "      <td>NaN</td>\n",
       "      <td>12082.498984</td>\n",
       "      <td>8826.720903</td>\n",
       "      <td>81.039279</td>\n",
       "      <td>3547.802649</td>\n",
       "      <td>359.375952</td>\n",
       "      <td>1.988445</td>\n",
       "      <td>306.753450</td>\n",
       "      <td>172.885226</td>\n",
       "      <td>2.943317</td>\n",
       "      <td>8.814048</td>\n",
       "    </tr>\n",
       "    <tr>\n",
       "      <th>min</th>\n",
       "      <td>NaN</td>\n",
       "      <td>0.000000</td>\n",
       "      <td>0.000000</td>\n",
       "      <td>0.000000</td>\n",
       "      <td>0.000000</td>\n",
       "      <td>0.000000</td>\n",
       "      <td>0.000000</td>\n",
       "      <td>0.000000</td>\n",
       "      <td>-1382.000000</td>\n",
       "      <td>1.000000</td>\n",
       "      <td>1.000000</td>\n",
       "    </tr>\n",
       "    <tr>\n",
       "      <th>25%</th>\n",
       "      <td>NaN</td>\n",
       "      <td>4119.000000</td>\n",
       "      <td>1487.000000</td>\n",
       "      <td>65.000000</td>\n",
       "      <td>153.000000</td>\n",
       "      <td>7.000000</td>\n",
       "      <td>0.000000</td>\n",
       "      <td>6.000000</td>\n",
       "      <td>-12.000000</td>\n",
       "      <td>4.000000</td>\n",
       "      <td>8.000000</td>\n",
       "    </tr>\n",
       "    <tr>\n",
       "      <th>50%</th>\n",
       "      <td>NaN</td>\n",
       "      <td>8596.000000</td>\n",
       "      <td>8231.000000</td>\n",
       "      <td>121.000000</td>\n",
       "      <td>751.000000</td>\n",
       "      <td>33.000000</td>\n",
       "      <td>0.000000</td>\n",
       "      <td>28.000000</td>\n",
       "      <td>3.000000</td>\n",
       "      <td>6.000000</td>\n",
       "      <td>16.000000</td>\n",
       "    </tr>\n",
       "    <tr>\n",
       "      <th>75%</th>\n",
       "      <td>NaN</td>\n",
       "      <td>9583.000000</td>\n",
       "      <td>9143.000000</td>\n",
       "      <td>128.000000</td>\n",
       "      <td>1973.000000</td>\n",
       "      <td>150.000000</td>\n",
       "      <td>1.000000</td>\n",
       "      <td>96.000000</td>\n",
       "      <td>51.000000</td>\n",
       "      <td>9.000000</td>\n",
       "      <td>23.000000</td>\n",
       "    </tr>\n",
       "    <tr>\n",
       "      <th>max</th>\n",
       "      <td>NaN</td>\n",
       "      <td>59817.000000</td>\n",
       "      <td>46501.000000</td>\n",
       "      <td>345.000000</td>\n",
       "      <td>14353.000000</td>\n",
       "      <td>2188.000000</td>\n",
       "      <td>12.000000</td>\n",
       "      <td>2348.000000</td>\n",
       "      <td>1027.000000</td>\n",
       "      <td>11.000000</td>\n",
       "      <td>31.000000</td>\n",
       "    </tr>\n",
       "  </tbody>\n",
       "</table>\n",
       "</div>"
      ],
      "text/plain": [
       "              Date     Confirmed     Recovered      Deaths        Active  ConfirmDiff  DeathsDiff  RecoverDiff   ActiveDiff       Month         Day\n",
       "count          309    309.000000    309.000000  309.000000    309.000000   309.000000  309.000000   309.000000   309.000000  309.000000  309.000000\n",
       "unique         309           NaN           NaN         NaN           NaN          NaN         NaN          NaN          NaN         NaN         NaN\n",
       "top     2020-11-19           NaN           NaN         NaN           NaN          NaN         NaN          NaN          NaN         NaN         NaN\n",
       "freq             1           NaN           NaN         NaN           NaN          NaN         NaN          NaN          NaN         NaN         NaN\n",
       "mean           NaN  10535.511327   8236.019417  111.669903   2187.822006   193.582524    1.116505   150.488673    41.977346    6.265372   15.857605\n",
       "std            NaN  12082.498984   8826.720903   81.039279   3547.802649   359.375952    1.988445   306.753450   172.885226    2.943317    8.814048\n",
       "min            NaN      0.000000      0.000000    0.000000      0.000000     0.000000    0.000000     0.000000 -1382.000000    1.000000    1.000000\n",
       "25%            NaN   4119.000000   1487.000000   65.000000    153.000000     7.000000    0.000000     6.000000   -12.000000    4.000000    8.000000\n",
       "50%            NaN   8596.000000   8231.000000  121.000000    751.000000    33.000000    0.000000    28.000000     3.000000    6.000000   16.000000\n",
       "75%            NaN   9583.000000   9143.000000  128.000000   1973.000000   150.000000    1.000000    96.000000    51.000000    9.000000   23.000000\n",
       "max            NaN  59817.000000  46501.000000  345.000000  14353.000000  2188.000000   12.000000  2348.000000  1027.000000   11.000000   31.000000"
      ]
     },
     "execution_count": 5,
     "metadata": {},
     "output_type": "execute_result"
    }
   ],
   "source": [
    "df.describe(include='all')"
   ]
  },
  {
   "cell_type": "code",
   "execution_count": 6,
   "metadata": {},
   "outputs": [
    {
     "data": {
      "text/plain": [
       "(309, 11)"
      ]
     },
     "execution_count": 6,
     "metadata": {},
     "output_type": "execute_result"
    }
   ],
   "source": [
    "df.shape"
   ]
  },
  {
   "cell_type": "code",
   "execution_count": 7,
   "metadata": {},
   "outputs": [
    {
     "data": {
      "text/plain": [
       "Index(['Date', 'Confirmed', 'Recovered', 'Deaths', 'Active', 'ConfirmDiff', 'DeathsDiff', 'RecoverDiff', 'ActiveDiff', 'Month', 'Day'], dtype='object')"
      ]
     },
     "execution_count": 7,
     "metadata": {},
     "output_type": "execute_result"
    }
   ],
   "source": [
    "df.columns"
   ]
  },
  {
   "cell_type": "markdown",
   "metadata": {},
   "source": [
    "### Drop unwanted features"
   ]
  },
  {
   "cell_type": "code",
   "execution_count": 8,
   "metadata": {},
   "outputs": [],
   "source": [
    "df.drop(['Date', 'Confirmed', 'Recovered', 'Deaths', 'Active','ActiveDiff'],axis=1,inplace=True)"
   ]
  },
  {
   "cell_type": "code",
   "execution_count": 14,
   "metadata": {},
   "outputs": [
    {
     "data": {
      "text/html": [
       "<div>\n",
       "<style scoped>\n",
       "    .dataframe tbody tr th:only-of-type {\n",
       "        vertical-align: middle;\n",
       "    }\n",
       "\n",
       "    .dataframe tbody tr th {\n",
       "        vertical-align: top;\n",
       "    }\n",
       "\n",
       "    .dataframe thead th {\n",
       "        text-align: right;\n",
       "    }\n",
       "</style>\n",
       "<table border=\"1\" class=\"dataframe\">\n",
       "  <thead>\n",
       "    <tr style=\"text-align: right;\">\n",
       "      <th></th>\n",
       "      <th>Month</th>\n",
       "      <th>Day</th>\n",
       "      <th>ConfirmDiff</th>\n",
       "      <th>RecoverDiff</th>\n",
       "      <th>DeathsDiff</th>\n",
       "    </tr>\n",
       "  </thead>\n",
       "  <tbody>\n",
       "    <tr>\n",
       "      <th>0</th>\n",
       "      <td>1</td>\n",
       "      <td>22</td>\n",
       "      <td>0.0</td>\n",
       "      <td>0.0</td>\n",
       "      <td>0.0</td>\n",
       "    </tr>\n",
       "    <tr>\n",
       "      <th>1</th>\n",
       "      <td>1</td>\n",
       "      <td>23</td>\n",
       "      <td>0.0</td>\n",
       "      <td>0.0</td>\n",
       "      <td>0.0</td>\n",
       "    </tr>\n",
       "    <tr>\n",
       "      <th>2</th>\n",
       "      <td>1</td>\n",
       "      <td>24</td>\n",
       "      <td>0.0</td>\n",
       "      <td>0.0</td>\n",
       "      <td>0.0</td>\n",
       "    </tr>\n",
       "    <tr>\n",
       "      <th>3</th>\n",
       "      <td>1</td>\n",
       "      <td>25</td>\n",
       "      <td>3.0</td>\n",
       "      <td>0.0</td>\n",
       "      <td>0.0</td>\n",
       "    </tr>\n",
       "    <tr>\n",
       "      <th>4</th>\n",
       "      <td>1</td>\n",
       "      <td>26</td>\n",
       "      <td>1.0</td>\n",
       "      <td>0.0</td>\n",
       "      <td>0.0</td>\n",
       "    </tr>\n",
       "  </tbody>\n",
       "</table>\n",
       "</div>"
      ],
      "text/plain": [
       "   Month  Day  ConfirmDiff  RecoverDiff  DeathsDiff\n",
       "0      1   22          0.0          0.0         0.0\n",
       "1      1   23          0.0          0.0         0.0\n",
       "2      1   24          0.0          0.0         0.0\n",
       "3      1   25          3.0          0.0         0.0\n",
       "4      1   26          1.0          0.0         0.0"
      ]
     },
     "execution_count": 14,
     "metadata": {},
     "output_type": "execute_result"
    }
   ],
   "source": [
    "df.head()"
   ]
  },
  {
   "cell_type": "code",
   "execution_count": 10,
   "metadata": {},
   "outputs": [
    {
     "data": {
      "text/plain": [
       "Index(['ConfirmDiff', 'DeathsDiff', 'RecoverDiff', 'Month', 'Day'], dtype='object')"
      ]
     },
     "execution_count": 10,
     "metadata": {},
     "output_type": "execute_result"
    }
   ],
   "source": [
    "df.columns"
   ]
  },
  {
   "cell_type": "code",
   "execution_count": 11,
   "metadata": {},
   "outputs": [],
   "source": [
    "df = df[['Month', 'Day','ConfirmDiff','RecoverDiff', 'DeathsDiff']]"
   ]
  },
  {
   "cell_type": "code",
   "execution_count": 13,
   "metadata": {},
   "outputs": [
    {
     "data": {
      "text/html": [
       "<div>\n",
       "<style scoped>\n",
       "    .dataframe tbody tr th:only-of-type {\n",
       "        vertical-align: middle;\n",
       "    }\n",
       "\n",
       "    .dataframe tbody tr th {\n",
       "        vertical-align: top;\n",
       "    }\n",
       "\n",
       "    .dataframe thead th {\n",
       "        text-align: right;\n",
       "    }\n",
       "</style>\n",
       "<table border=\"1\" class=\"dataframe\">\n",
       "  <thead>\n",
       "    <tr style=\"text-align: right;\">\n",
       "      <th></th>\n",
       "      <th>Month</th>\n",
       "      <th>Day</th>\n",
       "      <th>ConfirmDiff</th>\n",
       "      <th>RecoverDiff</th>\n",
       "      <th>DeathsDiff</th>\n",
       "    </tr>\n",
       "  </thead>\n",
       "  <tbody>\n",
       "    <tr>\n",
       "      <th>0</th>\n",
       "      <td>1</td>\n",
       "      <td>22</td>\n",
       "      <td>0.0</td>\n",
       "      <td>0.0</td>\n",
       "      <td>0.0</td>\n",
       "    </tr>\n",
       "    <tr>\n",
       "      <th>1</th>\n",
       "      <td>1</td>\n",
       "      <td>23</td>\n",
       "      <td>0.0</td>\n",
       "      <td>0.0</td>\n",
       "      <td>0.0</td>\n",
       "    </tr>\n",
       "    <tr>\n",
       "      <th>2</th>\n",
       "      <td>1</td>\n",
       "      <td>24</td>\n",
       "      <td>0.0</td>\n",
       "      <td>0.0</td>\n",
       "      <td>0.0</td>\n",
       "    </tr>\n",
       "    <tr>\n",
       "      <th>3</th>\n",
       "      <td>1</td>\n",
       "      <td>25</td>\n",
       "      <td>3.0</td>\n",
       "      <td>0.0</td>\n",
       "      <td>0.0</td>\n",
       "    </tr>\n",
       "    <tr>\n",
       "      <th>4</th>\n",
       "      <td>1</td>\n",
       "      <td>26</td>\n",
       "      <td>1.0</td>\n",
       "      <td>0.0</td>\n",
       "      <td>0.0</td>\n",
       "    </tr>\n",
       "  </tbody>\n",
       "</table>\n",
       "</div>"
      ],
      "text/plain": [
       "   Month  Day  ConfirmDiff  RecoverDiff  DeathsDiff\n",
       "0      1   22          0.0          0.0         0.0\n",
       "1      1   23          0.0          0.0         0.0\n",
       "2      1   24          0.0          0.0         0.0\n",
       "3      1   25          3.0          0.0         0.0\n",
       "4      1   26          1.0          0.0         0.0"
      ]
     },
     "execution_count": 13,
     "metadata": {},
     "output_type": "execute_result"
    }
   ],
   "source": [
    "df.head()"
   ]
  },
  {
   "cell_type": "markdown",
   "metadata": {},
   "source": [
    "### Data Visualization"
   ]
  },
  {
   "cell_type": "markdown",
   "metadata": {},
   "source": [
    "### Univariate Data Exploration"
   ]
  },
  {
   "cell_type": "code",
   "execution_count": 15,
   "metadata": {},
   "outputs": [
    {
     "data": {
      "image/png": "[encoded data removed]",
      "text/plain": [
       "<Figure size 1440x1080 with 6 Axes>"
      ]
     },
     "metadata": {},
     "output_type": "display_data"
    }
   ],
   "source": [
    "df.hist(bins=50, figsize=(20,15))\n",
    "plt.suptitle('Feature Distribution', x=0.5, y=1.02, ha='center', fontsize=20)\n",
    "plt.tight_layout()\n",
    "plt.show()"
   ]
  },
  {
   "cell_type": "code",
   "execution_count": 16,
   "metadata": {},
   "outputs": [
    {
     "data": {
      "image/png": "[encoded data removed]",
      "text/plain": [
       "<Figure size 1440x720 with 1 Axes>"
      ]
     },
     "metadata": {},
     "output_type": "display_data"
    }
   ],
   "source": [
    "df.boxplot(figsize=(20,10))\n",
    "plt.suptitle('BoxPlot of Features', x=0.5, y=1.02, ha='center', fontsize=20)\n",
    "plt.tight_layout()\n",
    "plt.show()"
   ]
  },
  {
   "cell_type": "markdown",
   "metadata": {},
   "source": [
    "### Correlation"
   ]
  },
  {
   "cell_type": "code",
   "execution_count": 17,
   "metadata": {},
   "outputs": [
    {
     "data": {
      "text/html": [
       "<div>\n",
       "<style scoped>\n",
       "    .dataframe tbody tr th:only-of-type {\n",
       "        vertical-align: middle;\n",
       "    }\n",
       "\n",
       "    .dataframe tbody tr th {\n",
       "        vertical-align: top;\n",
       "    }\n",
       "\n",
       "    .dataframe thead th {\n",
       "        text-align: right;\n",
       "    }\n",
       "</style>\n",
       "<table border=\"1\" class=\"dataframe\">\n",
       "  <thead>\n",
       "    <tr style=\"text-align: right;\">\n",
       "      <th></th>\n",
       "      <th>Month</th>\n",
       "      <th>Day</th>\n",
       "      <th>ConfirmDiff</th>\n",
       "      <th>RecoverDiff</th>\n",
       "      <th>DeathsDiff</th>\n",
       "    </tr>\n",
       "  </thead>\n",
       "  <tbody>\n",
       "    <tr>\n",
       "      <th>Month</th>\n",
       "      <td>1.000000</td>\n",
       "      <td>-0.098535</td>\n",
       "      <td>0.604269</td>\n",
       "      <td>0.545945</td>\n",
       "      <td>0.341420</td>\n",
       "    </tr>\n",
       "    <tr>\n",
       "      <th>Day</th>\n",
       "      <td>-0.098535</td>\n",
       "      <td>1.000000</td>\n",
       "      <td>0.002108</td>\n",
       "      <td>0.027499</td>\n",
       "      <td>0.035592</td>\n",
       "    </tr>\n",
       "    <tr>\n",
       "      <th>ConfirmDiff</th>\n",
       "      <td>0.604269</td>\n",
       "      <td>0.002108</td>\n",
       "      <td>1.000000</td>\n",
       "      <td>0.875959</td>\n",
       "      <td>0.641523</td>\n",
       "    </tr>\n",
       "    <tr>\n",
       "      <th>RecoverDiff</th>\n",
       "      <td>0.545945</td>\n",
       "      <td>0.027499</td>\n",
       "      <td>0.875959</td>\n",
       "      <td>1.000000</td>\n",
       "      <td>0.561145</td>\n",
       "    </tr>\n",
       "    <tr>\n",
       "      <th>DeathsDiff</th>\n",
       "      <td>0.341420</td>\n",
       "      <td>0.035592</td>\n",
       "      <td>0.641523</td>\n",
       "      <td>0.561145</td>\n",
       "      <td>1.000000</td>\n",
       "    </tr>\n",
       "  </tbody>\n",
       "</table>\n",
       "</div>"
      ],
      "text/plain": [
       "                Month       Day  ConfirmDiff  RecoverDiff  DeathsDiff\n",
       "Month        1.000000 -0.098535     0.604269     0.545945    0.341420\n",
       "Day         -0.098535  1.000000     0.002108     0.027499    0.035592\n",
       "ConfirmDiff  0.604269  0.002108     1.000000     0.875959    0.641523\n",
       "RecoverDiff  0.545945  0.027499     0.875959     1.000000    0.561145\n",
       "DeathsDiff   0.341420  0.035592     0.641523     0.561145    1.000000"
      ]
     },
     "execution_count": 17,
     "metadata": {},
     "output_type": "execute_result"
    }
   ],
   "source": [
    "df.corr()"
   ]
  },
  {
   "cell_type": "code",
   "execution_count": 18,
   "metadata": {},
   "outputs": [
    {
     "data": {
      "image/png": "[encoded data removed]",
      "text/plain": [
       "<Figure size 1152x648 with 2 Axes>"
      ]
     },
     "metadata": {},
     "output_type": "display_data"
    }
   ],
   "source": [
    "plt.figure(figsize=(16,9))\n",
    "sns.heatmap(df.corr(),cmap=\"coolwarm\",annot=True,fmt='.2f',linewidths=2)\n",
    "plt.show()"
   ]
  },
  {
   "cell_type": "markdown",
   "metadata": {},
   "source": [
    "### Pairplots"
   ]
  },
  {
   "cell_type": "code",
   "execution_count": 19,
   "metadata": {},
   "outputs": [
    {
     "data": {
      "image/png": "[encoded data removed]",
      "text/plain": [
       "<Figure size 900x900 with 30 Axes>"
      ]
     },
     "metadata": {},
     "output_type": "display_data"
    }
   ],
   "source": [
    "sns.pairplot(df)\n",
    "plt.suptitle('Pairplots of features', x=0.5, y=1.02, ha='center', fontsize='large')\n",
    "plt.show()"
   ]
  },
  {
   "cell_type": "markdown",
   "metadata": {},
   "source": [
    "### Treat Duplicate Values"
   ]
  },
  {
   "cell_type": "code",
   "execution_count": 20,
   "metadata": {},
   "outputs": [
    {
     "data": {
      "text/plain": [
       "0"
      ]
     },
     "execution_count": 20,
     "metadata": {},
     "output_type": "execute_result"
    }
   ],
   "source": [
    "df.duplicated(keep='first').sum()"
   ]
  },
  {
   "cell_type": "markdown",
   "metadata": {},
   "source": [
    "### Treat Outliers"
   ]
  },
  {
   "cell_type": "code",
   "execution_count": 21,
   "metadata": {},
   "outputs": [
    {
     "data": {
      "text/html": [
       "<div>\n",
       "<style scoped>\n",
       "    .dataframe tbody tr th:only-of-type {\n",
       "        vertical-align: middle;\n",
       "    }\n",
       "\n",
       "    .dataframe tbody tr th {\n",
       "        vertical-align: top;\n",
       "    }\n",
       "\n",
       "    .dataframe thead th {\n",
       "        text-align: right;\n",
       "    }\n",
       "</style>\n",
       "<table border=\"1\" class=\"dataframe\">\n",
       "  <thead>\n",
       "    <tr style=\"text-align: right;\">\n",
       "      <th></th>\n",
       "      <th>Month</th>\n",
       "      <th>Day</th>\n",
       "      <th>ConfirmDiff</th>\n",
       "      <th>RecoverDiff</th>\n",
       "      <th>DeathsDiff</th>\n",
       "    </tr>\n",
       "  </thead>\n",
       "  <tbody>\n",
       "    <tr>\n",
       "      <th>count</th>\n",
       "      <td>309.000000</td>\n",
       "      <td>309.000000</td>\n",
       "      <td>309.000000</td>\n",
       "      <td>309.000000</td>\n",
       "      <td>309.000000</td>\n",
       "    </tr>\n",
       "    <tr>\n",
       "      <th>mean</th>\n",
       "      <td>6.265372</td>\n",
       "      <td>15.857605</td>\n",
       "      <td>193.582524</td>\n",
       "      <td>150.488673</td>\n",
       "      <td>1.116505</td>\n",
       "    </tr>\n",
       "    <tr>\n",
       "      <th>std</th>\n",
       "      <td>2.943317</td>\n",
       "      <td>8.814048</td>\n",
       "      <td>359.375952</td>\n",
       "      <td>306.753450</td>\n",
       "      <td>1.988445</td>\n",
       "    </tr>\n",
       "    <tr>\n",
       "      <th>min</th>\n",
       "      <td>1.000000</td>\n",
       "      <td>1.000000</td>\n",
       "      <td>0.000000</td>\n",
       "      <td>0.000000</td>\n",
       "      <td>0.000000</td>\n",
       "    </tr>\n",
       "    <tr>\n",
       "      <th>25%</th>\n",
       "      <td>4.000000</td>\n",
       "      <td>8.000000</td>\n",
       "      <td>7.000000</td>\n",
       "      <td>6.000000</td>\n",
       "      <td>0.000000</td>\n",
       "    </tr>\n",
       "    <tr>\n",
       "      <th>50%</th>\n",
       "      <td>6.000000</td>\n",
       "      <td>16.000000</td>\n",
       "      <td>33.000000</td>\n",
       "      <td>28.000000</td>\n",
       "      <td>0.000000</td>\n",
       "    </tr>\n",
       "    <tr>\n",
       "      <th>75%</th>\n",
       "      <td>9.000000</td>\n",
       "      <td>23.000000</td>\n",
       "      <td>150.000000</td>\n",
       "      <td>96.000000</td>\n",
       "      <td>1.000000</td>\n",
       "    </tr>\n",
       "    <tr>\n",
       "      <th>max</th>\n",
       "      <td>11.000000</td>\n",
       "      <td>31.000000</td>\n",
       "      <td>2188.000000</td>\n",
       "      <td>2348.000000</td>\n",
       "      <td>12.000000</td>\n",
       "    </tr>\n",
       "  </tbody>\n",
       "</table>\n",
       "</div>"
      ],
      "text/plain": [
       "            Month         Day  ConfirmDiff  RecoverDiff  DeathsDiff\n",
       "count  309.000000  309.000000   309.000000   309.000000  309.000000\n",
       "mean     6.265372   15.857605   193.582524   150.488673    1.116505\n",
       "std      2.943317    8.814048   359.375952   306.753450    1.988445\n",
       "min      1.000000    1.000000     0.000000     0.000000    0.000000\n",
       "25%      4.000000    8.000000     7.000000     6.000000    0.000000\n",
       "50%      6.000000   16.000000    33.000000    28.000000    0.000000\n",
       "75%      9.000000   23.000000   150.000000    96.000000    1.000000\n",
       "max     11.000000   31.000000  2188.000000  2348.000000   12.000000"
      ]
     },
     "execution_count": 21,
     "metadata": {},
     "output_type": "execute_result"
    }
   ],
   "source": [
    "df.describe()"
   ]
  },
  {
   "cell_type": "markdown",
   "metadata": {},
   "source": [
    "#### No treatment of outliers needed"
   ]
  },
  {
   "cell_type": "markdown",
   "metadata": {},
   "source": [
    "### Treat Data Types"
   ]
  },
  {
   "cell_type": "code",
   "execution_count": 22,
   "metadata": {},
   "outputs": [
    {
     "name": "stdout",
     "output_type": "stream",
     "text": [
      "<class 'pandas.core.frame.DataFrame'>\n",
      "RangeIndex: 309 entries, 0 to 308\n",
      "Data columns (total 5 columns):\n",
      " #   Column       Non-Null Count  Dtype  \n",
      "---  ------       --------------  -----  \n",
      " 0   Month        309 non-null    int64  \n",
      " 1   Day          309 non-null    int64  \n",
      " 2   ConfirmDiff  309 non-null    float64\n",
      " 3   RecoverDiff  309 non-null    float64\n",
      " 4   DeathsDiff   309 non-null    float64\n",
      "dtypes: float64(3), int64(2)\n",
      "memory usage: 12.2 KB\n"
     ]
    }
   ],
   "source": [
    "df.info()"
   ]
  },
  {
   "cell_type": "code",
   "execution_count": 23,
   "metadata": {},
   "outputs": [],
   "source": [
    "df[\"Month\"] = df[\"Month\"].astype(\"category\")"
   ]
  },
  {
   "cell_type": "code",
   "execution_count": 24,
   "metadata": {},
   "outputs": [],
   "source": [
    "df[\"Day\"] = df[\"Day\"].astype(\"category\")"
   ]
  },
  {
   "cell_type": "code",
   "execution_count": 25,
   "metadata": {},
   "outputs": [
    {
     "name": "stdout",
     "output_type": "stream",
     "text": [
      "<class 'pandas.core.frame.DataFrame'>\n",
      "RangeIndex: 309 entries, 0 to 308\n",
      "Data columns (total 5 columns):\n",
      " #   Column       Non-Null Count  Dtype   \n",
      "---  ------       --------------  -----   \n",
      " 0   Month        309 non-null    category\n",
      " 1   Day          309 non-null    category\n",
      " 2   ConfirmDiff  309 non-null    float64 \n",
      " 3   RecoverDiff  309 non-null    float64 \n",
      " 4   DeathsDiff   309 non-null    float64 \n",
      "dtypes: category(2), float64(3)\n",
      "memory usage: 9.9 KB\n"
     ]
    }
   ],
   "source": [
    "df.info()"
   ]
  },
  {
   "cell_type": "markdown",
   "metadata": {},
   "source": [
    "### Create and save processed dataset"
   ]
  },
  {
   "cell_type": "code",
   "execution_count": 26,
   "metadata": {},
   "outputs": [],
   "source": [
    "#df.to_csv(\"traincovid.csv\",index=False)"
   ]
  },
  {
   "cell_type": "code",
   "execution_count": 27,
   "metadata": {},
   "outputs": [
    {
     "data": {
      "text/plain": [
       "10    31\n",
       "8     31\n",
       "7     31\n",
       "5     31\n",
       "3     31\n",
       "9     30\n",
       "6     30\n",
       "4     30\n",
       "2     29\n",
       "11    25\n",
       "1     10\n",
       "Name: Month, dtype: int64"
      ]
     },
     "execution_count": 27,
     "metadata": {},
     "output_type": "execute_result"
    }
   ],
   "source": [
    "df[\"Month\"].value_counts()"
   ]
  },
  {
   "cell_type": "code",
   "execution_count": 28,
   "metadata": {},
   "outputs": [
    {
     "data": {
      "text/plain": [
       "23    11\n",
       "25    11\n",
       "24    11\n",
       "22    11\n",
       "6     10\n",
       "11    10\n",
       "10    10\n",
       "9     10\n",
       "8     10\n",
       "7     10\n",
       "16    10\n",
       "13    10\n",
       "5     10\n",
       "4     10\n",
       "3     10\n",
       "2     10\n",
       "12    10\n",
       "1     10\n",
       "14    10\n",
       "15    10\n",
       "17    10\n",
       "18    10\n",
       "19    10\n",
       "20    10\n",
       "21    10\n",
       "26    10\n",
       "27    10\n",
       "28    10\n",
       "29    10\n",
       "30     9\n",
       "31     6\n",
       "Name: Day, dtype: int64"
      ]
     },
     "execution_count": 28,
     "metadata": {},
     "output_type": "execute_result"
    }
   ],
   "source": [
    "df[\"Day\"].value_counts()"
   ]
  },
  {
   "cell_type": "code",
   "execution_count": 29,
   "metadata": {},
   "outputs": [],
   "source": [
    "df2 = pd.get_dummies(data=df, drop_first=True)"
   ]
  },
  {
   "cell_type": "code",
   "execution_count": 30,
   "metadata": {},
   "outputs": [
    {
     "data": {
      "text/html": [
       "<div>\n",
       "<style scoped>\n",
       "    .dataframe tbody tr th:only-of-type {\n",
       "        vertical-align: middle;\n",
       "    }\n",
       "\n",
       "    .dataframe tbody tr th {\n",
       "        vertical-align: top;\n",
       "    }\n",
       "\n",
       "    .dataframe thead th {\n",
       "        text-align: right;\n",
       "    }\n",
       "</style>\n",
       "<table border=\"1\" class=\"dataframe\">\n",
       "  <thead>\n",
       "    <tr style=\"text-align: right;\">\n",
       "      <th></th>\n",
       "      <th>ConfirmDiff</th>\n",
       "      <th>RecoverDiff</th>\n",
       "      <th>DeathsDiff</th>\n",
       "      <th>Month_2</th>\n",
       "      <th>Month_3</th>\n",
       "      <th>Month_4</th>\n",
       "      <th>Month_5</th>\n",
       "      <th>Month_6</th>\n",
       "      <th>Month_7</th>\n",
       "      <th>Month_8</th>\n",
       "      <th>Month_9</th>\n",
       "      <th>Month_10</th>\n",
       "      <th>Month_11</th>\n",
       "      <th>Day_2</th>\n",
       "      <th>Day_3</th>\n",
       "      <th>Day_4</th>\n",
       "      <th>Day_5</th>\n",
       "      <th>Day_6</th>\n",
       "      <th>Day_7</th>\n",
       "      <th>Day_8</th>\n",
       "      <th>Day_9</th>\n",
       "      <th>Day_10</th>\n",
       "      <th>Day_11</th>\n",
       "      <th>Day_12</th>\n",
       "      <th>Day_13</th>\n",
       "      <th>Day_14</th>\n",
       "      <th>Day_15</th>\n",
       "      <th>Day_16</th>\n",
       "      <th>Day_17</th>\n",
       "      <th>Day_18</th>\n",
       "      <th>Day_19</th>\n",
       "      <th>Day_20</th>\n",
       "      <th>Day_21</th>\n",
       "      <th>Day_22</th>\n",
       "      <th>Day_23</th>\n",
       "      <th>Day_24</th>\n",
       "      <th>Day_25</th>\n",
       "      <th>Day_26</th>\n",
       "      <th>Day_27</th>\n",
       "      <th>Day_28</th>\n",
       "      <th>Day_29</th>\n",
       "      <th>Day_30</th>\n",
       "      <th>Day_31</th>\n",
       "    </tr>\n",
       "  </thead>\n",
       "  <tbody>\n",
       "    <tr>\n",
       "      <th>0</th>\n",
       "      <td>0.0</td>\n",
       "      <td>0.0</td>\n",
       "      <td>0.0</td>\n",
       "      <td>0</td>\n",
       "      <td>0</td>\n",
       "      <td>0</td>\n",
       "      <td>0</td>\n",
       "      <td>0</td>\n",
       "      <td>0</td>\n",
       "      <td>0</td>\n",
       "      <td>0</td>\n",
       "      <td>0</td>\n",
       "      <td>0</td>\n",
       "      <td>0</td>\n",
       "      <td>0</td>\n",
       "      <td>0</td>\n",
       "      <td>0</td>\n",
       "      <td>0</td>\n",
       "      <td>0</td>\n",
       "      <td>0</td>\n",
       "      <td>0</td>\n",
       "      <td>0</td>\n",
       "      <td>0</td>\n",
       "      <td>0</td>\n",
       "      <td>0</td>\n",
       "      <td>0</td>\n",
       "      <td>0</td>\n",
       "      <td>0</td>\n",
       "      <td>0</td>\n",
       "      <td>0</td>\n",
       "      <td>0</td>\n",
       "      <td>0</td>\n",
       "      <td>0</td>\n",
       "      <td>1</td>\n",
       "      <td>0</td>\n",
       "      <td>0</td>\n",
       "      <td>0</td>\n",
       "      <td>0</td>\n",
       "      <td>0</td>\n",
       "      <td>0</td>\n",
       "      <td>0</td>\n",
       "      <td>0</td>\n",
       "      <td>0</td>\n",
       "    </tr>\n",
       "    <tr>\n",
       "      <th>1</th>\n",
       "      <td>0.0</td>\n",
       "      <td>0.0</td>\n",
       "      <td>0.0</td>\n",
       "      <td>0</td>\n",
       "      <td>0</td>\n",
       "      <td>0</td>\n",
       "      <td>0</td>\n",
       "      <td>0</td>\n",
       "      <td>0</td>\n",
       "      <td>0</td>\n",
       "      <td>0</td>\n",
       "      <td>0</td>\n",
       "      <td>0</td>\n",
       "      <td>0</td>\n",
       "      <td>0</td>\n",
       "      <td>0</td>\n",
       "      <td>0</td>\n",
       "      <td>0</td>\n",
       "      <td>0</td>\n",
       "      <td>0</td>\n",
       "      <td>0</td>\n",
       "      <td>0</td>\n",
       "      <td>0</td>\n",
       "      <td>0</td>\n",
       "      <td>0</td>\n",
       "      <td>0</td>\n",
       "      <td>0</td>\n",
       "      <td>0</td>\n",
       "      <td>0</td>\n",
       "      <td>0</td>\n",
       "      <td>0</td>\n",
       "      <td>0</td>\n",
       "      <td>0</td>\n",
       "      <td>0</td>\n",
       "      <td>1</td>\n",
       "      <td>0</td>\n",
       "      <td>0</td>\n",
       "      <td>0</td>\n",
       "      <td>0</td>\n",
       "      <td>0</td>\n",
       "      <td>0</td>\n",
       "      <td>0</td>\n",
       "      <td>0</td>\n",
       "    </tr>\n",
       "    <tr>\n",
       "      <th>2</th>\n",
       "      <td>0.0</td>\n",
       "      <td>0.0</td>\n",
       "      <td>0.0</td>\n",
       "      <td>0</td>\n",
       "      <td>0</td>\n",
       "      <td>0</td>\n",
       "      <td>0</td>\n",
       "      <td>0</td>\n",
       "      <td>0</td>\n",
       "      <td>0</td>\n",
       "      <td>0</td>\n",
       "      <td>0</td>\n",
       "      <td>0</td>\n",
       "      <td>0</td>\n",
       "      <td>0</td>\n",
       "      <td>0</td>\n",
       "      <td>0</td>\n",
       "      <td>0</td>\n",
       "      <td>0</td>\n",
       "      <td>0</td>\n",
       "      <td>0</td>\n",
       "      <td>0</td>\n",
       "      <td>0</td>\n",
       "      <td>0</td>\n",
       "      <td>0</td>\n",
       "      <td>0</td>\n",
       "      <td>0</td>\n",
       "      <td>0</td>\n",
       "      <td>0</td>\n",
       "      <td>0</td>\n",
       "      <td>0</td>\n",
       "      <td>0</td>\n",
       "      <td>0</td>\n",
       "      <td>0</td>\n",
       "      <td>0</td>\n",
       "      <td>1</td>\n",
       "      <td>0</td>\n",
       "      <td>0</td>\n",
       "      <td>0</td>\n",
       "      <td>0</td>\n",
       "      <td>0</td>\n",
       "      <td>0</td>\n",
       "      <td>0</td>\n",
       "    </tr>\n",
       "    <tr>\n",
       "      <th>3</th>\n",
       "      <td>3.0</td>\n",
       "      <td>0.0</td>\n",
       "      <td>0.0</td>\n",
       "      <td>0</td>\n",
       "      <td>0</td>\n",
       "      <td>0</td>\n",
       "      <td>0</td>\n",
       "      <td>0</td>\n",
       "      <td>0</td>\n",
       "      <td>0</td>\n",
       "      <td>0</td>\n",
       "      <td>0</td>\n",
       "      <td>0</td>\n",
       "      <td>0</td>\n",
       "      <td>0</td>\n",
       "      <td>0</td>\n",
       "      <td>0</td>\n",
       "      <td>0</td>\n",
       "      <td>0</td>\n",
       "      <td>0</td>\n",
       "      <td>0</td>\n",
       "      <td>0</td>\n",
       "      <td>0</td>\n",
       "      <td>0</td>\n",
       "      <td>0</td>\n",
       "      <td>0</td>\n",
       "      <td>0</td>\n",
       "      <td>0</td>\n",
       "      <td>0</td>\n",
       "      <td>0</td>\n",
       "      <td>0</td>\n",
       "      <td>0</td>\n",
       "      <td>0</td>\n",
       "      <td>0</td>\n",
       "      <td>0</td>\n",
       "      <td>0</td>\n",
       "      <td>1</td>\n",
       "      <td>0</td>\n",
       "      <td>0</td>\n",
       "      <td>0</td>\n",
       "      <td>0</td>\n",
       "      <td>0</td>\n",
       "      <td>0</td>\n",
       "    </tr>\n",
       "    <tr>\n",
       "      <th>4</th>\n",
       "      <td>1.0</td>\n",
       "      <td>0.0</td>\n",
       "      <td>0.0</td>\n",
       "      <td>0</td>\n",
       "      <td>0</td>\n",
       "      <td>0</td>\n",
       "      <td>0</td>\n",
       "      <td>0</td>\n",
       "      <td>0</td>\n",
       "      <td>0</td>\n",
       "      <td>0</td>\n",
       "      <td>0</td>\n",
       "      <td>0</td>\n",
       "      <td>0</td>\n",
       "      <td>0</td>\n",
       "      <td>0</td>\n",
       "      <td>0</td>\n",
       "      <td>0</td>\n",
       "      <td>0</td>\n",
       "      <td>0</td>\n",
       "      <td>0</td>\n",
       "      <td>0</td>\n",
       "      <td>0</td>\n",
       "      <td>0</td>\n",
       "      <td>0</td>\n",
       "      <td>0</td>\n",
       "      <td>0</td>\n",
       "      <td>0</td>\n",
       "      <td>0</td>\n",
       "      <td>0</td>\n",
       "      <td>0</td>\n",
       "      <td>0</td>\n",
       "      <td>0</td>\n",
       "      <td>0</td>\n",
       "      <td>0</td>\n",
       "      <td>0</td>\n",
       "      <td>0</td>\n",
       "      <td>1</td>\n",
       "      <td>0</td>\n",
       "      <td>0</td>\n",
       "      <td>0</td>\n",
       "      <td>0</td>\n",
       "      <td>0</td>\n",
       "    </tr>\n",
       "  </tbody>\n",
       "</table>\n",
       "</div>"
      ],
      "text/plain": [
       "   ConfirmDiff  RecoverDiff  DeathsDiff  Month_2  Month_3  Month_4  Month_5  Month_6  Month_7  Month_8  Month_9  Month_10  Month_11  Day_2  Day_3  Day_4  Day_5  Day_6  Day_7  Day_8  Day_9  Day_10  Day_11  Day_12  Day_13  Day_14  Day_15  Day_16  Day_17  Day_18  Day_19  Day_20  Day_21  Day_22  Day_23  Day_24  Day_25  Day_26  Day_27  Day_28  Day_29  Day_30  Day_31\n",
       "0          0.0          0.0         0.0        0        0        0        0        0        0        0        0         0         0      0      0      0      0      0      0      0      0       0       0       0       0       0       0       0       0       0       0       0       0       1       0       0       0       0       0       0       0       0       0\n",
       "1          0.0          0.0         0.0        0        0        0        0        0        0        0        0         0         0      0      0      0      0      0      0      0      0       0       0       0       0       0       0       0       0       0       0       0       0       0       1       0       0       0       0       0       0       0       0\n",
       "2          0.0          0.0         0.0        0        0        0        0        0        0        0        0         0         0      0      0      0      0      0      0      0      0       0       0       0       0       0       0       0       0       0       0       0       0       0       0       1       0       0       0       0       0       0       0\n",
       "3          3.0          0.0         0.0        0        0        0        0        0        0        0        0         0         0      0      0      0      0      0      0      0      0       0       0       0       0       0       0       0       0       0       0       0       0       0       0       0       1       0       0       0       0       0       0\n",
       "4          1.0          0.0         0.0        0        0        0        0        0        0        0        0         0         0      0      0      0      0      0      0      0      0       0       0       0       0       0       0       0       0       0       0       0       0       0       0       0       0       1       0       0       0       0       0"
      ]
     },
     "execution_count": 30,
     "metadata": {},
     "output_type": "execute_result"
    }
   ],
   "source": [
    "df2.head()"
   ]
  },
  {
   "cell_type": "code",
   "execution_count": 31,
   "metadata": {},
   "outputs": [
    {
     "data": {
      "text/plain": [
       "Index(['ConfirmDiff', 'RecoverDiff', 'DeathsDiff', 'Month_2', 'Month_3', 'Month_4', 'Month_5', 'Month_6', 'Month_7', 'Month_8', 'Month_9', 'Month_10', 'Month_11', 'Day_2', 'Day_3', 'Day_4', 'Day_5', 'Day_6', 'Day_7', 'Day_8', 'Day_9', 'Day_10', 'Day_11', 'Day_12', 'Day_13', 'Day_14', 'Day_15', 'Day_16', 'Day_17', 'Day_18', 'Day_19', 'Day_20', 'Day_21', 'Day_22', 'Day_23', 'Day_24', 'Day_25', 'Day_26', 'Day_27', 'Day_28', 'Day_29', 'Day_30', 'Day_31'], dtype='object')"
      ]
     },
     "execution_count": 31,
     "metadata": {},
     "output_type": "execute_result"
    }
   ],
   "source": [
    "df2.columns"
   ]
  },
  {
   "cell_type": "code",
   "execution_count": 32,
   "metadata": {},
   "outputs": [],
   "source": [
    "df2 = df2[['Month_2', 'Month_3', 'Month_4', 'Month_5', 'Month_6', 'Month_7', 'Month_8', 'Month_9', \n",
    "           'Month_10', 'Month_11', 'Day_2', 'Day_3', 'Day_4', 'Day_5', 'Day_6', 'Day_7', 'Day_8', 'Day_9', \n",
    "           'Day_10', 'Day_11', 'Day_12', 'Day_13', 'Day_14', 'Day_15', 'Day_16', 'Day_17', 'Day_18', \n",
    "           'Day_19', 'Day_20', 'Day_21', 'Day_22', 'Day_23', 'Day_24', 'Day_25', 'Day_26', 'Day_27', \n",
    "           'Day_28', 'Day_29', 'Day_30', 'Day_31', 'ConfirmDiff', 'RecoverDiff', 'DeathsDiff']]"
   ]
  },
  {
   "cell_type": "code",
   "execution_count": 33,
   "metadata": {},
   "outputs": [
    {
     "data": {
      "text/plain": [
       "Index(['Month_2', 'Month_3', 'Month_4', 'Month_5', 'Month_6', 'Month_7', 'Month_8', 'Month_9', 'Month_10', 'Month_11', 'Day_2', 'Day_3', 'Day_4', 'Day_5', 'Day_6', 'Day_7', 'Day_8', 'Day_9', 'Day_10', 'Day_11', 'Day_12', 'Day_13', 'Day_14', 'Day_15', 'Day_16', 'Day_17', 'Day_18', 'Day_19', 'Day_20', 'Day_21', 'Day_22', 'Day_23', 'Day_24', 'Day_25', 'Day_26', 'Day_27', 'Day_28', 'Day_29', 'Day_30', 'Day_31', 'ConfirmDiff', 'RecoverDiff', 'DeathsDiff'], dtype='object')"
      ]
     },
     "execution_count": 33,
     "metadata": {},
     "output_type": "execute_result"
    }
   ],
   "source": [
    "df2.columns"
   ]
  },
  {
   "cell_type": "code",
   "execution_count": 34,
   "metadata": {},
   "outputs": [
    {
     "data": {
      "text/html": [
       "<div>\n",
       "<style scoped>\n",
       "    .dataframe tbody tr th:only-of-type {\n",
       "        vertical-align: middle;\n",
       "    }\n",
       "\n",
       "    .dataframe tbody tr th {\n",
       "        vertical-align: top;\n",
       "    }\n",
       "\n",
       "    .dataframe thead th {\n",
       "        text-align: right;\n",
       "    }\n",
       "</style>\n",
       "<table border=\"1\" class=\"dataframe\">\n",
       "  <thead>\n",
       "    <tr style=\"text-align: right;\">\n",
       "      <th></th>\n",
       "      <th>Month_2</th>\n",
       "      <th>Month_3</th>\n",
       "      <th>Month_4</th>\n",
       "      <th>Month_5</th>\n",
       "      <th>Month_6</th>\n",
       "      <th>Month_7</th>\n",
       "      <th>Month_8</th>\n",
       "      <th>Month_9</th>\n",
       "      <th>Month_10</th>\n",
       "      <th>Month_11</th>\n",
       "      <th>Day_2</th>\n",
       "      <th>Day_3</th>\n",
       "      <th>Day_4</th>\n",
       "      <th>Day_5</th>\n",
       "      <th>Day_6</th>\n",
       "      <th>Day_7</th>\n",
       "      <th>Day_8</th>\n",
       "      <th>Day_9</th>\n",
       "      <th>Day_10</th>\n",
       "      <th>Day_11</th>\n",
       "      <th>Day_12</th>\n",
       "      <th>Day_13</th>\n",
       "      <th>Day_14</th>\n",
       "      <th>Day_15</th>\n",
       "      <th>Day_16</th>\n",
       "      <th>Day_17</th>\n",
       "      <th>Day_18</th>\n",
       "      <th>Day_19</th>\n",
       "      <th>Day_20</th>\n",
       "      <th>Day_21</th>\n",
       "      <th>Day_22</th>\n",
       "      <th>Day_23</th>\n",
       "      <th>Day_24</th>\n",
       "      <th>Day_25</th>\n",
       "      <th>Day_26</th>\n",
       "      <th>Day_27</th>\n",
       "      <th>Day_28</th>\n",
       "      <th>Day_29</th>\n",
       "      <th>Day_30</th>\n",
       "      <th>Day_31</th>\n",
       "      <th>ConfirmDiff</th>\n",
       "      <th>RecoverDiff</th>\n",
       "      <th>DeathsDiff</th>\n",
       "    </tr>\n",
       "  </thead>\n",
       "  <tbody>\n",
       "    <tr>\n",
       "      <th>0</th>\n",
       "      <td>0</td>\n",
       "      <td>0</td>\n",
       "      <td>0</td>\n",
       "      <td>0</td>\n",
       "      <td>0</td>\n",
       "      <td>0</td>\n",
       "      <td>0</td>\n",
       "      <td>0</td>\n",
       "      <td>0</td>\n",
       "      <td>0</td>\n",
       "      <td>0</td>\n",
       "      <td>0</td>\n",
       "      <td>0</td>\n",
       "      <td>0</td>\n",
       "      <td>0</td>\n",
       "      <td>0</td>\n",
       "      <td>0</td>\n",
       "      <td>0</td>\n",
       "      <td>0</td>\n",
       "      <td>0</td>\n",
       "      <td>0</td>\n",
       "      <td>0</td>\n",
       "      <td>0</td>\n",
       "      <td>0</td>\n",
       "      <td>0</td>\n",
       "      <td>0</td>\n",
       "      <td>0</td>\n",
       "      <td>0</td>\n",
       "      <td>0</td>\n",
       "      <td>0</td>\n",
       "      <td>1</td>\n",
       "      <td>0</td>\n",
       "      <td>0</td>\n",
       "      <td>0</td>\n",
       "      <td>0</td>\n",
       "      <td>0</td>\n",
       "      <td>0</td>\n",
       "      <td>0</td>\n",
       "      <td>0</td>\n",
       "      <td>0</td>\n",
       "      <td>0.0</td>\n",
       "      <td>0.0</td>\n",
       "      <td>0.0</td>\n",
       "    </tr>\n",
       "    <tr>\n",
       "      <th>1</th>\n",
       "      <td>0</td>\n",
       "      <td>0</td>\n",
       "      <td>0</td>\n",
       "      <td>0</td>\n",
       "      <td>0</td>\n",
       "      <td>0</td>\n",
       "      <td>0</td>\n",
       "      <td>0</td>\n",
       "      <td>0</td>\n",
       "      <td>0</td>\n",
       "      <td>0</td>\n",
       "      <td>0</td>\n",
       "      <td>0</td>\n",
       "      <td>0</td>\n",
       "      <td>0</td>\n",
       "      <td>0</td>\n",
       "      <td>0</td>\n",
       "      <td>0</td>\n",
       "      <td>0</td>\n",
       "      <td>0</td>\n",
       "      <td>0</td>\n",
       "      <td>0</td>\n",
       "      <td>0</td>\n",
       "      <td>0</td>\n",
       "      <td>0</td>\n",
       "      <td>0</td>\n",
       "      <td>0</td>\n",
       "      <td>0</td>\n",
       "      <td>0</td>\n",
       "      <td>0</td>\n",
       "      <td>0</td>\n",
       "      <td>1</td>\n",
       "      <td>0</td>\n",
       "      <td>0</td>\n",
       "      <td>0</td>\n",
       "      <td>0</td>\n",
       "      <td>0</td>\n",
       "      <td>0</td>\n",
       "      <td>0</td>\n",
       "      <td>0</td>\n",
       "      <td>0.0</td>\n",
       "      <td>0.0</td>\n",
       "      <td>0.0</td>\n",
       "    </tr>\n",
       "    <tr>\n",
       "      <th>2</th>\n",
       "      <td>0</td>\n",
       "      <td>0</td>\n",
       "      <td>0</td>\n",
       "      <td>0</td>\n",
       "      <td>0</td>\n",
       "      <td>0</td>\n",
       "      <td>0</td>\n",
       "      <td>0</td>\n",
       "      <td>0</td>\n",
       "      <td>0</td>\n",
       "      <td>0</td>\n",
       "      <td>0</td>\n",
       "      <td>0</td>\n",
       "      <td>0</td>\n",
       "      <td>0</td>\n",
       "      <td>0</td>\n",
       "      <td>0</td>\n",
       "      <td>0</td>\n",
       "      <td>0</td>\n",
       "      <td>0</td>\n",
       "      <td>0</td>\n",
       "      <td>0</td>\n",
       "      <td>0</td>\n",
       "      <td>0</td>\n",
       "      <td>0</td>\n",
       "      <td>0</td>\n",
       "      <td>0</td>\n",
       "      <td>0</td>\n",
       "      <td>0</td>\n",
       "      <td>0</td>\n",
       "      <td>0</td>\n",
       "      <td>0</td>\n",
       "      <td>1</td>\n",
       "      <td>0</td>\n",
       "      <td>0</td>\n",
       "      <td>0</td>\n",
       "      <td>0</td>\n",
       "      <td>0</td>\n",
       "      <td>0</td>\n",
       "      <td>0</td>\n",
       "      <td>0.0</td>\n",
       "      <td>0.0</td>\n",
       "      <td>0.0</td>\n",
       "    </tr>\n",
       "    <tr>\n",
       "      <th>3</th>\n",
       "      <td>0</td>\n",
       "      <td>0</td>\n",
       "      <td>0</td>\n",
       "      <td>0</td>\n",
       "      <td>0</td>\n",
       "      <td>0</td>\n",
       "      <td>0</td>\n",
       "      <td>0</td>\n",
       "      <td>0</td>\n",
       "      <td>0</td>\n",
       "      <td>0</td>\n",
       "      <td>0</td>\n",
       "      <td>0</td>\n",
       "      <td>0</td>\n",
       "      <td>0</td>\n",
       "      <td>0</td>\n",
       "      <td>0</td>\n",
       "      <td>0</td>\n",
       "      <td>0</td>\n",
       "      <td>0</td>\n",
       "      <td>0</td>\n",
       "      <td>0</td>\n",
       "      <td>0</td>\n",
       "      <td>0</td>\n",
       "      <td>0</td>\n",
       "      <td>0</td>\n",
       "      <td>0</td>\n",
       "      <td>0</td>\n",
       "      <td>0</td>\n",
       "      <td>0</td>\n",
       "      <td>0</td>\n",
       "      <td>0</td>\n",
       "      <td>0</td>\n",
       "      <td>1</td>\n",
       "      <td>0</td>\n",
       "      <td>0</td>\n",
       "      <td>0</td>\n",
       "      <td>0</td>\n",
       "      <td>0</td>\n",
       "      <td>0</td>\n",
       "      <td>3.0</td>\n",
       "      <td>0.0</td>\n",
       "      <td>0.0</td>\n",
       "    </tr>\n",
       "    <tr>\n",
       "      <th>4</th>\n",
       "      <td>0</td>\n",
       "      <td>0</td>\n",
       "      <td>0</td>\n",
       "      <td>0</td>\n",
       "      <td>0</td>\n",
       "      <td>0</td>\n",
       "      <td>0</td>\n",
       "      <td>0</td>\n",
       "      <td>0</td>\n",
       "      <td>0</td>\n",
       "      <td>0</td>\n",
       "      <td>0</td>\n",
       "      <td>0</td>\n",
       "      <td>0</td>\n",
       "      <td>0</td>\n",
       "      <td>0</td>\n",
       "      <td>0</td>\n",
       "      <td>0</td>\n",
       "      <td>0</td>\n",
       "      <td>0</td>\n",
       "      <td>0</td>\n",
       "      <td>0</td>\n",
       "      <td>0</td>\n",
       "      <td>0</td>\n",
       "      <td>0</td>\n",
       "      <td>0</td>\n",
       "      <td>0</td>\n",
       "      <td>0</td>\n",
       "      <td>0</td>\n",
       "      <td>0</td>\n",
       "      <td>0</td>\n",
       "      <td>0</td>\n",
       "      <td>0</td>\n",
       "      <td>0</td>\n",
       "      <td>1</td>\n",
       "      <td>0</td>\n",
       "      <td>0</td>\n",
       "      <td>0</td>\n",
       "      <td>0</td>\n",
       "      <td>0</td>\n",
       "      <td>1.0</td>\n",
       "      <td>0.0</td>\n",
       "      <td>0.0</td>\n",
       "    </tr>\n",
       "  </tbody>\n",
       "</table>\n",
       "</div>"
      ],
      "text/plain": [
       "   Month_2  Month_3  Month_4  Month_5  Month_6  Month_7  Month_8  Month_9  Month_10  Month_11  Day_2  Day_3  Day_4  Day_5  Day_6  Day_7  Day_8  Day_9  Day_10  Day_11  Day_12  Day_13  Day_14  Day_15  Day_16  Day_17  Day_18  Day_19  Day_20  Day_21  Day_22  Day_23  Day_24  Day_25  Day_26  Day_27  Day_28  Day_29  Day_30  Day_31  ConfirmDiff  RecoverDiff  DeathsDiff\n",
       "0        0        0        0        0        0        0        0        0         0         0      0      0      0      0      0      0      0      0       0       0       0       0       0       0       0       0       0       0       0       0       1       0       0       0       0       0       0       0       0       0          0.0          0.0         0.0\n",
       "1        0        0        0        0        0        0        0        0         0         0      0      0      0      0      0      0      0      0       0       0       0       0       0       0       0       0       0       0       0       0       0       1       0       0       0       0       0       0       0       0          0.0          0.0         0.0\n",
       "2        0        0        0        0        0        0        0        0         0         0      0      0      0      0      0      0      0      0       0       0       0       0       0       0       0       0       0       0       0       0       0       0       1       0       0       0       0       0       0       0          0.0          0.0         0.0\n",
       "3        0        0        0        0        0        0        0        0         0         0      0      0      0      0      0      0      0      0       0       0       0       0       0       0       0       0       0       0       0       0       0       0       0       1       0       0       0       0       0       0          3.0          0.0         0.0\n",
       "4        0        0        0        0        0        0        0        0         0         0      0      0      0      0      0      0      0      0       0       0       0       0       0       0       0       0       0       0       0       0       0       0       0       0       1       0       0       0       0       0          1.0          0.0         0.0"
      ]
     },
     "execution_count": 34,
     "metadata": {},
     "output_type": "execute_result"
    }
   ],
   "source": [
    "df2.head()"
   ]
  },
  {
   "cell_type": "markdown",
   "metadata": {},
   "source": [
    "### Create and save processed dataset"
   ]
  },
  {
   "cell_type": "code",
   "execution_count": 35,
   "metadata": {},
   "outputs": [],
   "source": [
    "#df2.to_csv(\"traincovid2.csv\",index=False)"
   ]
  },
  {
   "cell_type": "markdown",
   "metadata": {},
   "source": [
    "### Train Test Split"
   ]
  },
  {
   "cell_type": "code",
   "execution_count": 36,
   "metadata": {},
   "outputs": [
    {
     "data": {
      "text/plain": [
       "(309, 43)"
      ]
     },
     "execution_count": 36,
     "metadata": {},
     "output_type": "execute_result"
    }
   ],
   "source": [
    "df2.shape"
   ]
  },
  {
   "cell_type": "code",
   "execution_count": 37,
   "metadata": {},
   "outputs": [],
   "source": [
    "X = df2.iloc[:,0:42]\n",
    "y = df2.iloc[:,42]"
   ]
  },
  {
   "cell_type": "code",
   "execution_count": 38,
   "metadata": {},
   "outputs": [
    {
     "data": {
      "text/plain": [
       "(array([[   0.,    0.,    0., ...,    0.,    0.,    0.],\n",
       "        [   0.,    0.,    0., ...,    0.,    0.,    0.],\n",
       "        [   0.,    0.,    0., ...,    0.,    0.,    0.],\n",
       "        ...,\n",
       "        [   0.,    0.,    0., ...,    0., 1884.,  883.],\n",
       "        [   0.,    0.,    0., ...,    0., 2188., 1673.],\n",
       "        [   0.,    0.,    0., ...,    0.,  970., 2348.]]),\n",
       " array([ 0.,  0.,  0.,  0.,  0.,  0.,  0.,  0.,  0.,  0.,  0.,  0.,  0.,\n",
       "         0.,  0.,  0.,  0.,  0.,  0.,  0.,  0.,  0.,  0.,  0.,  0.,  0.,\n",
       "         0.,  0.,  0.,  0.,  0.,  0.,  0.,  0.,  0.,  0.,  0.,  0.,  0.,\n",
       "         0.,  0.,  0.,  0.,  0.,  0.,  0.,  0.,  0.,  0.,  0.,  0.,  0.,\n",
       "         0.,  0.,  0.,  2.,  0.,  0.,  1.,  1.,  6.,  4.,  2.,  4.,  3.,\n",
       "         3.,  1.,  8.,  2.,  6.,  2.,  5.,  3.,  4.,  4.,  1.,  1.,  2.,\n",
       "         2.,  3.,  3.,  3.,  1.,  5.,  1.,  1.,  2.,  2.,  1.,  0.,  3.,\n",
       "         1.,  2.,  1.,  2.,  0.,  1.,  1.,  0.,  2.,  1.,  0.,  2.,  0.,\n",
       "         1.,  1.,  0.,  0.,  1.,  0.,  1.,  0.,  2.,  1.,  0.,  1.,  0.,\n",
       "         0.,  1.,  0.,  0.,  1.,  0.,  0.,  0.,  0.,  0.,  0.,  0.,  0.,\n",
       "         0.,  0.,  0.,  0.,  0.,  1.,  1.,  0.,  0.,  0.,  1.,  0.,  1.,\n",
       "         1.,  1.,  0.,  0.,  0.,  0.,  0.,  0.,  0.,  0.,  0.,  0.,  0.,\n",
       "         0.,  0.,  0.,  0.,  0.,  0.,  0.,  0.,  0.,  0.,  0.,  0.,  0.,\n",
       "         0.,  0.,  1.,  0.,  0.,  0.,  0.,  0.,  0.,  0.,  1.,  0.,  0.,\n",
       "         0.,  0.,  0.,  0.,  1.,  0.,  0.,  0.,  0.,  1.,  0.,  0.,  0.,\n",
       "         0.,  0.,  0.,  0.,  0.,  0.,  0.,  0.,  0.,  0.,  0.,  0.,  0.,\n",
       "         0.,  0.,  0.,  0.,  0.,  0.,  0.,  0.,  0.,  0.,  0.,  0.,  0.,\n",
       "         1.,  1.,  1.,  0.,  0.,  0.,  0.,  0.,  0.,  0.,  0.,  0.,  0.,\n",
       "         0.,  0.,  0.,  0.,  0.,  0.,  1.,  1.,  0.,  0.,  0.,  3.,  0.,\n",
       "         0.,  0.,  1.,  0.,  0.,  2.,  0.,  0.,  1.,  0.,  0.,  4.,  0.,\n",
       "         5.,  6.,  3.,  2.,  2.,  4.,  4.,  3.,  6.,  4.,  7.,  3.,  3.,\n",
       "         6.,  5., 10.,  7.,  8.,  7.,  2.,  8.,  0.,  3.,  0.,  0.,  2.,\n",
       "        12.,  8.,  6.,  2.,  3.,  4.,  8.,  6.,  2.,  1.,  1.,  2.,  3.,\n",
       "         4.,  5.,  4.,  4.,  3.,  3.,  3.,  2.,  4.,  4.]))"
      ]
     },
     "execution_count": 38,
     "metadata": {},
     "output_type": "execute_result"
    }
   ],
   "source": [
    "X.values, y.values"
   ]
  },
  {
   "cell_type": "code",
   "execution_count": 39,
   "metadata": {},
   "outputs": [],
   "source": [
    "X_train, X_test, y_train, y_test = train_test_split(X, y, test_size=0.25, random_state=0)"
   ]
  },
  {
   "cell_type": "code",
   "execution_count": 40,
   "metadata": {},
   "outputs": [
    {
     "data": {
      "text/plain": [
       "((231, 42), (78, 42), (231,), (78,))"
      ]
     },
     "execution_count": 40,
     "metadata": {},
     "output_type": "execute_result"
    }
   ],
   "source": [
    "X_train.shape, X_test.shape, y_train.shape, y_test.shape"
   ]
  },
  {
   "cell_type": "markdown",
   "metadata": {},
   "source": [
    "### Feature Scaling"
   ]
  },
  {
   "cell_type": "code",
   "execution_count": 41,
   "metadata": {},
   "outputs": [],
   "source": [
    "#X_train"
   ]
  },
  {
   "cell_type": "code",
   "execution_count": 42,
   "metadata": {},
   "outputs": [],
   "source": [
    "#scaler = StandardScaler()"
   ]
  },
  {
   "cell_type": "code",
   "execution_count": 43,
   "metadata": {},
   "outputs": [],
   "source": [
    "#minmax = MinMaxScaler()"
   ]
  },
  {
   "cell_type": "code",
   "execution_count": 44,
   "metadata": {},
   "outputs": [],
   "source": [
    "#X_train_scaled = minmax.fit_transform(X_train)"
   ]
  },
  {
   "cell_type": "code",
   "execution_count": 45,
   "metadata": {},
   "outputs": [],
   "source": [
    "#X_test_scaled = minmax.transform(X_test)"
   ]
  },
  {
   "cell_type": "code",
   "execution_count": 46,
   "metadata": {},
   "outputs": [],
   "source": [
    "#X_train_scaled"
   ]
  },
  {
   "cell_type": "code",
   "execution_count": 47,
   "metadata": {},
   "outputs": [],
   "source": [
    "#X_test_scaled"
   ]
  },
  {
   "cell_type": "markdown",
   "metadata": {},
   "source": [
    "### Model Training"
   ]
  },
  {
   "cell_type": "markdown",
   "metadata": {},
   "source": [
    "### Using PyCaret"
   ]
  },
  {
   "cell_type": "code",
   "execution_count": 48,
   "metadata": {},
   "outputs": [],
   "source": [
    "pycaret = pd.read_csv(\"traincovid.csv\")"
   ]
  },
  {
   "cell_type": "code",
   "execution_count": 49,
   "metadata": {},
   "outputs": [
    {
     "data": {
      "text/html": [
       "<style  type=\"text/css\" >\n",
       "</style><table id=\"T_ee787551_32cc_11eb_a9d5_3c528213d836\" ><thead>    <tr>        <th class=\"blank level0\" ></th>        <th class=\"col_heading level0 col0\" >Description</th>        <th class=\"col_heading level0 col1\" >Value</th>    </tr></thead><tbody>\n",
       "                <tr>\n",
       "                        <th id=\"T_ee787551_32cc_11eb_a9d5_3c528213d836level0_row0\" class=\"row_heading level0 row0\" >0</th>\n",
       "                        <td id=\"T_ee787551_32cc_11eb_a9d5_3c528213d836row0_col0\" class=\"data row0 col0\" >session_id</td>\n",
       "                        <td id=\"T_ee787551_32cc_11eb_a9d5_3c528213d836row0_col1\" class=\"data row0 col1\" >0</td>\n",
       "            </tr>\n",
       "            <tr>\n",
       "                        <th id=\"T_ee787551_32cc_11eb_a9d5_3c528213d836level0_row1\" class=\"row_heading level0 row1\" >1</th>\n",
       "                        <td id=\"T_ee787551_32cc_11eb_a9d5_3c528213d836row1_col0\" class=\"data row1 col0\" >Target</td>\n",
       "                        <td id=\"T_ee787551_32cc_11eb_a9d5_3c528213d836row1_col1\" class=\"data row1 col1\" >DeathsDiff</td>\n",
       "            </tr>\n",
       "            <tr>\n",
       "                        <th id=\"T_ee787551_32cc_11eb_a9d5_3c528213d836level0_row2\" class=\"row_heading level0 row2\" >2</th>\n",
       "                        <td id=\"T_ee787551_32cc_11eb_a9d5_3c528213d836row2_col0\" class=\"data row2 col0\" >Original Data</td>\n",
       "                        <td id=\"T_ee787551_32cc_11eb_a9d5_3c528213d836row2_col1\" class=\"data row2 col1\" >(309, 5)</td>\n",
       "            </tr>\n",
       "            <tr>\n",
       "                        <th id=\"T_ee787551_32cc_11eb_a9d5_3c528213d836level0_row3\" class=\"row_heading level0 row3\" >3</th>\n",
       "                        <td id=\"T_ee787551_32cc_11eb_a9d5_3c528213d836row3_col0\" class=\"data row3 col0\" >Missing Values</td>\n",
       "                        <td id=\"T_ee787551_32cc_11eb_a9d5_3c528213d836row3_col1\" class=\"data row3 col1\" >False</td>\n",
       "            </tr>\n",
       "            <tr>\n",
       "                        <th id=\"T_ee787551_32cc_11eb_a9d5_3c528213d836level0_row4\" class=\"row_heading level0 row4\" >4</th>\n",
       "                        <td id=\"T_ee787551_32cc_11eb_a9d5_3c528213d836row4_col0\" class=\"data row4 col0\" >Numeric Features</td>\n",
       "                        <td id=\"T_ee787551_32cc_11eb_a9d5_3c528213d836row4_col1\" class=\"data row4 col1\" >2</td>\n",
       "            </tr>\n",
       "            <tr>\n",
       "                        <th id=\"T_ee787551_32cc_11eb_a9d5_3c528213d836level0_row5\" class=\"row_heading level0 row5\" >5</th>\n",
       "                        <td id=\"T_ee787551_32cc_11eb_a9d5_3c528213d836row5_col0\" class=\"data row5 col0\" >Categorical Features</td>\n",
       "                        <td id=\"T_ee787551_32cc_11eb_a9d5_3c528213d836row5_col1\" class=\"data row5 col1\" >2</td>\n",
       "            </tr>\n",
       "            <tr>\n",
       "                        <th id=\"T_ee787551_32cc_11eb_a9d5_3c528213d836level0_row6\" class=\"row_heading level0 row6\" >6</th>\n",
       "                        <td id=\"T_ee787551_32cc_11eb_a9d5_3c528213d836row6_col0\" class=\"data row6 col0\" >Ordinal Features</td>\n",
       "                        <td id=\"T_ee787551_32cc_11eb_a9d5_3c528213d836row6_col1\" class=\"data row6 col1\" >False</td>\n",
       "            </tr>\n",
       "            <tr>\n",
       "                        <th id=\"T_ee787551_32cc_11eb_a9d5_3c528213d836level0_row7\" class=\"row_heading level0 row7\" >7</th>\n",
       "                        <td id=\"T_ee787551_32cc_11eb_a9d5_3c528213d836row7_col0\" class=\"data row7 col0\" >High Cardinality Features</td>\n",
       "                        <td id=\"T_ee787551_32cc_11eb_a9d5_3c528213d836row7_col1\" class=\"data row7 col1\" >False</td>\n",
       "            </tr>\n",
       "            <tr>\n",
       "                        <th id=\"T_ee787551_32cc_11eb_a9d5_3c528213d836level0_row8\" class=\"row_heading level0 row8\" >8</th>\n",
       "                        <td id=\"T_ee787551_32cc_11eb_a9d5_3c528213d836row8_col0\" class=\"data row8 col0\" >High Cardinality Method</td>\n",
       "                        <td id=\"T_ee787551_32cc_11eb_a9d5_3c528213d836row8_col1\" class=\"data row8 col1\" >None</td>\n",
       "            </tr>\n",
       "            <tr>\n",
       "                        <th id=\"T_ee787551_32cc_11eb_a9d5_3c528213d836level0_row9\" class=\"row_heading level0 row9\" >9</th>\n",
       "                        <td id=\"T_ee787551_32cc_11eb_a9d5_3c528213d836row9_col0\" class=\"data row9 col0\" >Transformed Train Set</td>\n",
       "                        <td id=\"T_ee787551_32cc_11eb_a9d5_3c528213d836row9_col1\" class=\"data row9 col1\" >(231, 44)</td>\n",
       "            </tr>\n",
       "            <tr>\n",
       "                        <th id=\"T_ee787551_32cc_11eb_a9d5_3c528213d836level0_row10\" class=\"row_heading level0 row10\" >10</th>\n",
       "                        <td id=\"T_ee787551_32cc_11eb_a9d5_3c528213d836row10_col0\" class=\"data row10 col0\" >Transformed Test Set</td>\n",
       "                        <td id=\"T_ee787551_32cc_11eb_a9d5_3c528213d836row10_col1\" class=\"data row10 col1\" >(78, 44)</td>\n",
       "            </tr>\n",
       "            <tr>\n",
       "                        <th id=\"T_ee787551_32cc_11eb_a9d5_3c528213d836level0_row11\" class=\"row_heading level0 row11\" >11</th>\n",
       "                        <td id=\"T_ee787551_32cc_11eb_a9d5_3c528213d836row11_col0\" class=\"data row11 col0\" >Shuffle Train-Test</td>\n",
       "                        <td id=\"T_ee787551_32cc_11eb_a9d5_3c528213d836row11_col1\" class=\"data row11 col1\" >True</td>\n",
       "            </tr>\n",
       "            <tr>\n",
       "                        <th id=\"T_ee787551_32cc_11eb_a9d5_3c528213d836level0_row12\" class=\"row_heading level0 row12\" >12</th>\n",
       "                        <td id=\"T_ee787551_32cc_11eb_a9d5_3c528213d836row12_col0\" class=\"data row12 col0\" >Stratify Train-Test</td>\n",
       "                        <td id=\"T_ee787551_32cc_11eb_a9d5_3c528213d836row12_col1\" class=\"data row12 col1\" >False</td>\n",
       "            </tr>\n",
       "            <tr>\n",
       "                        <th id=\"T_ee787551_32cc_11eb_a9d5_3c528213d836level0_row13\" class=\"row_heading level0 row13\" >13</th>\n",
       "                        <td id=\"T_ee787551_32cc_11eb_a9d5_3c528213d836row13_col0\" class=\"data row13 col0\" >Fold Generator</td>\n",
       "                        <td id=\"T_ee787551_32cc_11eb_a9d5_3c528213d836row13_col1\" class=\"data row13 col1\" >KFold</td>\n",
       "            </tr>\n",
       "            <tr>\n",
       "                        <th id=\"T_ee787551_32cc_11eb_a9d5_3c528213d836level0_row14\" class=\"row_heading level0 row14\" >14</th>\n",
       "                        <td id=\"T_ee787551_32cc_11eb_a9d5_3c528213d836row14_col0\" class=\"data row14 col0\" >Fold Number</td>\n",
       "                        <td id=\"T_ee787551_32cc_11eb_a9d5_3c528213d836row14_col1\" class=\"data row14 col1\" >10</td>\n",
       "            </tr>\n",
       "            <tr>\n",
       "                        <th id=\"T_ee787551_32cc_11eb_a9d5_3c528213d836level0_row15\" class=\"row_heading level0 row15\" >15</th>\n",
       "                        <td id=\"T_ee787551_32cc_11eb_a9d5_3c528213d836row15_col0\" class=\"data row15 col0\" >CPU Jobs</td>\n",
       "                        <td id=\"T_ee787551_32cc_11eb_a9d5_3c528213d836row15_col1\" class=\"data row15 col1\" >-1</td>\n",
       "            </tr>\n",
       "            <tr>\n",
       "                        <th id=\"T_ee787551_32cc_11eb_a9d5_3c528213d836level0_row16\" class=\"row_heading level0 row16\" >16</th>\n",
       "                        <td id=\"T_ee787551_32cc_11eb_a9d5_3c528213d836row16_col0\" class=\"data row16 col0\" >Use GPU</td>\n",
       "                        <td id=\"T_ee787551_32cc_11eb_a9d5_3c528213d836row16_col1\" class=\"data row16 col1\" >False</td>\n",
       "            </tr>\n",
       "            <tr>\n",
       "                        <th id=\"T_ee787551_32cc_11eb_a9d5_3c528213d836level0_row17\" class=\"row_heading level0 row17\" >17</th>\n",
       "                        <td id=\"T_ee787551_32cc_11eb_a9d5_3c528213d836row17_col0\" class=\"data row17 col0\" >Log Experiment</td>\n",
       "                        <td id=\"T_ee787551_32cc_11eb_a9d5_3c528213d836row17_col1\" class=\"data row17 col1\" >False</td>\n",
       "            </tr>\n",
       "            <tr>\n",
       "                        <th id=\"T_ee787551_32cc_11eb_a9d5_3c528213d836level0_row18\" class=\"row_heading level0 row18\" >18</th>\n",
       "                        <td id=\"T_ee787551_32cc_11eb_a9d5_3c528213d836row18_col0\" class=\"data row18 col0\" >Experiment Name</td>\n",
       "                        <td id=\"T_ee787551_32cc_11eb_a9d5_3c528213d836row18_col1\" class=\"data row18 col1\" >reg-default-name</td>\n",
       "            </tr>\n",
       "            <tr>\n",
       "                        <th id=\"T_ee787551_32cc_11eb_a9d5_3c528213d836level0_row19\" class=\"row_heading level0 row19\" >19</th>\n",
       "                        <td id=\"T_ee787551_32cc_11eb_a9d5_3c528213d836row19_col0\" class=\"data row19 col0\" >USI</td>\n",
       "                        <td id=\"T_ee787551_32cc_11eb_a9d5_3c528213d836row19_col1\" class=\"data row19 col1\" >f612</td>\n",
       "            </tr>\n",
       "            <tr>\n",
       "                        <th id=\"T_ee787551_32cc_11eb_a9d5_3c528213d836level0_row20\" class=\"row_heading level0 row20\" >20</th>\n",
       "                        <td id=\"T_ee787551_32cc_11eb_a9d5_3c528213d836row20_col0\" class=\"data row20 col0\" >Imputation Type</td>\n",
       "                        <td id=\"T_ee787551_32cc_11eb_a9d5_3c528213d836row20_col1\" class=\"data row20 col1\" >simple</td>\n",
       "            </tr>\n",
       "            <tr>\n",
       "                        <th id=\"T_ee787551_32cc_11eb_a9d5_3c528213d836level0_row21\" class=\"row_heading level0 row21\" >21</th>\n",
       "                        <td id=\"T_ee787551_32cc_11eb_a9d5_3c528213d836row21_col0\" class=\"data row21 col0\" >Iterative Imputation Iteration</td>\n",
       "                        <td id=\"T_ee787551_32cc_11eb_a9d5_3c528213d836row21_col1\" class=\"data row21 col1\" >None</td>\n",
       "            </tr>\n",
       "            <tr>\n",
       "                        <th id=\"T_ee787551_32cc_11eb_a9d5_3c528213d836level0_row22\" class=\"row_heading level0 row22\" >22</th>\n",
       "                        <td id=\"T_ee787551_32cc_11eb_a9d5_3c528213d836row22_col0\" class=\"data row22 col0\" >Numeric Imputer</td>\n",
       "                        <td id=\"T_ee787551_32cc_11eb_a9d5_3c528213d836row22_col1\" class=\"data row22 col1\" >mean</td>\n",
       "            </tr>\n",
       "            <tr>\n",
       "                        <th id=\"T_ee787551_32cc_11eb_a9d5_3c528213d836level0_row23\" class=\"row_heading level0 row23\" >23</th>\n",
       "                        <td id=\"T_ee787551_32cc_11eb_a9d5_3c528213d836row23_col0\" class=\"data row23 col0\" >Iterative Imputation Numeric Model</td>\n",
       "                        <td id=\"T_ee787551_32cc_11eb_a9d5_3c528213d836row23_col1\" class=\"data row23 col1\" >None</td>\n",
       "            </tr>\n",
       "            <tr>\n",
       "                        <th id=\"T_ee787551_32cc_11eb_a9d5_3c528213d836level0_row24\" class=\"row_heading level0 row24\" >24</th>\n",
       "                        <td id=\"T_ee787551_32cc_11eb_a9d5_3c528213d836row24_col0\" class=\"data row24 col0\" >Categorical Imputer</td>\n",
       "                        <td id=\"T_ee787551_32cc_11eb_a9d5_3c528213d836row24_col1\" class=\"data row24 col1\" >constant</td>\n",
       "            </tr>\n",
       "            <tr>\n",
       "                        <th id=\"T_ee787551_32cc_11eb_a9d5_3c528213d836level0_row25\" class=\"row_heading level0 row25\" >25</th>\n",
       "                        <td id=\"T_ee787551_32cc_11eb_a9d5_3c528213d836row25_col0\" class=\"data row25 col0\" >Iterative Imputation Categorical Model</td>\n",
       "                        <td id=\"T_ee787551_32cc_11eb_a9d5_3c528213d836row25_col1\" class=\"data row25 col1\" >None</td>\n",
       "            </tr>\n",
       "            <tr>\n",
       "                        <th id=\"T_ee787551_32cc_11eb_a9d5_3c528213d836level0_row26\" class=\"row_heading level0 row26\" >26</th>\n",
       "                        <td id=\"T_ee787551_32cc_11eb_a9d5_3c528213d836row26_col0\" class=\"data row26 col0\" >Unknown Categoricals Handling</td>\n",
       "                        <td id=\"T_ee787551_32cc_11eb_a9d5_3c528213d836row26_col1\" class=\"data row26 col1\" >least_frequent</td>\n",
       "            </tr>\n",
       "            <tr>\n",
       "                        <th id=\"T_ee787551_32cc_11eb_a9d5_3c528213d836level0_row27\" class=\"row_heading level0 row27\" >27</th>\n",
       "                        <td id=\"T_ee787551_32cc_11eb_a9d5_3c528213d836row27_col0\" class=\"data row27 col0\" >Normalize</td>\n",
       "                        <td id=\"T_ee787551_32cc_11eb_a9d5_3c528213d836row27_col1\" class=\"data row27 col1\" >False</td>\n",
       "            </tr>\n",
       "            <tr>\n",
       "                        <th id=\"T_ee787551_32cc_11eb_a9d5_3c528213d836level0_row28\" class=\"row_heading level0 row28\" >28</th>\n",
       "                        <td id=\"T_ee787551_32cc_11eb_a9d5_3c528213d836row28_col0\" class=\"data row28 col0\" >Normalize Method</td>\n",
       "                        <td id=\"T_ee787551_32cc_11eb_a9d5_3c528213d836row28_col1\" class=\"data row28 col1\" >None</td>\n",
       "            </tr>\n",
       "            <tr>\n",
       "                        <th id=\"T_ee787551_32cc_11eb_a9d5_3c528213d836level0_row29\" class=\"row_heading level0 row29\" >29</th>\n",
       "                        <td id=\"T_ee787551_32cc_11eb_a9d5_3c528213d836row29_col0\" class=\"data row29 col0\" >Transformation</td>\n",
       "                        <td id=\"T_ee787551_32cc_11eb_a9d5_3c528213d836row29_col1\" class=\"data row29 col1\" >False</td>\n",
       "            </tr>\n",
       "            <tr>\n",
       "                        <th id=\"T_ee787551_32cc_11eb_a9d5_3c528213d836level0_row30\" class=\"row_heading level0 row30\" >30</th>\n",
       "                        <td id=\"T_ee787551_32cc_11eb_a9d5_3c528213d836row30_col0\" class=\"data row30 col0\" >Transformation Method</td>\n",
       "                        <td id=\"T_ee787551_32cc_11eb_a9d5_3c528213d836row30_col1\" class=\"data row30 col1\" >None</td>\n",
       "            </tr>\n",
       "            <tr>\n",
       "                        <th id=\"T_ee787551_32cc_11eb_a9d5_3c528213d836level0_row31\" class=\"row_heading level0 row31\" >31</th>\n",
       "                        <td id=\"T_ee787551_32cc_11eb_a9d5_3c528213d836row31_col0\" class=\"data row31 col0\" >PCA</td>\n",
       "                        <td id=\"T_ee787551_32cc_11eb_a9d5_3c528213d836row31_col1\" class=\"data row31 col1\" >False</td>\n",
       "            </tr>\n",
       "            <tr>\n",
       "                        <th id=\"T_ee787551_32cc_11eb_a9d5_3c528213d836level0_row32\" class=\"row_heading level0 row32\" >32</th>\n",
       "                        <td id=\"T_ee787551_32cc_11eb_a9d5_3c528213d836row32_col0\" class=\"data row32 col0\" >PCA Method</td>\n",
       "                        <td id=\"T_ee787551_32cc_11eb_a9d5_3c528213d836row32_col1\" class=\"data row32 col1\" >None</td>\n",
       "            </tr>\n",
       "            <tr>\n",
       "                        <th id=\"T_ee787551_32cc_11eb_a9d5_3c528213d836level0_row33\" class=\"row_heading level0 row33\" >33</th>\n",
       "                        <td id=\"T_ee787551_32cc_11eb_a9d5_3c528213d836row33_col0\" class=\"data row33 col0\" >PCA Components</td>\n",
       "                        <td id=\"T_ee787551_32cc_11eb_a9d5_3c528213d836row33_col1\" class=\"data row33 col1\" >None</td>\n",
       "            </tr>\n",
       "            <tr>\n",
       "                        <th id=\"T_ee787551_32cc_11eb_a9d5_3c528213d836level0_row34\" class=\"row_heading level0 row34\" >34</th>\n",
       "                        <td id=\"T_ee787551_32cc_11eb_a9d5_3c528213d836row34_col0\" class=\"data row34 col0\" >Ignore Low Variance</td>\n",
       "                        <td id=\"T_ee787551_32cc_11eb_a9d5_3c528213d836row34_col1\" class=\"data row34 col1\" >False</td>\n",
       "            </tr>\n",
       "            <tr>\n",
       "                        <th id=\"T_ee787551_32cc_11eb_a9d5_3c528213d836level0_row35\" class=\"row_heading level0 row35\" >35</th>\n",
       "                        <td id=\"T_ee787551_32cc_11eb_a9d5_3c528213d836row35_col0\" class=\"data row35 col0\" >Combine Rare Levels</td>\n",
       "                        <td id=\"T_ee787551_32cc_11eb_a9d5_3c528213d836row35_col1\" class=\"data row35 col1\" >False</td>\n",
       "            </tr>\n",
       "            <tr>\n",
       "                        <th id=\"T_ee787551_32cc_11eb_a9d5_3c528213d836level0_row36\" class=\"row_heading level0 row36\" >36</th>\n",
       "                        <td id=\"T_ee787551_32cc_11eb_a9d5_3c528213d836row36_col0\" class=\"data row36 col0\" >Rare Level Threshold</td>\n",
       "                        <td id=\"T_ee787551_32cc_11eb_a9d5_3c528213d836row36_col1\" class=\"data row36 col1\" >None</td>\n",
       "            </tr>\n",
       "            <tr>\n",
       "                        <th id=\"T_ee787551_32cc_11eb_a9d5_3c528213d836level0_row37\" class=\"row_heading level0 row37\" >37</th>\n",
       "                        <td id=\"T_ee787551_32cc_11eb_a9d5_3c528213d836row37_col0\" class=\"data row37 col0\" >Numeric Binning</td>\n",
       "                        <td id=\"T_ee787551_32cc_11eb_a9d5_3c528213d836row37_col1\" class=\"data row37 col1\" >False</td>\n",
       "            </tr>\n",
       "            <tr>\n",
       "                        <th id=\"T_ee787551_32cc_11eb_a9d5_3c528213d836level0_row38\" class=\"row_heading level0 row38\" >38</th>\n",
       "                        <td id=\"T_ee787551_32cc_11eb_a9d5_3c528213d836row38_col0\" class=\"data row38 col0\" >Remove Outliers</td>\n",
       "                        <td id=\"T_ee787551_32cc_11eb_a9d5_3c528213d836row38_col1\" class=\"data row38 col1\" >False</td>\n",
       "            </tr>\n",
       "            <tr>\n",
       "                        <th id=\"T_ee787551_32cc_11eb_a9d5_3c528213d836level0_row39\" class=\"row_heading level0 row39\" >39</th>\n",
       "                        <td id=\"T_ee787551_32cc_11eb_a9d5_3c528213d836row39_col0\" class=\"data row39 col0\" >Outliers Threshold</td>\n",
       "                        <td id=\"T_ee787551_32cc_11eb_a9d5_3c528213d836row39_col1\" class=\"data row39 col1\" >None</td>\n",
       "            </tr>\n",
       "            <tr>\n",
       "                        <th id=\"T_ee787551_32cc_11eb_a9d5_3c528213d836level0_row40\" class=\"row_heading level0 row40\" >40</th>\n",
       "                        <td id=\"T_ee787551_32cc_11eb_a9d5_3c528213d836row40_col0\" class=\"data row40 col0\" >Remove Multicollinearity</td>\n",
       "                        <td id=\"T_ee787551_32cc_11eb_a9d5_3c528213d836row40_col1\" class=\"data row40 col1\" >False</td>\n",
       "            </tr>\n",
       "            <tr>\n",
       "                        <th id=\"T_ee787551_32cc_11eb_a9d5_3c528213d836level0_row41\" class=\"row_heading level0 row41\" >41</th>\n",
       "                        <td id=\"T_ee787551_32cc_11eb_a9d5_3c528213d836row41_col0\" class=\"data row41 col0\" >Multicollinearity Threshold</td>\n",
       "                        <td id=\"T_ee787551_32cc_11eb_a9d5_3c528213d836row41_col1\" class=\"data row41 col1\" >None</td>\n",
       "            </tr>\n",
       "            <tr>\n",
       "                        <th id=\"T_ee787551_32cc_11eb_a9d5_3c528213d836level0_row42\" class=\"row_heading level0 row42\" >42</th>\n",
       "                        <td id=\"T_ee787551_32cc_11eb_a9d5_3c528213d836row42_col0\" class=\"data row42 col0\" >Clustering</td>\n",
       "                        <td id=\"T_ee787551_32cc_11eb_a9d5_3c528213d836row42_col1\" class=\"data row42 col1\" >False</td>\n",
       "            </tr>\n",
       "            <tr>\n",
       "                        <th id=\"T_ee787551_32cc_11eb_a9d5_3c528213d836level0_row43\" class=\"row_heading level0 row43\" >43</th>\n",
       "                        <td id=\"T_ee787551_32cc_11eb_a9d5_3c528213d836row43_col0\" class=\"data row43 col0\" >Clustering Iteration</td>\n",
       "                        <td id=\"T_ee787551_32cc_11eb_a9d5_3c528213d836row43_col1\" class=\"data row43 col1\" >None</td>\n",
       "            </tr>\n",
       "            <tr>\n",
       "                        <th id=\"T_ee787551_32cc_11eb_a9d5_3c528213d836level0_row44\" class=\"row_heading level0 row44\" >44</th>\n",
       "                        <td id=\"T_ee787551_32cc_11eb_a9d5_3c528213d836row44_col0\" class=\"data row44 col0\" >Polynomial Features</td>\n",
       "                        <td id=\"T_ee787551_32cc_11eb_a9d5_3c528213d836row44_col1\" class=\"data row44 col1\" >False</td>\n",
       "            </tr>\n",
       "            <tr>\n",
       "                        <th id=\"T_ee787551_32cc_11eb_a9d5_3c528213d836level0_row45\" class=\"row_heading level0 row45\" >45</th>\n",
       "                        <td id=\"T_ee787551_32cc_11eb_a9d5_3c528213d836row45_col0\" class=\"data row45 col0\" >Polynomial Degree</td>\n",
       "                        <td id=\"T_ee787551_32cc_11eb_a9d5_3c528213d836row45_col1\" class=\"data row45 col1\" >None</td>\n",
       "            </tr>\n",
       "            <tr>\n",
       "                        <th id=\"T_ee787551_32cc_11eb_a9d5_3c528213d836level0_row46\" class=\"row_heading level0 row46\" >46</th>\n",
       "                        <td id=\"T_ee787551_32cc_11eb_a9d5_3c528213d836row46_col0\" class=\"data row46 col0\" >Trignometry Features</td>\n",
       "                        <td id=\"T_ee787551_32cc_11eb_a9d5_3c528213d836row46_col1\" class=\"data row46 col1\" >False</td>\n",
       "            </tr>\n",
       "            <tr>\n",
       "                        <th id=\"T_ee787551_32cc_11eb_a9d5_3c528213d836level0_row47\" class=\"row_heading level0 row47\" >47</th>\n",
       "                        <td id=\"T_ee787551_32cc_11eb_a9d5_3c528213d836row47_col0\" class=\"data row47 col0\" >Polynomial Threshold</td>\n",
       "                        <td id=\"T_ee787551_32cc_11eb_a9d5_3c528213d836row47_col1\" class=\"data row47 col1\" >None</td>\n",
       "            </tr>\n",
       "            <tr>\n",
       "                        <th id=\"T_ee787551_32cc_11eb_a9d5_3c528213d836level0_row48\" class=\"row_heading level0 row48\" >48</th>\n",
       "                        <td id=\"T_ee787551_32cc_11eb_a9d5_3c528213d836row48_col0\" class=\"data row48 col0\" >Group Features</td>\n",
       "                        <td id=\"T_ee787551_32cc_11eb_a9d5_3c528213d836row48_col1\" class=\"data row48 col1\" >False</td>\n",
       "            </tr>\n",
       "            <tr>\n",
       "                        <th id=\"T_ee787551_32cc_11eb_a9d5_3c528213d836level0_row49\" class=\"row_heading level0 row49\" >49</th>\n",
       "                        <td id=\"T_ee787551_32cc_11eb_a9d5_3c528213d836row49_col0\" class=\"data row49 col0\" >Feature Selection</td>\n",
       "                        <td id=\"T_ee787551_32cc_11eb_a9d5_3c528213d836row49_col1\" class=\"data row49 col1\" >False</td>\n",
       "            </tr>\n",
       "            <tr>\n",
       "                        <th id=\"T_ee787551_32cc_11eb_a9d5_3c528213d836level0_row50\" class=\"row_heading level0 row50\" >50</th>\n",
       "                        <td id=\"T_ee787551_32cc_11eb_a9d5_3c528213d836row50_col0\" class=\"data row50 col0\" >Features Selection Threshold</td>\n",
       "                        <td id=\"T_ee787551_32cc_11eb_a9d5_3c528213d836row50_col1\" class=\"data row50 col1\" >None</td>\n",
       "            </tr>\n",
       "            <tr>\n",
       "                        <th id=\"T_ee787551_32cc_11eb_a9d5_3c528213d836level0_row51\" class=\"row_heading level0 row51\" >51</th>\n",
       "                        <td id=\"T_ee787551_32cc_11eb_a9d5_3c528213d836row51_col0\" class=\"data row51 col0\" >Feature Interaction</td>\n",
       "                        <td id=\"T_ee787551_32cc_11eb_a9d5_3c528213d836row51_col1\" class=\"data row51 col1\" >False</td>\n",
       "            </tr>\n",
       "            <tr>\n",
       "                        <th id=\"T_ee787551_32cc_11eb_a9d5_3c528213d836level0_row52\" class=\"row_heading level0 row52\" >52</th>\n",
       "                        <td id=\"T_ee787551_32cc_11eb_a9d5_3c528213d836row52_col0\" class=\"data row52 col0\" >Feature Ratio</td>\n",
       "                        <td id=\"T_ee787551_32cc_11eb_a9d5_3c528213d836row52_col1\" class=\"data row52 col1\" >False</td>\n",
       "            </tr>\n",
       "            <tr>\n",
       "                        <th id=\"T_ee787551_32cc_11eb_a9d5_3c528213d836level0_row53\" class=\"row_heading level0 row53\" >53</th>\n",
       "                        <td id=\"T_ee787551_32cc_11eb_a9d5_3c528213d836row53_col0\" class=\"data row53 col0\" >Interaction Threshold</td>\n",
       "                        <td id=\"T_ee787551_32cc_11eb_a9d5_3c528213d836row53_col1\" class=\"data row53 col1\" >None</td>\n",
       "            </tr>\n",
       "            <tr>\n",
       "                        <th id=\"T_ee787551_32cc_11eb_a9d5_3c528213d836level0_row54\" class=\"row_heading level0 row54\" >54</th>\n",
       "                        <td id=\"T_ee787551_32cc_11eb_a9d5_3c528213d836row54_col0\" class=\"data row54 col0\" >Transform Target</td>\n",
       "                        <td id=\"T_ee787551_32cc_11eb_a9d5_3c528213d836row54_col1\" class=\"data row54 col1\" >False</td>\n",
       "            </tr>\n",
       "            <tr>\n",
       "                        <th id=\"T_ee787551_32cc_11eb_a9d5_3c528213d836level0_row55\" class=\"row_heading level0 row55\" >55</th>\n",
       "                        <td id=\"T_ee787551_32cc_11eb_a9d5_3c528213d836row55_col0\" class=\"data row55 col0\" >Transform Target Method</td>\n",
       "                        <td id=\"T_ee787551_32cc_11eb_a9d5_3c528213d836row55_col1\" class=\"data row55 col1\" >box-cox</td>\n",
       "            </tr>\n",
       "    </tbody></table>"
      ],
      "text/plain": [
       "<pandas.io.formats.style.Styler at 0x15768c5e580>"
      ]
     },
     "metadata": {},
     "output_type": "display_data"
    }
   ],
   "source": [
    "exp_reg = setup(data = pycaret, target = 'DeathsDiff', session_id=0, normalize=False, \n",
    "                train_size=0.75, categorical_features=['Month','Day']) "
   ]
  },
  {
   "cell_type": "code",
   "execution_count": 50,
   "metadata": {},
   "outputs": [
    {
     "data": {
      "text/html": [
       "<style  type=\"text/css\" >\n",
       "    #T_0157953a_32cd_11eb_ab12_3c528213d836 th {\n",
       "          text-align: left;\n",
       "    }#T_0157953a_32cd_11eb_ab12_3c528213d836row0_col0,#T_0157953a_32cd_11eb_ab12_3c528213d836row0_col1,#T_0157953a_32cd_11eb_ab12_3c528213d836row0_col2,#T_0157953a_32cd_11eb_ab12_3c528213d836row0_col3,#T_0157953a_32cd_11eb_ab12_3c528213d836row0_col5,#T_0157953a_32cd_11eb_ab12_3c528213d836row0_col6,#T_0157953a_32cd_11eb_ab12_3c528213d836row1_col0,#T_0157953a_32cd_11eb_ab12_3c528213d836row1_col1,#T_0157953a_32cd_11eb_ab12_3c528213d836row1_col2,#T_0157953a_32cd_11eb_ab12_3c528213d836row1_col3,#T_0157953a_32cd_11eb_ab12_3c528213d836row1_col5,#T_0157953a_32cd_11eb_ab12_3c528213d836row1_col6,#T_0157953a_32cd_11eb_ab12_3c528213d836row2_col0,#T_0157953a_32cd_11eb_ab12_3c528213d836row2_col1,#T_0157953a_32cd_11eb_ab12_3c528213d836row2_col2,#T_0157953a_32cd_11eb_ab12_3c528213d836row2_col3,#T_0157953a_32cd_11eb_ab12_3c528213d836row2_col4,#T_0157953a_32cd_11eb_ab12_3c528213d836row2_col6,#T_0157953a_32cd_11eb_ab12_3c528213d836row3_col0,#T_0157953a_32cd_11eb_ab12_3c528213d836row3_col1,#T_0157953a_32cd_11eb_ab12_3c528213d836row3_col2,#T_0157953a_32cd_11eb_ab12_3c528213d836row3_col3,#T_0157953a_32cd_11eb_ab12_3c528213d836row3_col4,#T_0157953a_32cd_11eb_ab12_3c528213d836row3_col6,#T_0157953a_32cd_11eb_ab12_3c528213d836row4_col0,#T_0157953a_32cd_11eb_ab12_3c528213d836row4_col1,#T_0157953a_32cd_11eb_ab12_3c528213d836row4_col4,#T_0157953a_32cd_11eb_ab12_3c528213d836row4_col5,#T_0157953a_32cd_11eb_ab12_3c528213d836row4_col6,#T_0157953a_32cd_11eb_ab12_3c528213d836row5_col0,#T_0157953a_32cd_11eb_ab12_3c528213d836row5_col1,#T_0157953a_32cd_11eb_ab12_3c528213d836row5_col2,#T_0157953a_32cd_11eb_ab12_3c528213d836row5_col3,#T_0157953a_32cd_11eb_ab12_3c528213d836row5_col4,#T_0157953a_32cd_11eb_ab12_3c528213d836row5_col5,#T_0157953a_32cd_11eb_ab12_3c528213d836row5_col6,#T_0157953a_32cd_11eb_ab12_3c528213d836row6_col0,#T_0157953a_32cd_11eb_ab12_3c528213d836row6_col2,#T_0157953a_32cd_11eb_ab12_3c528213d836row6_col3,#T_0157953a_32cd_11eb_ab12_3c528213d836row6_col4,#T_0157953a_32cd_11eb_ab12_3c528213d836row6_col5,#T_0157953a_32cd_11eb_ab12_3c528213d836row6_col6,#T_0157953a_32cd_11eb_ab12_3c528213d836row7_col0,#T_0157953a_32cd_11eb_ab12_3c528213d836row7_col1,#T_0157953a_32cd_11eb_ab12_3c528213d836row7_col2,#T_0157953a_32cd_11eb_ab12_3c528213d836row7_col3,#T_0157953a_32cd_11eb_ab12_3c528213d836row7_col4,#T_0157953a_32cd_11eb_ab12_3c528213d836row7_col5,#T_0157953a_32cd_11eb_ab12_3c528213d836row7_col6,#T_0157953a_32cd_11eb_ab12_3c528213d836row8_col0,#T_0157953a_32cd_11eb_ab12_3c528213d836row8_col1,#T_0157953a_32cd_11eb_ab12_3c528213d836row8_col2,#T_0157953a_32cd_11eb_ab12_3c528213d836row8_col3,#T_0157953a_32cd_11eb_ab12_3c528213d836row8_col4,#T_0157953a_32cd_11eb_ab12_3c528213d836row8_col5,#T_0157953a_32cd_11eb_ab12_3c528213d836row8_col6,#T_0157953a_32cd_11eb_ab12_3c528213d836row9_col0,#T_0157953a_32cd_11eb_ab12_3c528213d836row9_col1,#T_0157953a_32cd_11eb_ab12_3c528213d836row9_col2,#T_0157953a_32cd_11eb_ab12_3c528213d836row9_col3,#T_0157953a_32cd_11eb_ab12_3c528213d836row9_col4,#T_0157953a_32cd_11eb_ab12_3c528213d836row9_col5,#T_0157953a_32cd_11eb_ab12_3c528213d836row9_col6,#T_0157953a_32cd_11eb_ab12_3c528213d836row10_col0,#T_0157953a_32cd_11eb_ab12_3c528213d836row10_col1,#T_0157953a_32cd_11eb_ab12_3c528213d836row10_col2,#T_0157953a_32cd_11eb_ab12_3c528213d836row10_col3,#T_0157953a_32cd_11eb_ab12_3c528213d836row10_col4,#T_0157953a_32cd_11eb_ab12_3c528213d836row10_col5,#T_0157953a_32cd_11eb_ab12_3c528213d836row10_col6,#T_0157953a_32cd_11eb_ab12_3c528213d836row11_col0,#T_0157953a_32cd_11eb_ab12_3c528213d836row11_col1,#T_0157953a_32cd_11eb_ab12_3c528213d836row11_col2,#T_0157953a_32cd_11eb_ab12_3c528213d836row11_col3,#T_0157953a_32cd_11eb_ab12_3c528213d836row11_col4,#T_0157953a_32cd_11eb_ab12_3c528213d836row11_col5,#T_0157953a_32cd_11eb_ab12_3c528213d836row11_col6,#T_0157953a_32cd_11eb_ab12_3c528213d836row12_col0,#T_0157953a_32cd_11eb_ab12_3c528213d836row12_col1,#T_0157953a_32cd_11eb_ab12_3c528213d836row12_col2,#T_0157953a_32cd_11eb_ab12_3c528213d836row12_col3,#T_0157953a_32cd_11eb_ab12_3c528213d836row12_col4,#T_0157953a_32cd_11eb_ab12_3c528213d836row12_col5,#T_0157953a_32cd_11eb_ab12_3c528213d836row12_col6,#T_0157953a_32cd_11eb_ab12_3c528213d836row13_col0,#T_0157953a_32cd_11eb_ab12_3c528213d836row13_col1,#T_0157953a_32cd_11eb_ab12_3c528213d836row13_col2,#T_0157953a_32cd_11eb_ab12_3c528213d836row13_col3,#T_0157953a_32cd_11eb_ab12_3c528213d836row13_col4,#T_0157953a_32cd_11eb_ab12_3c528213d836row13_col5,#T_0157953a_32cd_11eb_ab12_3c528213d836row14_col0,#T_0157953a_32cd_11eb_ab12_3c528213d836row14_col1,#T_0157953a_32cd_11eb_ab12_3c528213d836row14_col2,#T_0157953a_32cd_11eb_ab12_3c528213d836row14_col3,#T_0157953a_32cd_11eb_ab12_3c528213d836row14_col4,#T_0157953a_32cd_11eb_ab12_3c528213d836row14_col5,#T_0157953a_32cd_11eb_ab12_3c528213d836row14_col6,#T_0157953a_32cd_11eb_ab12_3c528213d836row15_col0,#T_0157953a_32cd_11eb_ab12_3c528213d836row15_col1,#T_0157953a_32cd_11eb_ab12_3c528213d836row15_col2,#T_0157953a_32cd_11eb_ab12_3c528213d836row15_col3,#T_0157953a_32cd_11eb_ab12_3c528213d836row15_col4,#T_0157953a_32cd_11eb_ab12_3c528213d836row15_col5,#T_0157953a_32cd_11eb_ab12_3c528213d836row15_col6,#T_0157953a_32cd_11eb_ab12_3c528213d836row16_col0,#T_0157953a_32cd_11eb_ab12_3c528213d836row16_col1,#T_0157953a_32cd_11eb_ab12_3c528213d836row16_col2,#T_0157953a_32cd_11eb_ab12_3c528213d836row16_col3,#T_0157953a_32cd_11eb_ab12_3c528213d836row16_col4,#T_0157953a_32cd_11eb_ab12_3c528213d836row16_col5,#T_0157953a_32cd_11eb_ab12_3c528213d836row16_col6,#T_0157953a_32cd_11eb_ab12_3c528213d836row17_col0,#T_0157953a_32cd_11eb_ab12_3c528213d836row17_col1,#T_0157953a_32cd_11eb_ab12_3c528213d836row17_col2,#T_0157953a_32cd_11eb_ab12_3c528213d836row17_col3,#T_0157953a_32cd_11eb_ab12_3c528213d836row17_col4,#T_0157953a_32cd_11eb_ab12_3c528213d836row17_col5,#T_0157953a_32cd_11eb_ab12_3c528213d836row17_col6{\n",
       "            text-align:  left;\n",
       "            text-align:  left;\n",
       "        }#T_0157953a_32cd_11eb_ab12_3c528213d836row0_col4,#T_0157953a_32cd_11eb_ab12_3c528213d836row1_col4,#T_0157953a_32cd_11eb_ab12_3c528213d836row2_col5,#T_0157953a_32cd_11eb_ab12_3c528213d836row3_col5,#T_0157953a_32cd_11eb_ab12_3c528213d836row4_col2,#T_0157953a_32cd_11eb_ab12_3c528213d836row4_col3,#T_0157953a_32cd_11eb_ab12_3c528213d836row6_col1,#T_0157953a_32cd_11eb_ab12_3c528213d836row13_col6{\n",
       "            text-align:  left;\n",
       "            text-align:  left;\n",
       "            background-color:  yellow;\n",
       "        }#T_0157953a_32cd_11eb_ab12_3c528213d836row0_col7,#T_0157953a_32cd_11eb_ab12_3c528213d836row1_col7,#T_0157953a_32cd_11eb_ab12_3c528213d836row2_col7,#T_0157953a_32cd_11eb_ab12_3c528213d836row3_col7,#T_0157953a_32cd_11eb_ab12_3c528213d836row4_col7,#T_0157953a_32cd_11eb_ab12_3c528213d836row5_col7,#T_0157953a_32cd_11eb_ab12_3c528213d836row6_col7,#T_0157953a_32cd_11eb_ab12_3c528213d836row7_col7,#T_0157953a_32cd_11eb_ab12_3c528213d836row8_col7,#T_0157953a_32cd_11eb_ab12_3c528213d836row9_col7,#T_0157953a_32cd_11eb_ab12_3c528213d836row10_col7,#T_0157953a_32cd_11eb_ab12_3c528213d836row11_col7,#T_0157953a_32cd_11eb_ab12_3c528213d836row13_col7,#T_0157953a_32cd_11eb_ab12_3c528213d836row14_col7,#T_0157953a_32cd_11eb_ab12_3c528213d836row15_col7,#T_0157953a_32cd_11eb_ab12_3c528213d836row16_col7,#T_0157953a_32cd_11eb_ab12_3c528213d836row17_col7{\n",
       "            text-align:  left;\n",
       "            text-align:  left;\n",
       "            background-color:  lightgrey;\n",
       "        }#T_0157953a_32cd_11eb_ab12_3c528213d836row12_col7{\n",
       "            text-align:  left;\n",
       "            text-align:  left;\n",
       "            background-color:  yellow;\n",
       "            background-color:  lightgrey;\n",
       "        }</style><table id=\"T_0157953a_32cd_11eb_ab12_3c528213d836\" ><thead>    <tr>        <th class=\"blank level0\" ></th>        <th class=\"col_heading level0 col0\" >Model</th>        <th class=\"col_heading level0 col1\" >MAE</th>        <th class=\"col_heading level0 col2\" >MSE</th>        <th class=\"col_heading level0 col3\" >RMSE</th>        <th class=\"col_heading level0 col4\" >R2</th>        <th class=\"col_heading level0 col5\" >RMSLE</th>        <th class=\"col_heading level0 col6\" >MAPE</th>        <th class=\"col_heading level0 col7\" >TT (Sec)</th>    </tr></thead><tbody>\n",
       "                <tr>\n",
       "                        <th id=\"T_0157953a_32cd_11eb_ab12_3c528213d836level0_row0\" class=\"row_heading level0 row0\" >lasso</th>\n",
       "                        <td id=\"T_0157953a_32cd_11eb_ab12_3c528213d836row0_col0\" class=\"data row0 col0\" >Lasso Regression</td>\n",
       "                        <td id=\"T_0157953a_32cd_11eb_ab12_3c528213d836row0_col1\" class=\"data row0 col1\" >1.0044</td>\n",
       "                        <td id=\"T_0157953a_32cd_11eb_ab12_3c528213d836row0_col2\" class=\"data row0 col2\" >2.6196</td>\n",
       "                        <td id=\"T_0157953a_32cd_11eb_ab12_3c528213d836row0_col3\" class=\"data row0 col3\" >1.5108</td>\n",
       "                        <td id=\"T_0157953a_32cd_11eb_ab12_3c528213d836row0_col4\" class=\"data row0 col4\" >0.2948</td>\n",
       "                        <td id=\"T_0157953a_32cd_11eb_ab12_3c528213d836row0_col5\" class=\"data row0 col5\" >0.4911</td>\n",
       "                        <td id=\"T_0157953a_32cd_11eb_ab12_3c528213d836row0_col6\" class=\"data row0 col6\" >0.5943</td>\n",
       "                        <td id=\"T_0157953a_32cd_11eb_ab12_3c528213d836row0_col7\" class=\"data row0 col7\" >0.0130</td>\n",
       "            </tr>\n",
       "            <tr>\n",
       "                        <th id=\"T_0157953a_32cd_11eb_ab12_3c528213d836level0_row1\" class=\"row_heading level0 row1\" >en</th>\n",
       "                        <td id=\"T_0157953a_32cd_11eb_ab12_3c528213d836row1_col0\" class=\"data row1 col0\" >Elastic Net</td>\n",
       "                        <td id=\"T_0157953a_32cd_11eb_ab12_3c528213d836row1_col1\" class=\"data row1 col1\" >1.0042</td>\n",
       "                        <td id=\"T_0157953a_32cd_11eb_ab12_3c528213d836row1_col2\" class=\"data row1 col2\" >2.6199</td>\n",
       "                        <td id=\"T_0157953a_32cd_11eb_ab12_3c528213d836row1_col3\" class=\"data row1 col3\" >1.5109</td>\n",
       "                        <td id=\"T_0157953a_32cd_11eb_ab12_3c528213d836row1_col4\" class=\"data row1 col4\" >0.2948</td>\n",
       "                        <td id=\"T_0157953a_32cd_11eb_ab12_3c528213d836row1_col5\" class=\"data row1 col5\" >0.4909</td>\n",
       "                        <td id=\"T_0157953a_32cd_11eb_ab12_3c528213d836row1_col6\" class=\"data row1 col6\" >0.5947</td>\n",
       "                        <td id=\"T_0157953a_32cd_11eb_ab12_3c528213d836row1_col7\" class=\"data row1 col7\" >0.0120</td>\n",
       "            </tr>\n",
       "            <tr>\n",
       "                        <th id=\"T_0157953a_32cd_11eb_ab12_3c528213d836level0_row2\" class=\"row_heading level0 row2\" >knn</th>\n",
       "                        <td id=\"T_0157953a_32cd_11eb_ab12_3c528213d836row2_col0\" class=\"data row2 col0\" >K Neighbors Regressor</td>\n",
       "                        <td id=\"T_0157953a_32cd_11eb_ab12_3c528213d836row2_col1\" class=\"data row2 col1\" >0.8153</td>\n",
       "                        <td id=\"T_0157953a_32cd_11eb_ab12_3c528213d836row2_col2\" class=\"data row2 col2\" >2.2315</td>\n",
       "                        <td id=\"T_0157953a_32cd_11eb_ab12_3c528213d836row2_col3\" class=\"data row2 col3\" >1.4357</td>\n",
       "                        <td id=\"T_0157953a_32cd_11eb_ab12_3c528213d836row2_col4\" class=\"data row2 col4\" >0.2762</td>\n",
       "                        <td id=\"T_0157953a_32cd_11eb_ab12_3c528213d836row2_col5\" class=\"data row2 col5\" >0.4397</td>\n",
       "                        <td id=\"T_0157953a_32cd_11eb_ab12_3c528213d836row2_col6\" class=\"data row2 col6\" >0.7076</td>\n",
       "                        <td id=\"T_0157953a_32cd_11eb_ab12_3c528213d836row2_col7\" class=\"data row2 col7\" >0.0140</td>\n",
       "            </tr>\n",
       "            <tr>\n",
       "                        <th id=\"T_0157953a_32cd_11eb_ab12_3c528213d836level0_row3\" class=\"row_heading level0 row3\" >huber</th>\n",
       "                        <td id=\"T_0157953a_32cd_11eb_ab12_3c528213d836row3_col0\" class=\"data row3 col0\" >Huber Regressor</td>\n",
       "                        <td id=\"T_0157953a_32cd_11eb_ab12_3c528213d836row3_col1\" class=\"data row3 col1\" >0.8071</td>\n",
       "                        <td id=\"T_0157953a_32cd_11eb_ab12_3c528213d836row3_col2\" class=\"data row3 col2\" >2.5101</td>\n",
       "                        <td id=\"T_0157953a_32cd_11eb_ab12_3c528213d836row3_col3\" class=\"data row3 col3\" >1.4925</td>\n",
       "                        <td id=\"T_0157953a_32cd_11eb_ab12_3c528213d836row3_col4\" class=\"data row3 col4\" >0.2610</td>\n",
       "                        <td id=\"T_0157953a_32cd_11eb_ab12_3c528213d836row3_col5\" class=\"data row3 col5\" >0.4397</td>\n",
       "                        <td id=\"T_0157953a_32cd_11eb_ab12_3c528213d836row3_col6\" class=\"data row3 col6\" >0.6261</td>\n",
       "                        <td id=\"T_0157953a_32cd_11eb_ab12_3c528213d836row3_col7\" class=\"data row3 col7\" >0.0290</td>\n",
       "            </tr>\n",
       "            <tr>\n",
       "                        <th id=\"T_0157953a_32cd_11eb_ab12_3c528213d836level0_row4\" class=\"row_heading level0 row4\" >lightgbm</th>\n",
       "                        <td id=\"T_0157953a_32cd_11eb_ab12_3c528213d836row4_col0\" class=\"data row4 col0\" >Light Gradient Boosting Machine</td>\n",
       "                        <td id=\"T_0157953a_32cd_11eb_ab12_3c528213d836row4_col1\" class=\"data row4 col1\" >0.8245</td>\n",
       "                        <td id=\"T_0157953a_32cd_11eb_ab12_3c528213d836row4_col2\" class=\"data row4 col2\" >2.0951</td>\n",
       "                        <td id=\"T_0157953a_32cd_11eb_ab12_3c528213d836row4_col3\" class=\"data row4 col3\" >1.3988</td>\n",
       "                        <td id=\"T_0157953a_32cd_11eb_ab12_3c528213d836row4_col4\" class=\"data row4 col4\" >0.2433</td>\n",
       "                        <td id=\"T_0157953a_32cd_11eb_ab12_3c528213d836row4_col5\" class=\"data row4 col5\" >0.4450</td>\n",
       "                        <td id=\"T_0157953a_32cd_11eb_ab12_3c528213d836row4_col6\" class=\"data row4 col6\" >0.6732</td>\n",
       "                        <td id=\"T_0157953a_32cd_11eb_ab12_3c528213d836row4_col7\" class=\"data row4 col7\" >0.0260</td>\n",
       "            </tr>\n",
       "            <tr>\n",
       "                        <th id=\"T_0157953a_32cd_11eb_ab12_3c528213d836level0_row5\" class=\"row_heading level0 row5\" >br</th>\n",
       "                        <td id=\"T_0157953a_32cd_11eb_ab12_3c528213d836row5_col0\" class=\"data row5 col0\" >Bayesian Ridge</td>\n",
       "                        <td id=\"T_0157953a_32cd_11eb_ab12_3c528213d836row5_col1\" class=\"data row5 col1\" >0.9737</td>\n",
       "                        <td id=\"T_0157953a_32cd_11eb_ab12_3c528213d836row5_col2\" class=\"data row5 col2\" >2.6449</td>\n",
       "                        <td id=\"T_0157953a_32cd_11eb_ab12_3c528213d836row5_col3\" class=\"data row5 col3\" >1.5262</td>\n",
       "                        <td id=\"T_0157953a_32cd_11eb_ab12_3c528213d836row5_col4\" class=\"data row5 col4\" >0.2267</td>\n",
       "                        <td id=\"T_0157953a_32cd_11eb_ab12_3c528213d836row5_col5\" class=\"data row5 col5\" >0.4839</td>\n",
       "                        <td id=\"T_0157953a_32cd_11eb_ab12_3c528213d836row5_col6\" class=\"data row5 col6\" >0.6006</td>\n",
       "                        <td id=\"T_0157953a_32cd_11eb_ab12_3c528213d836row5_col7\" class=\"data row5 col7\" >0.0150</td>\n",
       "            </tr>\n",
       "            <tr>\n",
       "                        <th id=\"T_0157953a_32cd_11eb_ab12_3c528213d836level0_row6\" class=\"row_heading level0 row6\" >et</th>\n",
       "                        <td id=\"T_0157953a_32cd_11eb_ab12_3c528213d836row6_col0\" class=\"data row6 col0\" >Extra Trees Regressor</td>\n",
       "                        <td id=\"T_0157953a_32cd_11eb_ab12_3c528213d836row6_col1\" class=\"data row6 col1\" >0.7696</td>\n",
       "                        <td id=\"T_0157953a_32cd_11eb_ab12_3c528213d836row6_col2\" class=\"data row6 col2\" >2.5556</td>\n",
       "                        <td id=\"T_0157953a_32cd_11eb_ab12_3c528213d836row6_col3\" class=\"data row6 col3\" >1.5178</td>\n",
       "                        <td id=\"T_0157953a_32cd_11eb_ab12_3c528213d836row6_col4\" class=\"data row6 col4\" >0.1749</td>\n",
       "                        <td id=\"T_0157953a_32cd_11eb_ab12_3c528213d836row6_col5\" class=\"data row6 col5\" >0.4442</td>\n",
       "                        <td id=\"T_0157953a_32cd_11eb_ab12_3c528213d836row6_col6\" class=\"data row6 col6\" >0.6348</td>\n",
       "                        <td id=\"T_0157953a_32cd_11eb_ab12_3c528213d836row6_col7\" class=\"data row6 col7\" >0.1230</td>\n",
       "            </tr>\n",
       "            <tr>\n",
       "                        <th id=\"T_0157953a_32cd_11eb_ab12_3c528213d836level0_row7\" class=\"row_heading level0 row7\" >catboost</th>\n",
       "                        <td id=\"T_0157953a_32cd_11eb_ab12_3c528213d836row7_col0\" class=\"data row7 col0\" >CatBoost Regressor</td>\n",
       "                        <td id=\"T_0157953a_32cd_11eb_ab12_3c528213d836row7_col1\" class=\"data row7 col1\" >0.8570</td>\n",
       "                        <td id=\"T_0157953a_32cd_11eb_ab12_3c528213d836row7_col2\" class=\"data row7 col2\" >2.3486</td>\n",
       "                        <td id=\"T_0157953a_32cd_11eb_ab12_3c528213d836row7_col3\" class=\"data row7 col3\" >1.4838</td>\n",
       "                        <td id=\"T_0157953a_32cd_11eb_ab12_3c528213d836row7_col4\" class=\"data row7 col4\" >0.1551</td>\n",
       "                        <td id=\"T_0157953a_32cd_11eb_ab12_3c528213d836row7_col5\" class=\"data row7 col5\" >0.4441</td>\n",
       "                        <td id=\"T_0157953a_32cd_11eb_ab12_3c528213d836row7_col6\" class=\"data row7 col6\" >0.6759</td>\n",
       "                        <td id=\"T_0157953a_32cd_11eb_ab12_3c528213d836row7_col7\" class=\"data row7 col7\" >1.1140</td>\n",
       "            </tr>\n",
       "            <tr>\n",
       "                        <th id=\"T_0157953a_32cd_11eb_ab12_3c528213d836level0_row8\" class=\"row_heading level0 row8\" >rf</th>\n",
       "                        <td id=\"T_0157953a_32cd_11eb_ab12_3c528213d836row8_col0\" class=\"data row8 col0\" >Random Forest Regressor</td>\n",
       "                        <td id=\"T_0157953a_32cd_11eb_ab12_3c528213d836row8_col1\" class=\"data row8 col1\" >0.8110</td>\n",
       "                        <td id=\"T_0157953a_32cd_11eb_ab12_3c528213d836row8_col2\" class=\"data row8 col2\" >2.3499</td>\n",
       "                        <td id=\"T_0157953a_32cd_11eb_ab12_3c528213d836row8_col3\" class=\"data row8 col3\" >1.4723</td>\n",
       "                        <td id=\"T_0157953a_32cd_11eb_ab12_3c528213d836row8_col4\" class=\"data row8 col4\" >0.1445</td>\n",
       "                        <td id=\"T_0157953a_32cd_11eb_ab12_3c528213d836row8_col5\" class=\"data row8 col5\" >0.4474</td>\n",
       "                        <td id=\"T_0157953a_32cd_11eb_ab12_3c528213d836row8_col6\" class=\"data row8 col6\" >0.6468</td>\n",
       "                        <td id=\"T_0157953a_32cd_11eb_ab12_3c528213d836row8_col7\" class=\"data row8 col7\" >0.1410</td>\n",
       "            </tr>\n",
       "            <tr>\n",
       "                        <th id=\"T_0157953a_32cd_11eb_ab12_3c528213d836level0_row9\" class=\"row_heading level0 row9\" >ada</th>\n",
       "                        <td id=\"T_0157953a_32cd_11eb_ab12_3c528213d836row9_col0\" class=\"data row9 col0\" >AdaBoost Regressor</td>\n",
       "                        <td id=\"T_0157953a_32cd_11eb_ab12_3c528213d836row9_col1\" class=\"data row9 col1\" >1.0312</td>\n",
       "                        <td id=\"T_0157953a_32cd_11eb_ab12_3c528213d836row9_col2\" class=\"data row9 col2\" >2.3350</td>\n",
       "                        <td id=\"T_0157953a_32cd_11eb_ab12_3c528213d836row9_col3\" class=\"data row9 col3\" >1.4824</td>\n",
       "                        <td id=\"T_0157953a_32cd_11eb_ab12_3c528213d836row9_col4\" class=\"data row9 col4\" >0.1330</td>\n",
       "                        <td id=\"T_0157953a_32cd_11eb_ab12_3c528213d836row9_col5\" class=\"data row9 col5\" >0.5379</td>\n",
       "                        <td id=\"T_0157953a_32cd_11eb_ab12_3c528213d836row9_col6\" class=\"data row9 col6\" >0.5177</td>\n",
       "                        <td id=\"T_0157953a_32cd_11eb_ab12_3c528213d836row9_col7\" class=\"data row9 col7\" >0.0440</td>\n",
       "            </tr>\n",
       "            <tr>\n",
       "                        <th id=\"T_0157953a_32cd_11eb_ab12_3c528213d836level0_row10\" class=\"row_heading level0 row10\" >gbr</th>\n",
       "                        <td id=\"T_0157953a_32cd_11eb_ab12_3c528213d836row10_col0\" class=\"data row10 col0\" >Gradient Boosting Regressor</td>\n",
       "                        <td id=\"T_0157953a_32cd_11eb_ab12_3c528213d836row10_col1\" class=\"data row10 col1\" >0.8746</td>\n",
       "                        <td id=\"T_0157953a_32cd_11eb_ab12_3c528213d836row10_col2\" class=\"data row10 col2\" >2.5151</td>\n",
       "                        <td id=\"T_0157953a_32cd_11eb_ab12_3c528213d836row10_col3\" class=\"data row10 col3\" >1.5329</td>\n",
       "                        <td id=\"T_0157953a_32cd_11eb_ab12_3c528213d836row10_col4\" class=\"data row10 col4\" >0.0866</td>\n",
       "                        <td id=\"T_0157953a_32cd_11eb_ab12_3c528213d836row10_col5\" class=\"data row10 col5\" >0.4669</td>\n",
       "                        <td id=\"T_0157953a_32cd_11eb_ab12_3c528213d836row10_col6\" class=\"data row10 col6\" >0.7084</td>\n",
       "                        <td id=\"T_0157953a_32cd_11eb_ab12_3c528213d836row10_col7\" class=\"data row10 col7\" >0.0390</td>\n",
       "            </tr>\n",
       "            <tr>\n",
       "                        <th id=\"T_0157953a_32cd_11eb_ab12_3c528213d836level0_row11\" class=\"row_heading level0 row11\" >omp</th>\n",
       "                        <td id=\"T_0157953a_32cd_11eb_ab12_3c528213d836row11_col0\" class=\"data row11 col0\" >Orthogonal Matching Pursuit</td>\n",
       "                        <td id=\"T_0157953a_32cd_11eb_ab12_3c528213d836row11_col1\" class=\"data row11 col1\" >0.8947</td>\n",
       "                        <td id=\"T_0157953a_32cd_11eb_ab12_3c528213d836row11_col2\" class=\"data row11 col2\" >2.5398</td>\n",
       "                        <td id=\"T_0157953a_32cd_11eb_ab12_3c528213d836row11_col3\" class=\"data row11 col3\" >1.5172</td>\n",
       "                        <td id=\"T_0157953a_32cd_11eb_ab12_3c528213d836row11_col4\" class=\"data row11 col4\" >-0.0232</td>\n",
       "                        <td id=\"T_0157953a_32cd_11eb_ab12_3c528213d836row11_col5\" class=\"data row11 col5\" >0.4715</td>\n",
       "                        <td id=\"T_0157953a_32cd_11eb_ab12_3c528213d836row11_col6\" class=\"data row11 col6\" >0.6665</td>\n",
       "                        <td id=\"T_0157953a_32cd_11eb_ab12_3c528213d836row11_col7\" class=\"data row11 col7\" >0.0130</td>\n",
       "            </tr>\n",
       "            <tr>\n",
       "                        <th id=\"T_0157953a_32cd_11eb_ab12_3c528213d836level0_row12\" class=\"row_heading level0 row12\" >ridge</th>\n",
       "                        <td id=\"T_0157953a_32cd_11eb_ab12_3c528213d836row12_col0\" class=\"data row12 col0\" >Ridge Regression</td>\n",
       "                        <td id=\"T_0157953a_32cd_11eb_ab12_3c528213d836row12_col1\" class=\"data row12 col1\" >1.0666</td>\n",
       "                        <td id=\"T_0157953a_32cd_11eb_ab12_3c528213d836row12_col2\" class=\"data row12 col2\" >2.9943</td>\n",
       "                        <td id=\"T_0157953a_32cd_11eb_ab12_3c528213d836row12_col3\" class=\"data row12 col3\" >1.6623</td>\n",
       "                        <td id=\"T_0157953a_32cd_11eb_ab12_3c528213d836row12_col4\" class=\"data row12 col4\" >-0.2045</td>\n",
       "                        <td id=\"T_0157953a_32cd_11eb_ab12_3c528213d836row12_col5\" class=\"data row12 col5\" >0.5479</td>\n",
       "                        <td id=\"T_0157953a_32cd_11eb_ab12_3c528213d836row12_col6\" class=\"data row12 col6\" >0.6564</td>\n",
       "                        <td id=\"T_0157953a_32cd_11eb_ab12_3c528213d836row12_col7\" class=\"data row12 col7\" >0.0100</td>\n",
       "            </tr>\n",
       "            <tr>\n",
       "                        <th id=\"T_0157953a_32cd_11eb_ab12_3c528213d836level0_row13\" class=\"row_heading level0 row13\" >llar</th>\n",
       "                        <td id=\"T_0157953a_32cd_11eb_ab12_3c528213d836row13_col0\" class=\"data row13 col0\" >Lasso Least Angle Regression</td>\n",
       "                        <td id=\"T_0157953a_32cd_11eb_ab12_3c528213d836row13_col1\" class=\"data row13 col1\" >1.4534</td>\n",
       "                        <td id=\"T_0157953a_32cd_11eb_ab12_3c528213d836row13_col2\" class=\"data row13 col2\" >4.3269</td>\n",
       "                        <td id=\"T_0157953a_32cd_11eb_ab12_3c528213d836row13_col3\" class=\"data row13 col3\" >2.0016</td>\n",
       "                        <td id=\"T_0157953a_32cd_11eb_ab12_3c528213d836row13_col4\" class=\"data row13 col4\" >-0.2747</td>\n",
       "                        <td id=\"T_0157953a_32cd_11eb_ab12_3c528213d836row13_col5\" class=\"data row13 col5\" >0.7435</td>\n",
       "                        <td id=\"T_0157953a_32cd_11eb_ab12_3c528213d836row13_col6\" class=\"data row13 col6\" >0.4629</td>\n",
       "                        <td id=\"T_0157953a_32cd_11eb_ab12_3c528213d836row13_col7\" class=\"data row13 col7\" >0.0110</td>\n",
       "            </tr>\n",
       "            <tr>\n",
       "                        <th id=\"T_0157953a_32cd_11eb_ab12_3c528213d836level0_row14\" class=\"row_heading level0 row14\" >dt</th>\n",
       "                        <td id=\"T_0157953a_32cd_11eb_ab12_3c528213d836row14_col0\" class=\"data row14 col0\" >Decision Tree Regressor</td>\n",
       "                        <td id=\"T_0157953a_32cd_11eb_ab12_3c528213d836row14_col1\" class=\"data row14 col1\" >0.9196</td>\n",
       "                        <td id=\"T_0157953a_32cd_11eb_ab12_3c528213d836row14_col2\" class=\"data row14 col2\" >3.4565</td>\n",
       "                        <td id=\"T_0157953a_32cd_11eb_ab12_3c528213d836row14_col3\" class=\"data row14 col3\" >1.8041</td>\n",
       "                        <td id=\"T_0157953a_32cd_11eb_ab12_3c528213d836row14_col4\" class=\"data row14 col4\" >-0.2892</td>\n",
       "                        <td id=\"T_0157953a_32cd_11eb_ab12_3c528213d836row14_col5\" class=\"data row14 col5\" >0.5540</td>\n",
       "                        <td id=\"T_0157953a_32cd_11eb_ab12_3c528213d836row14_col6\" class=\"data row14 col6\" >0.7429</td>\n",
       "                        <td id=\"T_0157953a_32cd_11eb_ab12_3c528213d836row14_col7\" class=\"data row14 col7\" >0.0120</td>\n",
       "            </tr>\n",
       "            <tr>\n",
       "                        <th id=\"T_0157953a_32cd_11eb_ab12_3c528213d836level0_row15\" class=\"row_heading level0 row15\" >lr</th>\n",
       "                        <td id=\"T_0157953a_32cd_11eb_ab12_3c528213d836row15_col0\" class=\"data row15 col0\" >Linear Regression</td>\n",
       "                        <td id=\"T_0157953a_32cd_11eb_ab12_3c528213d836row15_col1\" class=\"data row15 col1\" >1.1351</td>\n",
       "                        <td id=\"T_0157953a_32cd_11eb_ab12_3c528213d836row15_col2\" class=\"data row15 col2\" >3.2520</td>\n",
       "                        <td id=\"T_0157953a_32cd_11eb_ab12_3c528213d836row15_col3\" class=\"data row15 col3\" >1.7385</td>\n",
       "                        <td id=\"T_0157953a_32cd_11eb_ab12_3c528213d836row15_col4\" class=\"data row15 col4\" >-0.4266</td>\n",
       "                        <td id=\"T_0157953a_32cd_11eb_ab12_3c528213d836row15_col5\" class=\"data row15 col5\" >0.5768</td>\n",
       "                        <td id=\"T_0157953a_32cd_11eb_ab12_3c528213d836row15_col6\" class=\"data row15 col6\" >0.6966</td>\n",
       "                        <td id=\"T_0157953a_32cd_11eb_ab12_3c528213d836row15_col7\" class=\"data row15 col7\" >0.6000</td>\n",
       "            </tr>\n",
       "            <tr>\n",
       "                        <th id=\"T_0157953a_32cd_11eb_ab12_3c528213d836level0_row16\" class=\"row_heading level0 row16\" >par</th>\n",
       "                        <td id=\"T_0157953a_32cd_11eb_ab12_3c528213d836row16_col0\" class=\"data row16 col0\" >Passive Aggressive Regressor</td>\n",
       "                        <td id=\"T_0157953a_32cd_11eb_ab12_3c528213d836row16_col1\" class=\"data row16 col1\" >2.7040</td>\n",
       "                        <td id=\"T_0157953a_32cd_11eb_ab12_3c528213d836row16_col2\" class=\"data row16 col2\" >49.8622</td>\n",
       "                        <td id=\"T_0157953a_32cd_11eb_ab12_3c528213d836row16_col3\" class=\"data row16 col3\" >4.9473</td>\n",
       "                        <td id=\"T_0157953a_32cd_11eb_ab12_3c528213d836row16_col4\" class=\"data row16 col4\" >-15.6351</td>\n",
       "                        <td id=\"T_0157953a_32cd_11eb_ab12_3c528213d836row16_col5\" class=\"data row16 col5\" >0.7104</td>\n",
       "                        <td id=\"T_0157953a_32cd_11eb_ab12_3c528213d836row16_col6\" class=\"data row16 col6\" >1.8892</td>\n",
       "                        <td id=\"T_0157953a_32cd_11eb_ab12_3c528213d836row16_col7\" class=\"data row16 col7\" >0.0130</td>\n",
       "            </tr>\n",
       "            <tr>\n",
       "                        <th id=\"T_0157953a_32cd_11eb_ab12_3c528213d836level0_row17\" class=\"row_heading level0 row17\" >lar</th>\n",
       "                        <td id=\"T_0157953a_32cd_11eb_ab12_3c528213d836row17_col0\" class=\"data row17 col0\" >Least Angle Regression</td>\n",
       "                        <td id=\"T_0157953a_32cd_11eb_ab12_3c528213d836row17_col1\" class=\"data row17 col1\" >7703.8101</td>\n",
       "                        <td id=\"T_0157953a_32cd_11eb_ab12_3c528213d836row17_col2\" class=\"data row17 col2\" >1545888804.2501</td>\n",
       "                        <td id=\"T_0157953a_32cd_11eb_ab12_3c528213d836row17_col3\" class=\"data row17 col3\" >13018.4320</td>\n",
       "                        <td id=\"T_0157953a_32cd_11eb_ab12_3c528213d836row17_col4\" class=\"data row17 col4\" >-542510564.0134</td>\n",
       "                        <td id=\"T_0157953a_32cd_11eb_ab12_3c528213d836row17_col5\" class=\"data row17 col5\" >2.5913</td>\n",
       "                        <td id=\"T_0157953a_32cd_11eb_ab12_3c528213d836row17_col6\" class=\"data row17 col6\" >5098.4051</td>\n",
       "                        <td id=\"T_0157953a_32cd_11eb_ab12_3c528213d836row17_col7\" class=\"data row17 col7\" >0.0150</td>\n",
       "            </tr>\n",
       "    </tbody></table>"
      ],
      "text/plain": [
       "<pandas.io.formats.style.Styler at 0x157665390d0>"
      ]
     },
     "metadata": {},
     "output_type": "display_data"
    },
    {
     "data": {
      "text/plain": [
       "Lasso(alpha=1.0, copy_X=True, fit_intercept=True, max_iter=1000,\n",
       "      normalize=False, positive=False, precompute=False, random_state=0,\n",
       "      selection='cyclic', tol=0.0001, warm_start=False)"
      ]
     },
     "execution_count": 50,
     "metadata": {},
     "output_type": "execute_result"
    }
   ],
   "source": [
    "compare_models()"
   ]
  },
  {
   "cell_type": "markdown",
   "metadata": {},
   "source": [
    "### Linear Regression"
   ]
  },
  {
   "cell_type": "code",
   "execution_count": 51,
   "metadata": {},
   "outputs": [],
   "source": [
    "lr = LinearRegression()"
   ]
  },
  {
   "cell_type": "code",
   "execution_count": 52,
   "metadata": {},
   "outputs": [],
   "source": [
    "model1 = lr.fit(X_train,y_train)"
   ]
  },
  {
   "cell_type": "code",
   "execution_count": 53,
   "metadata": {},
   "outputs": [
    {
     "data": {
      "text/plain": [
       "LinearRegression(copy_X=True, fit_intercept=True, n_jobs=None, normalize=False)"
      ]
     },
     "execution_count": 53,
     "metadata": {},
     "output_type": "execute_result"
    }
   ],
   "source": [
    "model1"
   ]
  },
  {
   "cell_type": "code",
   "execution_count": 54,
   "metadata": {},
   "outputs": [],
   "source": [
    "lrprediction = model1.predict(X_test)"
   ]
  },
  {
   "cell_type": "code",
   "execution_count": 55,
   "metadata": {},
   "outputs": [
    {
     "data": {
      "text/plain": [
       "array([ 1.52302928,  0.52206879, -0.72297798,  0.63594962,  0.80806581,\n",
       "       -0.3672057 ,  3.11115833,  0.63505182,  0.19810741,  1.9885116 ,\n",
       "        2.17430917,  1.75831649, -0.5606298 ,  1.29492258, -0.28667605,\n",
       "       -0.25969866, -0.0579919 ,  0.40014286, -0.0264301 , -0.118329  ,\n",
       "        0.90519578, -0.6247919 ,  1.29413271,  1.1014569 , -0.1272126 ,\n",
       "        1.20515671,  1.89062302,  0.32272939,  0.91263411,  1.41336108,\n",
       "        0.30666462,  0.31243144,  2.98305746,  0.15288449,  0.6306367 ,\n",
       "       -0.41244754,  0.70707757,  2.91743896,  0.00654834, -0.12224363,\n",
       "        1.25507736,  1.35140372,  0.28827555,  0.24357661,  0.21489345,\n",
       "       -0.36687873, -0.81089688,  0.83234452,  2.7627294 , -0.03140478,\n",
       "        0.38029692,  4.80719401,  1.44298252, -0.80238205,  1.34335525,\n",
       "        0.27719264,  2.67624502,  0.27601275,  1.08075557, -0.20336378,\n",
       "       -0.51952615,  1.06713293,  0.42887705,  0.02500505,  2.31610025,\n",
       "        2.51743377, -0.72666368, -0.17666269,  0.98344387,  0.09863617,\n",
       "        3.15737503,  0.34253726,  1.27240564,  0.65861651,  2.43413688,\n",
       "        3.46900514,  2.62969856,  0.51160967])"
      ]
     },
     "execution_count": 55,
     "metadata": {},
     "output_type": "execute_result"
    }
   ],
   "source": [
    "lrprediction"
   ]
  },
  {
   "cell_type": "code",
   "execution_count": 56,
   "metadata": {},
   "outputs": [
    {
     "data": {
      "text/plain": [
       "array([ 2.,  1., -1.,  1.,  1., -0.,  3.,  1.,  0.,  2.,  2.,  2., -1.,\n",
       "        1., -0., -0., -0.,  0., -0., -0.,  1., -1.,  1.,  1., -0.,  1.,\n",
       "        2.,  0.,  1.,  1.,  0.,  0.,  3.,  0.,  1., -0.,  1.,  3.,  0.,\n",
       "       -0.,  1.,  1.,  0.,  0.,  0., -0., -1.,  1.,  3., -0.,  0.,  5.,\n",
       "        1., -1.,  1.,  0.,  3.,  0.,  1., -0., -1.,  1.,  0.,  0.,  2.,\n",
       "        3., -1., -0.,  1.,  0.,  3.,  0.,  1.,  1.,  2.,  3.,  3.,  1.])"
      ]
     },
     "execution_count": 56,
     "metadata": {},
     "output_type": "execute_result"
    }
   ],
   "source": [
    "lrprediction.round()"
   ]
  },
  {
   "cell_type": "markdown",
   "metadata": {},
   "source": [
    "### Model Evaluation"
   ]
  },
  {
   "cell_type": "code",
   "execution_count": 57,
   "metadata": {},
   "outputs": [
    {
     "data": {
      "text/plain": [
       "2.0384615384615383"
      ]
     },
     "execution_count": 57,
     "metadata": {},
     "output_type": "execute_result"
    }
   ],
   "source": [
    "mse = mean_squared_error(y_test,lrprediction.round())\n",
    "mse"
   ]
  },
  {
   "cell_type": "code",
   "execution_count": 58,
   "metadata": {},
   "outputs": [
    {
     "data": {
      "text/plain": [
       "1.427747014866968"
      ]
     },
     "execution_count": 58,
     "metadata": {},
     "output_type": "execute_result"
    }
   ],
   "source": [
    "rmse = np.sqrt(mse)\n",
    "rmse"
   ]
  },
  {
   "cell_type": "code",
   "execution_count": 59,
   "metadata": {},
   "outputs": [
    {
     "data": {
      "text/plain": [
       "0.31916996047430835"
      ]
     },
     "execution_count": 59,
     "metadata": {},
     "output_type": "execute_result"
    }
   ],
   "source": [
    "r2score = r2_score(y_test,lrprediction.round())\n",
    "r2score"
   ]
  },
  {
   "cell_type": "code",
   "execution_count": 60,
   "metadata": {},
   "outputs": [
    {
     "data": {
      "image/png": "[encoded data removed]",
      "text/plain": [
       "<Figure size 720x288 with 1 Axes>"
      ]
     },
     "metadata": {},
     "output_type": "display_data"
    }
   ],
   "source": [
    "fig, ax = plt.subplots(figsize=(10,4))\n",
    "sns.regplot(x=y_test, y=lrprediction.round(), ax=ax)\n",
    "plt.title(\"Plot to compare actual vs predicted - Linear Regression\")\n",
    "plt.ylabel(\"Predicted\")\n",
    "plt.xlabel(\"Actual\")\n",
    "plt.show()"
   ]
  },
  {
   "cell_type": "markdown",
   "metadata": {},
   "source": [
    "### Extra Trees Regressor"
   ]
  },
  {
   "cell_type": "code",
   "execution_count": 61,
   "metadata": {},
   "outputs": [],
   "source": [
    "et = ExtraTreesRegressor()"
   ]
  },
  {
   "cell_type": "code",
   "execution_count": 62,
   "metadata": {},
   "outputs": [],
   "source": [
    "model2 = et.fit(X_train,y_train)"
   ]
  },
  {
   "cell_type": "code",
   "execution_count": 63,
   "metadata": {},
   "outputs": [
    {
     "data": {
      "text/plain": [
       "ExtraTreesRegressor(bootstrap=False, ccp_alpha=0.0, criterion='mse',\n",
       "                    max_depth=None, max_features='auto', max_leaf_nodes=None,\n",
       "                    max_samples=None, min_impurity_decrease=0.0,\n",
       "                    min_impurity_split=None, min_samples_leaf=1,\n",
       "                    min_samples_split=2, min_weight_fraction_leaf=0.0,\n",
       "                    n_estimators=100, n_jobs=None, oob_score=False,\n",
       "                    random_state=None, verbose=0, warm_start=False)"
      ]
     },
     "execution_count": 63,
     "metadata": {},
     "output_type": "execute_result"
    }
   ],
   "source": [
    "model2"
   ]
  },
  {
   "cell_type": "code",
   "execution_count": 64,
   "metadata": {},
   "outputs": [],
   "source": [
    "etprediction = model2.predict(X_test)"
   ]
  },
  {
   "cell_type": "code",
   "execution_count": 65,
   "metadata": {},
   "outputs": [
    {
     "data": {
      "text/plain": [
       "array([0.17, 0.  , 0.  , 0.  , 0.  , 0.03, 3.21, 0.8 , 0.  , 1.71, 2.62,\n",
       "       1.28, 0.02, 0.  , 0.  , 0.01, 0.37, 0.32, 0.  , 0.48, 0.  , 0.  ,\n",
       "       1.16, 0.28, 0.  , 0.  , 2.32, 0.46, 0.05, 1.96, 0.  , 0.  , 0.03,\n",
       "       0.11, 0.02, 0.  , 0.  , 2.07, 0.  , 0.11, 0.03, 0.23, 0.08, 0.  ,\n",
       "       0.  , 0.  , 0.  , 0.  , 0.29, 0.  , 0.  , 4.35, 0.72, 0.  , 0.38,\n",
       "       0.  , 2.5 , 0.  , 0.04, 0.  , 0.  , 0.04, 0.  , 0.  , 1.16, 1.46,\n",
       "       0.  , 0.05, 0.44, 0.  , 1.54, 0.65, 0.  , 0.  , 1.79, 2.  , 1.89,\n",
       "       0.67])"
      ]
     },
     "execution_count": 65,
     "metadata": {},
     "output_type": "execute_result"
    }
   ],
   "source": [
    "etprediction"
   ]
  },
  {
   "cell_type": "code",
   "execution_count": 66,
   "metadata": {},
   "outputs": [
    {
     "data": {
      "text/plain": [
       "array([0., 0., 0., 0., 0., 0., 3., 1., 0., 2., 3., 1., 0., 0., 0., 0., 0.,\n",
       "       0., 0., 0., 0., 0., 1., 0., 0., 0., 2., 0., 0., 2., 0., 0., 0., 0.,\n",
       "       0., 0., 0., 2., 0., 0., 0., 0., 0., 0., 0., 0., 0., 0., 0., 0., 0.,\n",
       "       4., 1., 0., 0., 0., 2., 0., 0., 0., 0., 0., 0., 0., 1., 1., 0., 0.,\n",
       "       0., 0., 2., 1., 0., 0., 2., 2., 2., 1.])"
      ]
     },
     "execution_count": 66,
     "metadata": {},
     "output_type": "execute_result"
    }
   ],
   "source": [
    "etprediction.round()"
   ]
  },
  {
   "cell_type": "markdown",
   "metadata": {},
   "source": [
    "### Model Evaluation"
   ]
  },
  {
   "cell_type": "code",
   "execution_count": 67,
   "metadata": {},
   "outputs": [
    {
     "data": {
      "text/plain": [
       "2.282051282051282"
      ]
     },
     "execution_count": 67,
     "metadata": {},
     "output_type": "execute_result"
    }
   ],
   "source": [
    "mse = mean_squared_error(y_test,etprediction.round())\n",
    "mse"
   ]
  },
  {
   "cell_type": "code",
   "execution_count": 68,
   "metadata": {},
   "outputs": [
    {
     "data": {
      "text/plain": [
       "1.5106459817082498"
      ]
     },
     "execution_count": 68,
     "metadata": {},
     "output_type": "execute_result"
    }
   ],
   "source": [
    "rmse = np.sqrt(mse)\n",
    "rmse"
   ]
  },
  {
   "cell_type": "code",
   "execution_count": 69,
   "metadata": {},
   "outputs": [
    {
     "data": {
      "text/plain": [
       "0.2378129117259552"
      ]
     },
     "execution_count": 69,
     "metadata": {},
     "output_type": "execute_result"
    }
   ],
   "source": [
    "r2score = r2_score(y_test,etprediction.round())\n",
    "r2score"
   ]
  },
  {
   "cell_type": "code",
   "execution_count": 70,
   "metadata": {},
   "outputs": [
    {
     "data": {
      "image/png": "[encoded data removed]",
      "text/plain": [
       "<Figure size 720x288 with 1 Axes>"
      ]
     },
     "metadata": {},
     "output_type": "display_data"
    }
   ],
   "source": [
    "fig, ax = plt.subplots(figsize=(10,4))\n",
    "sns.regplot(x=y_test, y=etprediction.round(), ax=ax)\n",
    "plt.title(\"Plot to compare actual vs predicted - Extra Trees Regressor\")\n",
    "plt.ylabel(\"Predicted\")\n",
    "plt.xlabel(\"Actual\")\n",
    "plt.show()"
   ]
  },
  {
   "cell_type": "markdown",
   "metadata": {},
   "source": [
    "### Using XGBoost (Scikit-Learn)"
   ]
  },
  {
   "cell_type": "markdown",
   "metadata": {},
   "source": [
    "### Using RandomSearchCV"
   ]
  },
  {
   "cell_type": "code",
   "execution_count": 71,
   "metadata": {},
   "outputs": [],
   "source": [
    "model3 = XGBRegressor(random_state=0, n_estimators=100, objective='reg:squarederror')"
   ]
  },
  {
   "cell_type": "code",
   "execution_count": 72,
   "metadata": {},
   "outputs": [],
   "source": [
    "parameters = {'max_depth': np.arange(3,10,1),\n",
    "              'eta': np.arange(0.05,0.3,0.05),\n",
    "              'n_estimators':np.arange(100,1000,100),\n",
    "              'min_child_weight': np.arange(1,4,1),\n",
    "              'gamma':np.arange(0,10,2),\n",
    "              'subsample':np.arange(0.5,0.9,0.1),\n",
    "              'colsample_bytree':np.arange(0.5,0.9,0.1),\n",
    "              'reg_alpha':np.arange(0,1,0.1),\n",
    "              'reg_lambda':np.arange(0,1,0.1)\n",
    "             }"
   ]
  },
  {
   "cell_type": "code",
   "execution_count": 73,
   "metadata": {},
   "outputs": [],
   "source": [
    "randm = RandomizedSearchCV(estimator=model3, param_distributions = parameters, cv = 5, n_iter = 20, \n",
    "                           n_jobs=-1, scoring='neg_root_mean_squared_error')"
   ]
  },
  {
   "cell_type": "code",
   "execution_count": 74,
   "metadata": {},
   "outputs": [
    {
     "data": {
      "text/plain": [
       "RandomizedSearchCV(cv=5, error_score=nan,\n",
       "                   estimator=XGBRegressor(base_score=None, booster=None,\n",
       "                                          colsample_bylevel=None,\n",
       "                                          colsample_bynode=None,\n",
       "                                          colsample_bytree=None, gamma=None,\n",
       "                                          gpu_id=None, importance_type='gain',\n",
       "                                          interaction_constraints=None,\n",
       "                                          learning_rate=None,\n",
       "                                          max_delta_step=None, max_depth=None,\n",
       "                                          min_child_weight=None, missing=nan,\n",
       "                                          monotone_constraints=None,\n",
       "                                          n_...\n",
       "                                        'min_child_weight': array([1, 2, 3]),\n",
       "                                        'n_estimators': array([100, 200, 300, 400, 500, 600, 700, 800, 900]),\n",
       "                                        'reg_alpha': array([0. , 0.1, 0.2, 0.3, 0.4, 0.5, 0.6, 0.7, 0.8, 0.9]),\n",
       "                                        'reg_lambda': array([0. , 0.1, 0.2, 0.3, 0.4, 0.5, 0.6, 0.7, 0.8, 0.9]),\n",
       "                                        'subsample': array([0.5, 0.6, 0.7, 0.8])},\n",
       "                   pre_dispatch='2*n_jobs', random_state=None, refit=True,\n",
       "                   return_train_score=False,\n",
       "                   scoring='neg_root_mean_squared_error', verbose=0)"
      ]
     },
     "execution_count": 74,
     "metadata": {},
     "output_type": "execute_result"
    }
   ],
   "source": [
    "randm.fit(X_train, y_train)"
   ]
  },
  {
   "cell_type": "code",
   "execution_count": 75,
   "metadata": {},
   "outputs": [
    {
     "data": {
      "text/plain": [
       "XGBRegressor(base_score=0.5, booster='gbtree', colsample_bylevel=1,\n",
       "             colsample_bynode=1, colsample_bytree=0.6, eta=0.05, gamma=4,\n",
       "             gpu_id=-1, importance_type='gain', interaction_constraints='',\n",
       "             learning_rate=0.0500000007, max_delta_step=0, max_depth=5,\n",
       "             min_child_weight=3, missing=nan, monotone_constraints='()',\n",
       "             n_estimators=400, n_jobs=0, num_parallel_tree=1,\n",
       "             objective='reg:squarederror', random_state=0,\n",
       "             reg_alpha=0.7000000000000001, reg_lambda=0.30000000000000004,\n",
       "             scale_pos_weight=1, subsample=0.5, tree_method='exact',\n",
       "             validate_parameters=1, verbosity=None)"
      ]
     },
     "execution_count": 75,
     "metadata": {},
     "output_type": "execute_result"
    }
   ],
   "source": [
    "randm.best_estimator_"
   ]
  },
  {
   "cell_type": "code",
   "execution_count": 76,
   "metadata": {},
   "outputs": [
    {
     "data": {
      "text/plain": [
       "-1.3828418002128893"
      ]
     },
     "execution_count": 76,
     "metadata": {},
     "output_type": "execute_result"
    }
   ],
   "source": [
    "randm.best_score_"
   ]
  },
  {
   "cell_type": "code",
   "execution_count": 77,
   "metadata": {},
   "outputs": [
    {
     "data": {
      "text/plain": [
       "{'subsample': 0.5,\n",
       " 'reg_lambda': 0.30000000000000004,\n",
       " 'reg_alpha': 0.7000000000000001,\n",
       " 'n_estimators': 400,\n",
       " 'min_child_weight': 3,\n",
       " 'max_depth': 5,\n",
       " 'gamma': 4,\n",
       " 'eta': 0.05,\n",
       " 'colsample_bytree': 0.6}"
      ]
     },
     "execution_count": 77,
     "metadata": {},
     "output_type": "execute_result"
    }
   ],
   "source": [
    "randm.best_params_"
   ]
  },
  {
   "cell_type": "markdown",
   "metadata": {},
   "source": [
    "### Final Model"
   ]
  },
  {
   "cell_type": "code",
   "execution_count": 78,
   "metadata": {},
   "outputs": [],
   "source": [
    "xgbmodel = XGBRegressor(random_state=0, n_estimators=400, objective='reg:squarederror',\n",
    "                       subsample=0.5,reg_lambda=0.3,reg_alpha=0.7,min_child_weight=3,max_depth=5,\n",
    "                       gamma=4, eta=0.05,colsample_bytree=0.6)"
   ]
  },
  {
   "cell_type": "code",
   "execution_count": 79,
   "metadata": {},
   "outputs": [
    {
     "name": "stdout",
     "output_type": "stream",
     "text": [
      "[0]\tvalidation_0-rmse:1.75821\n",
      "Will train until validation_0-rmse hasn't improved in 10 rounds.\n",
      "[1]\tvalidation_0-rmse:1.71623\n",
      "[2]\tvalidation_0-rmse:1.68752\n",
      "[3]\tvalidation_0-rmse:1.64542\n",
      "[4]\tvalidation_0-rmse:1.62503\n",
      "[5]\tvalidation_0-rmse:1.58318\n",
      "[6]\tvalidation_0-rmse:1.56379\n",
      "[7]\tvalidation_0-rmse:1.54993\n",
      "[8]\tvalidation_0-rmse:1.52237\n",
      "[9]\tvalidation_0-rmse:1.49689\n",
      "[10]\tvalidation_0-rmse:1.47791\n",
      "[11]\tvalidation_0-rmse:1.46083\n",
      "[12]\tvalidation_0-rmse:1.43904\n",
      "[13]\tvalidation_0-rmse:1.43089\n",
      "[14]\tvalidation_0-rmse:1.41257\n",
      "[15]\tvalidation_0-rmse:1.39626\n",
      "[16]\tvalidation_0-rmse:1.38596\n",
      "[17]\tvalidation_0-rmse:1.37691\n",
      "[18]\tvalidation_0-rmse:1.37286\n",
      "[19]\tvalidation_0-rmse:1.36382\n",
      "[20]\tvalidation_0-rmse:1.35836\n",
      "[21]\tvalidation_0-rmse:1.35815\n",
      "[22]\tvalidation_0-rmse:1.35958\n",
      "[23]\tvalidation_0-rmse:1.35307\n",
      "[24]\tvalidation_0-rmse:1.35303\n",
      "[25]\tvalidation_0-rmse:1.34221\n",
      "[26]\tvalidation_0-rmse:1.33919\n",
      "[27]\tvalidation_0-rmse:1.33155\n",
      "[28]\tvalidation_0-rmse:1.33006\n",
      "[29]\tvalidation_0-rmse:1.33051\n",
      "[30]\tvalidation_0-rmse:1.33587\n",
      "[31]\tvalidation_0-rmse:1.33602\n",
      "[32]\tvalidation_0-rmse:1.32577\n",
      "[33]\tvalidation_0-rmse:1.33098\n",
      "[34]\tvalidation_0-rmse:1.33098\n",
      "[35]\tvalidation_0-rmse:1.32998\n",
      "[36]\tvalidation_0-rmse:1.33081\n",
      "[37]\tvalidation_0-rmse:1.33100\n",
      "[38]\tvalidation_0-rmse:1.32762\n",
      "[39]\tvalidation_0-rmse:1.31556\n",
      "[40]\tvalidation_0-rmse:1.31411\n",
      "[41]\tvalidation_0-rmse:1.31006\n",
      "[42]\tvalidation_0-rmse:1.30838\n",
      "[43]\tvalidation_0-rmse:1.30557\n",
      "[44]\tvalidation_0-rmse:1.30499\n",
      "[45]\tvalidation_0-rmse:1.30563\n",
      "[46]\tvalidation_0-rmse:1.30046\n",
      "[47]\tvalidation_0-rmse:1.29726\n",
      "[48]\tvalidation_0-rmse:1.29286\n",
      "[49]\tvalidation_0-rmse:1.29207\n",
      "[50]\tvalidation_0-rmse:1.29202\n",
      "[51]\tvalidation_0-rmse:1.29470\n",
      "[52]\tvalidation_0-rmse:1.29148\n",
      "[53]\tvalidation_0-rmse:1.28896\n",
      "[54]\tvalidation_0-rmse:1.28999\n",
      "[55]\tvalidation_0-rmse:1.29026\n",
      "[56]\tvalidation_0-rmse:1.28967\n",
      "[57]\tvalidation_0-rmse:1.28944\n",
      "[58]\tvalidation_0-rmse:1.28951\n",
      "[59]\tvalidation_0-rmse:1.28778\n",
      "[60]\tvalidation_0-rmse:1.28743\n",
      "[61]\tvalidation_0-rmse:1.29161\n",
      "[62]\tvalidation_0-rmse:1.28673\n",
      "[63]\tvalidation_0-rmse:1.28983\n",
      "[64]\tvalidation_0-rmse:1.29113\n",
      "[65]\tvalidation_0-rmse:1.29351\n",
      "[66]\tvalidation_0-rmse:1.29551\n",
      "[67]\tvalidation_0-rmse:1.30079\n",
      "[68]\tvalidation_0-rmse:1.30007\n",
      "[69]\tvalidation_0-rmse:1.30075\n",
      "[70]\tvalidation_0-rmse:1.29939\n",
      "[71]\tvalidation_0-rmse:1.29610\n",
      "[72]\tvalidation_0-rmse:1.29620\n",
      "Stopping. Best iteration:\n",
      "[62]\tvalidation_0-rmse:1.28673\n",
      "\n"
     ]
    },
    {
     "data": {
      "text/plain": [
       "XGBRegressor(base_score=0.5, booster='gbtree', colsample_bylevel=1,\n",
       "             colsample_bynode=1, colsample_bytree=0.6, eta=0.05, gamma=4,\n",
       "             gpu_id=-1, importance_type='gain', interaction_constraints='',\n",
       "             learning_rate=0.0500000007, max_delta_step=0, max_depth=5,\n",
       "             min_child_weight=3, missing=nan, monotone_constraints='()',\n",
       "             n_estimators=400, n_jobs=0, num_parallel_tree=1,\n",
       "             objective='reg:squarederror', random_state=0, reg_alpha=0.7,\n",
       "             reg_lambda=0.3, scale_pos_weight=1, subsample=0.5,\n",
       "             tree_method='exact', validate_parameters=1, verbosity=None)"
      ]
     },
     "execution_count": 79,
     "metadata": {},
     "output_type": "execute_result"
    }
   ],
   "source": [
    "xgbmodel.fit(X_train,y_train,eval_set=[(X_test,y_test)],eval_metric='rmse',early_stopping_rounds=10)"
   ]
  },
  {
   "cell_type": "code",
   "execution_count": 80,
   "metadata": {},
   "outputs": [],
   "source": [
    "y_pred = xgbmodel.predict(X_test)"
   ]
  },
  {
   "cell_type": "code",
   "execution_count": 81,
   "metadata": {},
   "outputs": [
    {
     "data": {
      "text/plain": [
       "array([1.693808  , 0.13319057, 0.05102912, 0.20768976, 0.20737144,\n",
       "       0.24536291, 2.4978304 , 0.986519  , 0.07461962, 2.6818886 ,\n",
       "       3.4523032 , 0.5945045 , 0.21168348, 0.43464845, 0.07461962,\n",
       "       0.43183863, 0.20026293, 1.6112388 , 0.13319057, 2.257338  ,\n",
       "       0.16788667, 0.07461962, 0.8828086 , 0.7581678 , 0.13319057,\n",
       "       0.35158795, 1.9784685 , 0.13319057, 0.33965206, 2.2176018 ,\n",
       "       0.13319057, 0.14977092, 2.1358585 , 0.3020173 , 0.31540662,\n",
       "       0.12845254, 0.08497405, 4.5722485 , 0.15236476, 0.22618872,\n",
       "       0.30875778, 2.0225163 , 0.1952821 , 0.07461962, 0.13319057,\n",
       "       0.13319057, 0.11582598, 0.19766909, 1.9202349 , 0.12877086,\n",
       "       0.20026293, 3.6903598 , 0.86935675, 0.13319057, 1.9299408 ,\n",
       "       0.08497405, 3.348646  , 0.07461962, 0.586531  , 0.07461962,\n",
       "       0.07461962, 0.5962136 , 0.25558794, 0.18085134, 0.89771414,\n",
       "       1.0833393 , 0.09924564, 0.15694445, 1.6898073 , 0.08497405,\n",
       "       2.3818989 , 0.12845254, 0.35158795, 0.39547715, 2.6168175 ,\n",
       "       3.8253388 , 3.27226   , 0.6519383 ], dtype=float32)"
      ]
     },
     "execution_count": 81,
     "metadata": {},
     "output_type": "execute_result"
    }
   ],
   "source": [
    "y_pred"
   ]
  },
  {
   "cell_type": "code",
   "execution_count": 82,
   "metadata": {},
   "outputs": [
    {
     "data": {
      "text/plain": [
       "array([2., 0., 0., 0., 0., 0., 2., 1., 0., 3., 3., 1., 0., 0., 0., 0., 0.,\n",
       "       2., 0., 2., 0., 0., 1., 1., 0., 0., 2., 0., 0., 2., 0., 0., 2., 0.,\n",
       "       0., 0., 0., 5., 0., 0., 0., 2., 0., 0., 0., 0., 0., 0., 2., 0., 0.,\n",
       "       4., 1., 0., 2., 0., 3., 0., 1., 0., 0., 1., 0., 0., 1., 1., 0., 0.,\n",
       "       2., 0., 2., 0., 0., 0., 3., 4., 3., 1.], dtype=float32)"
      ]
     },
     "execution_count": 82,
     "metadata": {},
     "output_type": "execute_result"
    }
   ],
   "source": [
    "y_pred.round()"
   ]
  },
  {
   "cell_type": "markdown",
   "metadata": {},
   "source": [
    "### Model Evaluation"
   ]
  },
  {
   "cell_type": "code",
   "execution_count": 83,
   "metadata": {},
   "outputs": [
    {
     "data": {
      "text/plain": [
       "1.655666687719013"
      ]
     },
     "execution_count": 83,
     "metadata": {},
     "output_type": "execute_result"
    }
   ],
   "source": [
    "mse = mean_squared_error(y_test,y_pred)\n",
    "mse"
   ]
  },
  {
   "cell_type": "code",
   "execution_count": 84,
   "metadata": {},
   "outputs": [
    {
     "data": {
      "text/plain": [
       "1.2867271224774166"
      ]
     },
     "execution_count": 84,
     "metadata": {},
     "output_type": "execute_result"
    }
   ],
   "source": [
    "rmse = np.sqrt(mse)\n",
    "rmse"
   ]
  },
  {
   "cell_type": "code",
   "execution_count": 85,
   "metadata": {},
   "outputs": [
    {
     "data": {
      "text/plain": [
       "0.4470204145760609"
      ]
     },
     "execution_count": 85,
     "metadata": {},
     "output_type": "execute_result"
    }
   ],
   "source": [
    "r2score = r2_score(y_test,y_pred)\n",
    "r2score"
   ]
  },
  {
   "cell_type": "code",
   "execution_count": 108,
   "metadata": {},
   "outputs": [
    {
     "data": {
      "image/png": "[encoded data removed]",
      "text/plain": [
       "<Figure size 720x576 with 1 Axes>"
      ]
     },
     "metadata": {},
     "output_type": "display_data"
    }
   ],
   "source": [
    "fig, ax = plt.subplots(figsize=(10,8))\n",
    "sns.regplot(x=y_test, y=y_pred.round(), ax=ax)\n",
    "plt.title(\"Plot to compare actual vs predicted - XGBoost\")\n",
    "plt.ylabel(\"Predicted\")\n",
    "plt.xlabel(\"Actual\")\n",
    "plt.show()"
   ]
  },
  {
   "cell_type": "markdown",
   "metadata": {},
   "source": [
    "### Plot Feature Importances (Extra Tree and XGBoost)"
   ]
  },
  {
   "cell_type": "code",
   "execution_count": 87,
   "metadata": {},
   "outputs": [
    {
     "data": {
      "text/plain": [
       "array([0.00002371, 0.01385562, 0.03296161, 0.00464944, 0.00149913,\n",
       "       0.00098501, 0.00020326, 0.00288917, 0.09225506, 0.06298913,\n",
       "       0.00828217, 0.07013692, 0.02320224, 0.01227223, 0.00075352,\n",
       "       0.00315433, 0.01444801, 0.02448371, 0.00714466, 0.00274756,\n",
       "       0.00176685, 0.00506808, 0.01110173, 0.00147041, 0.00071154,\n",
       "       0.00750516, 0.00548574, 0.00214961, 0.00813984, 0.00454469,\n",
       "       0.00369115, 0.04312089, 0.00354092, 0.00839973, 0.00377258,\n",
       "       0.00924342, 0.00740653, 0.02676879, 0.00381528, 0.02986567,\n",
       "       0.28322831, 0.15026656])"
      ]
     },
     "execution_count": 87,
     "metadata": {},
     "output_type": "execute_result"
    }
   ],
   "source": [
    "et.feature_importances_"
   ]
  },
  {
   "cell_type": "code",
   "execution_count": 88,
   "metadata": {},
   "outputs": [],
   "source": [
    "feat_importances = pd.Series(et.feature_importances_, index=X.columns)"
   ]
  },
  {
   "cell_type": "code",
   "execution_count": 89,
   "metadata": {},
   "outputs": [
    {
     "data": {
      "text/plain": [
       "Month_2        0.000024\n",
       "Month_3        0.013856\n",
       "Month_4        0.032962\n",
       "Month_5        0.004649\n",
       "Month_6        0.001499\n",
       "Month_7        0.000985\n",
       "Month_8        0.000203\n",
       "Month_9        0.002889\n",
       "Month_10       0.092255\n",
       "Month_11       0.062989\n",
       "Day_2          0.008282\n",
       "Day_3          0.070137\n",
       "Day_4          0.023202\n",
       "Day_5          0.012272\n",
       "Day_6          0.000754\n",
       "Day_7          0.003154\n",
       "Day_8          0.014448\n",
       "Day_9          0.024484\n",
       "Day_10         0.007145\n",
       "Day_11         0.002748\n",
       "Day_12         0.001767\n",
       "Day_13         0.005068\n",
       "Day_14         0.011102\n",
       "Day_15         0.001470\n",
       "Day_16         0.000712\n",
       "Day_17         0.007505\n",
       "Day_18         0.005486\n",
       "Day_19         0.002150\n",
       "Day_20         0.008140\n",
       "Day_21         0.004545\n",
       "Day_22         0.003691\n",
       "Day_23         0.043121\n",
       "Day_24         0.003541\n",
       "Day_25         0.008400\n",
       "Day_26         0.003773\n",
       "Day_27         0.009243\n",
       "Day_28         0.007407\n",
       "Day_29         0.026769\n",
       "Day_30         0.003815\n",
       "Day_31         0.029866\n",
       "ConfirmDiff    0.283228\n",
       "RecoverDiff    0.150267\n",
       "dtype: float64"
      ]
     },
     "execution_count": 89,
     "metadata": {},
     "output_type": "execute_result"
    }
   ],
   "source": [
    "feat_importances"
   ]
  },
  {
   "cell_type": "code",
   "execution_count": 90,
   "metadata": {},
   "outputs": [
    {
     "data": {
      "image/png": "[encoded data removed]",
      "text/plain": [
       "<Figure size 720x720 with 1 Axes>"
      ]
     },
     "metadata": {},
     "output_type": "display_data"
    }
   ],
   "source": [
    "feat_importances.nlargest(10).plot(kind='barh', figsize=(10,10))\n",
    "plt.title('Extra Tree Feature Importances')\n",
    "plt.show()"
   ]
  },
  {
   "cell_type": "code",
   "execution_count": 91,
   "metadata": {},
   "outputs": [
    {
     "data": {
      "text/plain": [
       "Index(['Month_2', 'Month_3', 'Month_4', 'Month_5', 'Month_6', 'Month_7', 'Month_8', 'Month_9', 'Month_10', 'Month_11', 'Day_2', 'Day_3', 'Day_4', 'Day_5', 'Day_6', 'Day_7', 'Day_8', 'Day_9', 'Day_10', 'Day_11', 'Day_12', 'Day_13', 'Day_14', 'Day_15', 'Day_16', 'Day_17', 'Day_18', 'Day_19', 'Day_20', 'Day_21', 'Day_22', 'Day_23', 'Day_24', 'Day_25', 'Day_26', 'Day_27', 'Day_28', 'Day_29', 'Day_30', 'Day_31', 'ConfirmDiff', 'RecoverDiff'], dtype='object')"
      ]
     },
     "execution_count": 91,
     "metadata": {},
     "output_type": "execute_result"
    }
   ],
   "source": [
    "X.columns"
   ]
  },
  {
   "cell_type": "code",
   "execution_count": 92,
   "metadata": {},
   "outputs": [],
   "source": [
    "xgbmodel.get_booster().feature_names = ['Month_2', 'Month_3', 'Month_4', 'Month_5', 'Month_6', 'Month_7', 'Month_8', 'Month_9', 'Month_10', 'Month_11', 'Day_2', 'Day_3', 'Day_4', 'Day_5', 'Day_6', 'Day_7', 'Day_8', 'Day_9', 'Day_10', 'Day_11', 'Day_12', 'Day_13', 'Day_14', 'Day_15', 'Day_16', 'Day_17', 'Day_18', 'Day_19', 'Day_20', 'Day_21', 'Day_22', 'Day_23', 'Day_24', 'Day_25', 'Day_26', 'Day_27', 'Day_28', 'Day_29', 'Day_30', 'Day_31', 'ConfirmDiff', 'RecoverDiff']"
   ]
  },
  {
   "cell_type": "code",
   "execution_count": 93,
   "metadata": {},
   "outputs": [
    {
     "data": {
      "image/png": "[encoded data removed]",
      "text/plain": [
       "<Figure size 1440x720 with 1 Axes>"
      ]
     },
     "metadata": {},
     "output_type": "display_data"
    }
   ],
   "source": [
    "fig, ax = plt.subplots(figsize=(20,10))\n",
    "xgb.plot_importance(xgbmodel.get_booster(),ax=ax,title='XGBoost Feature importance')\n",
    "plt.show()"
   ]
  },
  {
   "cell_type": "markdown",
   "metadata": {},
   "source": [
    "### Cross-Validation"
   ]
  },
  {
   "cell_type": "code",
   "execution_count": 94,
   "metadata": {},
   "outputs": [
    {
     "name": "stderr",
     "output_type": "stream",
     "text": [
      "[Parallel(n_jobs=1)]: Using backend SequentialBackend with 1 concurrent workers.\n",
      "[Parallel(n_jobs=1)]: Done   5 out of   5 | elapsed:    1.1s finished\n"
     ]
    }
   ],
   "source": [
    "cv = cross_val_score(xgbmodel,X,y,cv=5,verbose=1,scoring='neg_root_mean_squared_error')"
   ]
  },
  {
   "cell_type": "code",
   "execution_count": 95,
   "metadata": {},
   "outputs": [
    {
     "data": {
      "text/plain": [
       "-1.4765106892218895"
      ]
     },
     "execution_count": 95,
     "metadata": {},
     "output_type": "execute_result"
    }
   ],
   "source": [
    "cv.mean()"
   ]
  },
  {
   "cell_type": "markdown",
   "metadata": {},
   "source": [
    "### XGBoost Model Prediction on Test Dataset"
   ]
  },
  {
   "cell_type": "code",
   "execution_count": 98,
   "metadata": {},
   "outputs": [],
   "source": [
    "testref = pd.read_csv(\"testcovid.csv\")"
   ]
  },
  {
   "cell_type": "code",
   "execution_count": 99,
   "metadata": {},
   "outputs": [
    {
     "data": {
      "text/html": [
       "<div>\n",
       "<style scoped>\n",
       "    .dataframe tbody tr th:only-of-type {\n",
       "        vertical-align: middle;\n",
       "    }\n",
       "\n",
       "    .dataframe tbody tr th {\n",
       "        vertical-align: top;\n",
       "    }\n",
       "\n",
       "    .dataframe thead th {\n",
       "        text-align: right;\n",
       "    }\n",
       "</style>\n",
       "<table border=\"1\" class=\"dataframe\">\n",
       "  <thead>\n",
       "    <tr style=\"text-align: right;\">\n",
       "      <th></th>\n",
       "      <th>Month_2</th>\n",
       "      <th>Month_3</th>\n",
       "      <th>Month_4</th>\n",
       "      <th>Month_5</th>\n",
       "      <th>Month_6</th>\n",
       "      <th>Month_7</th>\n",
       "      <th>Month_8</th>\n",
       "      <th>Month_9</th>\n",
       "      <th>Month_10</th>\n",
       "      <th>Month_11</th>\n",
       "      <th>...</th>\n",
       "      <th>Day_25</th>\n",
       "      <th>Day_26</th>\n",
       "      <th>Day_27</th>\n",
       "      <th>Day_28</th>\n",
       "      <th>Day_29</th>\n",
       "      <th>Day_30</th>\n",
       "      <th>Day_31</th>\n",
       "      <th>ConfirmDiff</th>\n",
       "      <th>RecoverDiff</th>\n",
       "      <th>DeathsDiff</th>\n",
       "    </tr>\n",
       "  </thead>\n",
       "  <tbody>\n",
       "    <tr>\n",
       "      <th>0</th>\n",
       "      <td>0</td>\n",
       "      <td>0</td>\n",
       "      <td>0</td>\n",
       "      <td>0</td>\n",
       "      <td>0</td>\n",
       "      <td>0</td>\n",
       "      <td>0</td>\n",
       "      <td>0</td>\n",
       "      <td>0</td>\n",
       "      <td>1</td>\n",
       "      <td>...</td>\n",
       "      <td>0</td>\n",
       "      <td>1</td>\n",
       "      <td>0</td>\n",
       "      <td>0</td>\n",
       "      <td>0</td>\n",
       "      <td>0</td>\n",
       "      <td>0</td>\n",
       "      <td>935.0</td>\n",
       "      <td>2555.0</td>\n",
       "      <td>3.0</td>\n",
       "    </tr>\n",
       "    <tr>\n",
       "      <th>1</th>\n",
       "      <td>0</td>\n",
       "      <td>0</td>\n",
       "      <td>0</td>\n",
       "      <td>0</td>\n",
       "      <td>0</td>\n",
       "      <td>0</td>\n",
       "      <td>0</td>\n",
       "      <td>0</td>\n",
       "      <td>0</td>\n",
       "      <td>1</td>\n",
       "      <td>...</td>\n",
       "      <td>0</td>\n",
       "      <td>0</td>\n",
       "      <td>1</td>\n",
       "      <td>0</td>\n",
       "      <td>0</td>\n",
       "      <td>0</td>\n",
       "      <td>0</td>\n",
       "      <td>1109.0</td>\n",
       "      <td>1148.0</td>\n",
       "      <td>2.0</td>\n",
       "    </tr>\n",
       "    <tr>\n",
       "      <th>2</th>\n",
       "      <td>0</td>\n",
       "      <td>0</td>\n",
       "      <td>0</td>\n",
       "      <td>0</td>\n",
       "      <td>0</td>\n",
       "      <td>0</td>\n",
       "      <td>0</td>\n",
       "      <td>0</td>\n",
       "      <td>0</td>\n",
       "      <td>1</td>\n",
       "      <td>...</td>\n",
       "      <td>0</td>\n",
       "      <td>0</td>\n",
       "      <td>0</td>\n",
       "      <td>1</td>\n",
       "      <td>0</td>\n",
       "      <td>0</td>\n",
       "      <td>0</td>\n",
       "      <td>1315.0</td>\n",
       "      <td>1110.0</td>\n",
       "      <td>4.0</td>\n",
       "    </tr>\n",
       "  </tbody>\n",
       "</table>\n",
       "<p>3 rows × 43 columns</p>\n",
       "</div>"
      ],
      "text/plain": [
       "   Month_2  Month_3  Month_4  Month_5  Month_6  Month_7  Month_8  Month_9  Month_10  Month_11  ...  Day_25  Day_26  Day_27  Day_28  Day_29  Day_30  Day_31  ConfirmDiff  RecoverDiff  DeathsDiff\n",
       "0        0        0        0        0        0        0        0        0         0         1  ...       0       1       0       0       0       0       0        935.0       2555.0         3.0\n",
       "1        0        0        0        0        0        0        0        0         0         1  ...       0       0       1       0       0       0       0       1109.0       1148.0         2.0\n",
       "2        0        0        0        0        0        0        0        0         0         1  ...       0       0       0       1       0       0       0       1315.0       1110.0         4.0\n",
       "\n",
       "[3 rows x 43 columns]"
      ]
     },
     "execution_count": 99,
     "metadata": {},
     "output_type": "execute_result"
    }
   ],
   "source": [
    "testref"
   ]
  },
  {
   "cell_type": "code",
   "execution_count": 100,
   "metadata": {},
   "outputs": [],
   "source": [
    "testdata = pd.read_csv(\"testcovid2.csv\")"
   ]
  },
  {
   "cell_type": "code",
   "execution_count": 101,
   "metadata": {},
   "outputs": [
    {
     "data": {
      "text/html": [
       "<div>\n",
       "<style scoped>\n",
       "    .dataframe tbody tr th:only-of-type {\n",
       "        vertical-align: middle;\n",
       "    }\n",
       "\n",
       "    .dataframe tbody tr th {\n",
       "        vertical-align: top;\n",
       "    }\n",
       "\n",
       "    .dataframe thead th {\n",
       "        text-align: right;\n",
       "    }\n",
       "</style>\n",
       "<table border=\"1\" class=\"dataframe\">\n",
       "  <thead>\n",
       "    <tr style=\"text-align: right;\">\n",
       "      <th></th>\n",
       "      <th>Month_2</th>\n",
       "      <th>Month_3</th>\n",
       "      <th>Month_4</th>\n",
       "      <th>Month_5</th>\n",
       "      <th>Month_6</th>\n",
       "      <th>Month_7</th>\n",
       "      <th>Month_8</th>\n",
       "      <th>Month_9</th>\n",
       "      <th>Month_10</th>\n",
       "      <th>Month_11</th>\n",
       "      <th>...</th>\n",
       "      <th>Day_24</th>\n",
       "      <th>Day_25</th>\n",
       "      <th>Day_26</th>\n",
       "      <th>Day_27</th>\n",
       "      <th>Day_28</th>\n",
       "      <th>Day_29</th>\n",
       "      <th>Day_30</th>\n",
       "      <th>Day_31</th>\n",
       "      <th>ConfirmDiff</th>\n",
       "      <th>RecoverDiff</th>\n",
       "    </tr>\n",
       "  </thead>\n",
       "  <tbody>\n",
       "    <tr>\n",
       "      <th>0</th>\n",
       "      <td>0</td>\n",
       "      <td>0</td>\n",
       "      <td>0</td>\n",
       "      <td>0</td>\n",
       "      <td>0</td>\n",
       "      <td>0</td>\n",
       "      <td>0</td>\n",
       "      <td>0</td>\n",
       "      <td>0</td>\n",
       "      <td>1</td>\n",
       "      <td>...</td>\n",
       "      <td>0</td>\n",
       "      <td>0</td>\n",
       "      <td>1</td>\n",
       "      <td>0</td>\n",
       "      <td>0</td>\n",
       "      <td>0</td>\n",
       "      <td>0</td>\n",
       "      <td>0</td>\n",
       "      <td>935</td>\n",
       "      <td>2555</td>\n",
       "    </tr>\n",
       "    <tr>\n",
       "      <th>1</th>\n",
       "      <td>0</td>\n",
       "      <td>0</td>\n",
       "      <td>0</td>\n",
       "      <td>0</td>\n",
       "      <td>0</td>\n",
       "      <td>0</td>\n",
       "      <td>0</td>\n",
       "      <td>0</td>\n",
       "      <td>0</td>\n",
       "      <td>1</td>\n",
       "      <td>...</td>\n",
       "      <td>0</td>\n",
       "      <td>0</td>\n",
       "      <td>0</td>\n",
       "      <td>1</td>\n",
       "      <td>0</td>\n",
       "      <td>0</td>\n",
       "      <td>0</td>\n",
       "      <td>0</td>\n",
       "      <td>1109</td>\n",
       "      <td>1148</td>\n",
       "    </tr>\n",
       "    <tr>\n",
       "      <th>2</th>\n",
       "      <td>0</td>\n",
       "      <td>0</td>\n",
       "      <td>0</td>\n",
       "      <td>0</td>\n",
       "      <td>0</td>\n",
       "      <td>0</td>\n",
       "      <td>0</td>\n",
       "      <td>0</td>\n",
       "      <td>0</td>\n",
       "      <td>1</td>\n",
       "      <td>...</td>\n",
       "      <td>0</td>\n",
       "      <td>0</td>\n",
       "      <td>0</td>\n",
       "      <td>0</td>\n",
       "      <td>1</td>\n",
       "      <td>0</td>\n",
       "      <td>0</td>\n",
       "      <td>0</td>\n",
       "      <td>1315</td>\n",
       "      <td>1110</td>\n",
       "    </tr>\n",
       "  </tbody>\n",
       "</table>\n",
       "<p>3 rows × 42 columns</p>\n",
       "</div>"
      ],
      "text/plain": [
       "   Month_2  Month_3  Month_4  Month_5  Month_6  Month_7  Month_8  Month_9  Month_10  Month_11  ...  Day_24  Day_25  Day_26  Day_27  Day_28  Day_29  Day_30  Day_31  ConfirmDiff  RecoverDiff\n",
       "0        0        0        0        0        0        0        0        0         0         1  ...       0       0       1       0       0       0       0       0          935         2555\n",
       "1        0        0        0        0        0        0        0        0         0         1  ...       0       0       0       1       0       0       0       0         1109         1148\n",
       "2        0        0        0        0        0        0        0        0         0         1  ...       0       0       0       0       1       0       0       0         1315         1110\n",
       "\n",
       "[3 rows x 42 columns]"
      ]
     },
     "execution_count": 101,
     "metadata": {},
     "output_type": "execute_result"
    }
   ],
   "source": [
    "testdata"
   ]
  },
  {
   "cell_type": "code",
   "execution_count": 102,
   "metadata": {},
   "outputs": [],
   "source": [
    "testprediction = xgbmodel.predict(testdata)"
   ]
  },
  {
   "cell_type": "code",
   "execution_count": 104,
   "metadata": {},
   "outputs": [
    {
     "data": {
      "text/plain": [
       "array([2.6429937, 3.0189664, 2.5625987], dtype=float32)"
      ]
     },
     "execution_count": 104,
     "metadata": {},
     "output_type": "execute_result"
    }
   ],
   "source": [
    "testprediction"
   ]
  },
  {
   "cell_type": "code",
   "execution_count": 105,
   "metadata": {},
   "outputs": [
    {
     "data": {
      "text/plain": [
       "array([3., 3., 3.], dtype=float32)"
      ]
     },
     "execution_count": 105,
     "metadata": {},
     "output_type": "execute_result"
    }
   ],
   "source": [
    "testprediction.round()"
   ]
  },
  {
   "cell_type": "code",
   "execution_count": 106,
   "metadata": {},
   "outputs": [
    {
     "data": {
      "text/plain": [
       "0    3.0\n",
       "1    2.0\n",
       "2    4.0\n",
       "Name: DeathsDiff, dtype: float64"
      ]
     },
     "execution_count": 106,
     "metadata": {},
     "output_type": "execute_result"
    }
   ],
   "source": [
    "testref[\"DeathsDiff\"]"
   ]
  },
  {
   "cell_type": "markdown",
   "metadata": {},
   "source": [
    "### Save the Model"
   ]
  },
  {
   "cell_type": "code",
   "execution_count": 107,
   "metadata": {},
   "outputs": [],
   "source": [
    "filename = 'covidmodelNN.sav'\n",
    "dump(xgbmodel,open(filename,'wb'))"
   ]
  },
  {
   "cell_type": "code",
   "execution_count": null,
   "metadata": {},
   "outputs": [],
   "source": []
  }
 ],
 "metadata": {
  "kernelspec": {
   "display_name": "Python 3",
   "language": "python",
   "name": "python3"
  },
  "language_info": {
   "codemirror_mode": {
    "name": "ipython",
    "version": 3
   },
   "file_extension": ".py",
   "mimetype": "text/x-python",
   "name": "python",
   "nbconvert_exporter": "python",
   "pygments_lexer": "ipython3",
   "version": "3.8.3"
  }
 },
 "nbformat": 4,
 "nbformat_minor": 4
}
