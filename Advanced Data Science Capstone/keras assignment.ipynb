{
 "cells": [
  {
   "cell_type": "code",
   "execution_count": 1,
   "metadata": {},
   "outputs": [
    {
     "name": "stdout",
     "output_type": "stream",
     "text": [
      "3.5.4\n"
     ]
    }
   ],
   "source": [
    "from platform import python_version\n",
    "\n",
    "print(python_version())"
   ]
  },
  {
   "cell_type": "code",
   "execution_count": 2,
   "metadata": {},
   "outputs": [
    {
     "name": "stdout",
     "output_type": "stream",
     "text": [
      "Collecting numpy==1.16.4\n",
      "\u001b[?25l  Downloading https://files.pythonhosted.org/packages/bb/ef/d5a21cbc094d3f4d5b5336494dbcc9550b70c766a8345513c7c24ed18418/numpy-1.16.4-cp35-cp35m-manylinux1_x86_64.whl (17.2MB)\n",
      "\u001b[K     |████████████████████████████████| 17.2MB 3.1MB/s eta 0:00:01    |███████▌                        | 4.1MB 2.2MB/s eta 0:00:06            | 7.6MB 5.7MB/s eta 0:00:02\n",
      "\u001b[?25hInstalling collected packages: numpy\n",
      "  Found existing installation: numpy 1.17.0\n",
      "    Uninstalling numpy-1.17.0:\n",
      "      Successfully uninstalled numpy-1.17.0\n",
      "Successfully installed numpy-1.16.4\n",
      "\u001b[33mWARNING: You are using pip version 19.2.2, however version 19.2.3 is available.\n",
      "You should consider upgrading via the 'pip install --upgrade pip' command.\u001b[0m\n"
     ]
    }
   ],
   "source": [
    "!pip install numpy==1.16.4\n",
    "import numpy as np"
   ]
  },
  {
   "cell_type": "code",
   "execution_count": 3,
   "metadata": {},
   "outputs": [
    {
     "name": "stderr",
     "output_type": "stream",
     "text": [
      "/home/nbuser/anaconda3_420/lib/python3.5/site-packages/h5py/__init__.py:36: FutureWarning: Conversion of the second argument of issubdtype from `float` to `np.floating` is deprecated. In future, it will be treated as `np.float64 == np.dtype(float).type`.\n",
      "  from ._conv import register_converters as _register_converters\n",
      "Using TensorFlow backend.\n"
     ]
    }
   ],
   "source": [
    "import pip\n",
    "\n",
    "try:\n",
    "    __import__('keras')\n",
    "except ImportError:\n",
    "    pip.main(['install', 'keras']) \n",
    "    \n",
    "try:\n",
    "    __import__('h5py')\n",
    "except ImportError:\n",
    "    pip.main(['install', 'h5py']) \n",
    "\n",
    "import numpy as np\n",
    "from keras.models import Sequential\n",
    "from keras.layers import Dense, Dropout\n",
    "from keras.utils import to_categorical\n",
    "\n",
    "seed = 1337\n",
    "np.random.seed(seed)"
   ]
  },
  {
   "cell_type": "code",
   "execution_count": 4,
   "metadata": {},
   "outputs": [],
   "source": [
    "from keras.datasets import reuters\n",
    "\n",
    "max_words = 1000\n",
    "\n",
    "np_load_old = np.load\n",
    "np.load = lambda *a: np_load_old(*a, allow_pickle=True)\n",
    "(x_train, y_train), (x_test, y_test) = reuters.load_data(num_words=max_words, test_split=0.2, seed=seed)\n",
    "np.load = np_load_old\n",
    "\n",
    "\n",
    "num_classes = np.max(y_train) + 1  # 46 topics\n",
    "\n",
    "\n"
   ]
  },
  {
   "cell_type": "code",
   "execution_count": 5,
   "metadata": {},
   "outputs": [],
   "source": [
    "from keras.preprocessing.text import Tokenizer\n",
    "\n",
    "tokenizer = Tokenizer(num_words=max_words)\n",
    "x_train = tokenizer.sequences_to_matrix(x_train, mode='binary')\n",
    "x_test = tokenizer.sequences_to_matrix(x_test, mode='binary')"
   ]
  },
  {
   "cell_type": "code",
   "execution_count": 6,
   "metadata": {},
   "outputs": [],
   "source": [
    "y_train = to_categorical(y_train, num_classes)\n",
    "y_test = to_categorical(y_test, num_classes)"
   ]
  },
  {
   "cell_type": "code",
   "execution_count": 7,
   "metadata": {},
   "outputs": [],
   "source": [
    "model = Sequential()  # Instantiate sequential model\n",
    "model.add(Dense(512, activation ='relu', input_shape=(max_words,)))# Add first layer. Make sure to specify input shape\n",
    "model.add(Dropout(0.5)) # Add second layer\n",
    "model.add(Dense(num_classes, activation='softmax')) # Add third layer"
   ]
  },
  {
   "cell_type": "code",
   "execution_count": 8,
   "metadata": {},
   "outputs": [
    {
     "name": "stdout",
     "output_type": "stream",
     "text": [
      "Epoch 1/5\n",
      "8982/8982 [==============================] - 24s - loss: 1.3934 - acc: 0.6900    \n",
      "Epoch 2/5\n",
      "8982/8982 [==============================] - 23s - loss: 0.7729 - acc: 0.8185    \n",
      "Epoch 3/5\n",
      "8982/8982 [==============================] - 19s - loss: 0.5553 - acc: 0.8654    \n",
      "Epoch 4/5\n",
      "8982/8982 [==============================] - 17s - loss: 0.4217 - acc: 0.8938    \n",
      "Epoch 5/5\n",
      "8982/8982 [==============================] - 16s - loss: 0.3470 - acc: 0.9108    \n",
      "2208/2246 [============================>.] - ETA: 0s"
     ]
    }
   ],
   "source": [
    "model.compile(loss='categorical_crossentropy', optimizer='adam', metrics=['accuracy'])\n",
    "batch_size = 32\n",
    "model.fit(x_train, y_train, epochs=5, batch_size=batch_size)\n",
    "score = model.evaluate(x_test,y_test,batch_size=batch_size)"
   ]
  },
  {
   "cell_type": "code",
   "execution_count": 9,
   "metadata": {},
   "outputs": [
    {
     "data": {
      "text/plain": [
       "0.8023152270703473"
      ]
     },
     "execution_count": 9,
     "metadata": {},
     "output_type": "execute_result"
    }
   ],
   "source": [
    "score[1]"
   ]
  },
  {
   "cell_type": "code",
   "execution_count": 10,
   "metadata": {},
   "outputs": [],
   "source": [
    "model.save(\"model.h5\")  # upload this file to the grader in the next code block"
   ]
  },
  {
   "cell_type": "code",
   "execution_count": 11,
   "metadata": {},
   "outputs": [],
   "source": [
    "!base64 model.h5 > model.h5.base64"
   ]
  },
  {
   "cell_type": "code",
   "execution_count": 12,
   "metadata": {},
   "outputs": [
    {
     "name": "stdout",
     "output_type": "stream",
     "text": [
      "--2019-09-02 22:27:52--  https://raw.githubusercontent.com/IBM/coursera/master/rklib.py\n",
      "Resolving webproxy (webproxy)... 10.36.66.1\n",
      "Connecting to webproxy (webproxy)|10.36.66.1|:3128... connected.\n",
      "Proxy request sent, awaiting response... 200 OK\n",
      "Length: 2540 (2.5K) [text/plain]\n",
      "Saving to: ‘rklib.py’\n",
      "\n",
      "rklib.py            100%[===================>]   2.48K  --.-KB/s    in 0s      \n",
      "\n",
      "2019-09-02 22:27:52 (6.16 MB/s) - ‘rklib.py’ saved [2540/2540]\n",
      "\n"
     ]
    }
   ],
   "source": [
    "!rm -f rklib.py\n",
    "!wget https://raw.githubusercontent.com/IBM/coursera/master/rklib.py"
   ]
  },
  {
   "cell_type": "code",
   "execution_count": 13,
   "metadata": {},
   "outputs": [],
   "source": [
    "# %load rklib.py\n",
    "import requests, json\n",
    "import zipfile\n",
    "import os\n",
    "\n",
    "def submit(submitterEmail,secret,key,submission_part, all_parts, data):\n",
    "        submission = {\n",
    "                    \"assignmentKey\": key,\n",
    "                    \"submitterEmail\":  submitterEmail,\n",
    "                    \"secret\":  secret,\n",
    "                    \"parts\": {}\n",
    "                  }\n",
    "        for part in all_parts:\n",
    "            if part == submission_part:\n",
    "                submission[\"parts\"][part] = {\"output\": data}\n",
    "            else:\n",
    "                submission[\"parts\"][part] = dict()\n",
    "        response = requests.post('https://www.coursera.org/api/onDemandProgrammingScriptSubmissions.v1', data=json.dumps(submission))\n",
    "        if response.status_code == 201:\n",
    "            print (\"Submission successful, please check on the coursera grader page for the status\")\n",
    "            print (\"-------------------------\")\n",
    "            print (response.text)\n",
    "            print (\"-------------------------\")\n",
    "        else:\n",
    "            print (\"Something went wrong, please have a look at the reponse of the grader\")\n",
    "            print (\"-------------------------\")\n",
    "            print (response.text)\n",
    "            print (\"-------------------------\")\n",
    "            \n",
    "def submitAll(submitterEmail,secret,key,parts_and_data):\n",
    "        submission = {\n",
    "                    \"assignmentKey\": key,\n",
    "                    \"submitterEmail\":  submitterEmail,\n",
    "                    \"secret\":  secret,\n",
    "                    \"parts\": {}\n",
    "                  }\n",
    "        for part, output in parts_and_data.items():\n",
    "            if output is not None:\n",
    "                submission[\"parts\"][part] = {\"output\": output}\n",
    "            else:\n",
    "                submission[\"parts\"][part] = dict()\n",
    "        response = requests.post('https://www.coursera.org/api/onDemandProgrammingScriptSubmissions.v1', data=json.dumps(submission))\n",
    "        if response.status_code == 201:\n",
    "            print (\"Submission successful, please check on the coursera grader page for the status\")\n",
    "            print (\"-------------------------\")\n",
    "            print (response.text)\n",
    "            print (\"-------------------------\")\n",
    "        else:\n",
    "            print (\"Something went wrong, please have a look at the reponse of the grader\")\n",
    "            print (\"-------------------------\")\n",
    "            print (response.text)\n",
    "            print (\"-------------------------\")\n",
    "\n",
    "\n",
    "def zipit(target, path):\n",
    "    zipf = zipfile.ZipFile(target, 'w', zipfile.ZIP_DEFLATED)\n",
    "    for root, dirs, files in os.walk(path):\n",
    "        for file in files:\n",
    "            zipf.write(os.path.join(root, file))\n",
    "    zipf.close()\n"
   ]
  },
  {
   "cell_type": "code",
   "execution_count": 14,
   "metadata": {},
   "outputs": [
    {
     "name": "stdout",
     "output_type": "stream",
     "text": [
      "Submission successful, please check on the coursera grader page for the status\n",
      "-------------------------\n",
      "{\"elements\":[{\"itemId\":\"ozVf2\",\"id\":\"tE4j0qhMEeecqgpT6QjMdA~ozVf2~8eTct83QEemH3Aqun-E-ng\",\"courseId\":\"tE4j0qhMEeecqgpT6QjMdA\"}],\"paging\":{},\"linked\":{}}\n",
      "-------------------------\n"
     ]
    }
   ],
   "source": [
    "key = \"XbAMqtjdEeepUgo7OOVwng\"\n",
    "part = \"LqPRQ\"\n",
    "email = \"dennislamcv@gmail.com\"\n",
    "secret = \"AEoxC9hTjjQpG9IH\"\n",
    "\n",
    "with open('model.h5.base64', 'r') as myfile:\n",
    "    data=myfile.read()\n",
    "submit(email, secret, key, part, [part], data)"
   ]
  },
  {
   "cell_type": "code",
   "execution_count": null,
   "metadata": {},
   "outputs": [],
   "source": []
  }
 ],
 "metadata": {
  "kernelspec": {
   "display_name": "Python 3",
   "language": "python",
   "name": "python3"
  },
  "language_info": {
   "codemirror_mode": {
    "name": "ipython",
    "version": 3
   },
   "file_extension": ".py",
   "mimetype": "text/x-python",
   "name": "python",
   "nbconvert_exporter": "python",
   "pygments_lexer": "ipython3",
   "version": "3.5.4"
  },
  "widgets": {
   "application/vnd.jupyter.widget-state+json": {
    "state": {},
    "version_major": 2,
    "version_minor": 0
   }
  }
 },
 "nbformat": 4,
 "nbformat_minor": 2
}
